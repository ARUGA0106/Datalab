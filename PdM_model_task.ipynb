{
  "nbformat": 4,
  "nbformat_minor": 0,
  "metadata": {
    "colab": {
      "provenance": []
    },
    "kernelspec": {
      "name": "python3",
      "display_name": "Python 3"
    },
    "language_info": {
      "name": "python"
    }
  },
  "cells": [
    {
      "cell_type": "markdown",
      "source": [
        "\n",
        "# predictive maintanance Using Machine Learning\n",
        "\n",
        "**Author**: Godwin S. Aruga  \n",
        "**Organization**: Department of Electronics and telecommunication Engineering, Dar es salaam institute of technology, Tanzania\n",
        "\n",
        "## Background\n",
        "\n",
        "In the industrial setting, predictive maintenance is a crucial aspect of ensuring continuous and efficient operations. Maintenance delays can lead to unexpected downtimes, impacting productivity and incurring high costs. The goal of this project is to develop a machine learning model that can predict the number of days until maintenance is required based on various parameters such as power, current, voltage, pressure, and conductivity. This predictive capability enables proactive maintenance scheduling, thereby reducing downtime and maintenance costs.\n",
        "\n",
        "## Dataset\n",
        "\n",
        "The dataset used for this project contains the following features:\n",
        "- **Power (KW)**\n",
        "- **Current (mA)**\n",
        "- **Voltage (V)**\n",
        "- **Pressure**\n",
        "- **Conductivity**\n",
        "\n",
        "The target variable is the number of days until maintenance (`maintenance_days`).\n",
        "\n",
        "## Algorithm Comparison and Selection\n",
        "\n",
        "To identify the best model for predicting maintenance days, we compared the performance of two popular regression algorithms:\n",
        "\n",
        "1. **Random Forest Regressor**\n",
        "2. **Gradient Boosting Regressor**\n",
        "\n",
        "### Model Training and Evaluation\n",
        "\n",
        "#### Random Forest Regressor\n",
        "\n",
        "- **Hyperparameters**:\n",
        "  - `max_depth`: 10\n",
        "  - `max_features`: 'sqrt'\n",
        "  - `n_estimators`: 100\n",
        "- **Performance**:\n",
        "  - Train MAE: 2.13\n",
        "  - Test MAE: 3.64\n",
        "  - Train MSE: 6.95\n",
        "  - Test MSE: 21.12\n",
        "  - Train R²: 0.64\n",
        "  - Test R²: -0.10\n",
        "\n",
        "#### Gradient Boosting Regressor\n",
        "\n",
        "- **Hyperparameters**:\n",
        "  - `learning_rate`: 0.01\n",
        "  - `max_depth`: 3\n",
        "  - `n_estimators`: 100\n",
        "- **Performance**:\n",
        "  - Train MAE: 3.26\n",
        "  - Test MAE: 3.57\n",
        "  - Train MSE: 16.59\n",
        "  - Test MSE: 19.66\n",
        "  - Train R²: 0.13\n",
        "  - Test R²: -0.03\n",
        "\n",
        "### Algorithm Selection\n",
        "\n",
        "Based on the evaluation metrics, both models exhibited similar performance on the test set with the Random Forest Regressor slightly outperforming the Gradient Boosting Regressor in terms of mean squared error (MSE). However, both models showed signs of overfitting as indicated by the negative R² scores on the test set. Ultimately, the Random Forest Regressor was selected for further analysis due to its marginally better performance.\n",
        "\n",
        "## Model Output and Use Case\n",
        "\n",
        "The chosen model is used to predict the number of days until maintenance is required based on the input parameters. Additionally, a simple heuristic logic was developed to determine the state of the machine (stable or unstable) based on specific parameter thresholds.\n",
        "\n",
        "### Heuristic Logic for Maintenance Prediction\n",
        "\n",
        "```python\n",
        "def determine_maintenance_days(power, current, voltage, pressure, conductivity):\n",
        "    if (current < 2.5 or current > 3.5):\n",
        "        return 40  # High maintenance days\n",
        "    elif (voltage < 210 or voltage > 230):\n",
        "        return 35  # Moderate maintenance days\n",
        "    elif (pressure < 1.5 or pressure > 2.5):\n",
        "        return 30  # Low maintenance days\n",
        "    elif (conductivity < 80 or conductivity > 120):\n",
        "        return 25  # Very low maintenance days\n",
        "    else:\n",
        "        return 20  # Minimum maintenance days\n",
        "\n",
        "def determine_machine_state(current, voltage, pressure, conductivity):\n",
        "    if (current < 2.5 or current > 3.5) or (voltage < 210 or voltage > 230) or (pressure < 1.5 or pressure > 2.5):\n",
        "        return \"Unstable\"\n",
        "    else:\n",
        "        return \"Stable\"\n",
        "```\n",
        "\n",
        "### Use Case\n",
        "\n",
        "A user can input the parameters of their industrial machinery, and the model will predict the number of days until maintenance is required. Additionally, the heuristic logic provides an immediate indication of whether the machine is in a stable or unstable state, allowing for quick decision-making.\n",
        "\n",
        "### Streamlit Interface\n",
        "\n",
        "The following code snippet shows how a Streamlit interface can be built to interact with the model:\n",
        "\n",
        "```python\n",
        "import streamlit as st\n",
        "\n",
        "# Streamlit interface\n",
        "def main():\n",
        "    st.title('Maintenance Days Prediction')\n",
        "    st.write('Enter the following parameters to predict maintenance days and the state of the machine:')\n",
        "    \n",
        "    # Input fields for user to enter data\n",
        "    power = st.number_input('Power (KW)', min_value=0.0, max_value=200.0, value=100.0)\n",
        "    current = st.number_input('Current (mA)', min_value=0.0, max_value=10.0, value=3.0)\n",
        "    voltage = st.number_input('Voltage (V)', min_value=0.0, max_value=300.0, value=220.0)\n",
        "    pressure = st.number_input('Pressure', min_value=0.0, max_value=5.0, value=2.0)\n",
        "    conductivity = st.number_input('Conductivity', min_value=0.0, max_value=200.0, value=100.0)\n",
        "    \n",
        "    # Predict button\n",
        "    if st.button('Predict'):\n",
        "        # Perform prediction\n",
        "        prediction = determine_maintenance_days(power, current, voltage, pressure, conductivity)\n",
        "        state = determine_machine_state(current, voltage, pressure, conductivity)\n",
        "        \n",
        "        st.success(f'Maintenance due days: {prediction}')\n",
        "        st.info(f'Machine state: {state}')\n",
        "\n",
        "if __name__ == '__main__':\n",
        "    main()\n",
        "```\n",
        "\n",
        "### Visualization and Analysis\n",
        "\n",
        "To better understand and interpret the model's predictions, the following visualizations were implemented:\n",
        "\n",
        "- **Learning Curve**: Helps in diagnosing if the model is overfitting or underfitting.\n",
        "- **Prediction Error Plot**: Compares the errors between actual and predicted values.\n",
        "- **Partial Dependence Plot**: Shows the relationship between a feature and the target variable.\n",
        "- **SHAP Values**: Explains the output of the model by showing the impact of each feature on the prediction.\n",
        "\n",
        "## Conclusion\n",
        "\n",
        "The implementation of the predictive maintenance model provides a valuable tool for industrial settings, enabling proactive maintenance scheduling and reducing downtime. The Streamlit interface allows for easy user interaction, and the additional visualizations offer deeper insights into the model's behavior and performance.\n",
        " with love\n",
        "\n",
        " G.S ARUGA"
      ],
      "metadata": {
        "id": "lNKgy9wcTci2"
      }
    },
    {
      "cell_type": "markdown",
      "source": [
        "DATA PROCESSING\n"
      ],
      "metadata": {
        "id": "34vIBsY3NOEr"
      }
    },
    {
      "cell_type": "markdown",
      "source": [
        "Loading Data set\n"
      ],
      "metadata": {
        "id": "Z8wbnCXENTJO"
      }
    },
    {
      "cell_type": "code",
      "source": [
        "import pandas as pd\n",
        "import numpy as np\n",
        "from sklearn.model_selection import train_test_split\n",
        "from sklearn.preprocessing import StandardScaler\n",
        "# Load the dataset\n",
        "df = pd.read_csv('data.csv')\n",
        "\n",
        "# Inspect the dataset\n",
        "print(df.head())\n",
        "\n"
      ],
      "metadata": {
        "colab": {
          "base_uri": "https://localhost:8080/"
        },
        "id": "3pQTl0lrmBAK",
        "outputId": "641d7095-cba7-4e13-ce5a-a2a8a2f34ff4"
      },
      "execution_count": 5,
      "outputs": [
        {
          "output_type": "stream",
          "name": "stdout",
          "text": [
            "   Pressure  Conductivity   Current     Voltage      Power      Load  \\\n",
            "0  2.248357    118.523551  3.699678  227.783611  86.496435  7.570613   \n",
            "1  1.930868    138.188333  3.462317  214.488143  97.109627  7.968185   \n",
            "2  2.323844     72.028649  3.029815  211.818011  84.151602  6.668692   \n",
            "3  2.761515    111.259385  2.676532  219.966255  93.840769  6.387763   \n",
            "4  1.882923     86.987149  3.349112  218.298154  62.127707  5.914849   \n",
            "\n",
            "   grid_instability_main  grid_instability_base     Tmax_C     Tmin_C  \\\n",
            "0               1.184385               7.361282  30.682532   8.082443   \n",
            "1               3.279230               3.745373  34.843983   7.294983   \n",
            "2               4.172789               5.090445  35.090084   6.832823   \n",
            "3               8.775375               5.102396  37.363152  10.825998   \n",
            "4               6.113106               3.996432  28.165708   9.571865   \n",
            "\n",
            "   Humidity  maintenance_days  \n",
            "0  1.788120                23  \n",
            "1  1.773293                24  \n",
            "2  1.102178                15  \n",
            "3  1.834955                25  \n",
            "4  2.366415                19  \n",
            "<class 'pandas.core.frame.DataFrame'>\n",
            "RangeIndex: 500 entries, 0 to 499\n",
            "Data columns (total 12 columns):\n",
            " #   Column                 Non-Null Count  Dtype  \n",
            "---  ------                 --------------  -----  \n",
            " 0   Pressure               500 non-null    float64\n",
            " 1   Conductivity           500 non-null    float64\n",
            " 2   Current                500 non-null    float64\n",
            " 3   Voltage                500 non-null    float64\n",
            " 4   Power                  500 non-null    float64\n",
            " 5   Load                   500 non-null    float64\n",
            " 6   grid_instability_main  500 non-null    float64\n",
            " 7   grid_instability_base  500 non-null    float64\n",
            " 8   Tmax_C                 500 non-null    float64\n",
            " 9   Tmin_C                 500 non-null    float64\n",
            " 10  Humidity               500 non-null    float64\n",
            " 11  maintenance_days       500 non-null    int64  \n",
            "dtypes: float64(11), int64(1)\n",
            "memory usage: 47.0 KB\n",
            "None\n"
          ]
        }
      ]
    },
    {
      "cell_type": "markdown",
      "source": [],
      "metadata": {
        "id": "ohqBYG_ZNMxj"
      }
    },
    {
      "cell_type": "code",
      "source": [
        "# Check for missing values\n",
        "print(df.isnull().sum())\n",
        "\n",
        "# If there are missing values, you can drop or fill them\n",
        "# df = df.dropna()  # or df.fillna(method='ffill', inplace=True)\n"
      ],
      "metadata": {
        "colab": {
          "base_uri": "https://localhost:8080/"
        },
        "id": "A5p-OvIgn9vR",
        "outputId": "1bf79cd7-9bac-4a1c-9925-c51483c22288"
      },
      "execution_count": 6,
      "outputs": [
        {
          "output_type": "stream",
          "name": "stdout",
          "text": [
            "Pressure                 0\n",
            "Conductivity             0\n",
            "Current                  0\n",
            "Voltage                  0\n",
            "Power                    0\n",
            "Load                     0\n",
            "grid_instability_main    0\n",
            "grid_instability_base    0\n",
            "Tmax_C                   0\n",
            "Tmin_C                   0\n",
            "Humidity                 0\n",
            "maintenance_days         0\n",
            "dtype: int64\n"
          ]
        }
      ]
    },
    {
      "cell_type": "markdown",
      "source": [
        "scalling and feature engineering"
      ],
      "metadata": {
        "id": "wB6R-7ugNiJS"
      }
    },
    {
      "cell_type": "code",
      "source": [
        "import pandas as pd\n",
        "import numpy as np\n",
        "from sklearn.model_selection import train_test_split\n",
        "from sklearn.preprocessing import StandardScaler\n",
        "\n",
        "# Load the dataset\n",
        "df = pd.read_csv('data.csv')\n",
        "\n",
        "\n",
        "# Define features and target variable\n",
        "features = df[['Power', 'Current', 'Voltage', 'Pressure', 'Conductivity']]\n",
        "target = df['maintenance_days']\n",
        "\n"
      ],
      "metadata": {
        "id": "QS682mg0oIg7"
      },
      "execution_count": 32,
      "outputs": []
    },
    {
      "cell_type": "markdown",
      "source": [
        "modal training"
      ],
      "metadata": {
        "id": "RqkHc2kWN1FB"
      }
    },
    {
      "cell_type": "code",
      "source": [
        "\n",
        "# Split the data into training and testing sets\n",
        "X_train, X_test, y_train, y_test = train_test_split(features, target, test_size=0.2, random_state=42)\n",
        "\n",
        "# Initialize the scaler\n",
        "scaler = StandardScaler()\n",
        "\n",
        "# Fit and transform the training data\n",
        "X_train_scaled = scaler.fit_transform(X_train)\n",
        "\n",
        "# Transform the testing data\n",
        "X_test_scaled = scaler.transform(X_test)\n",
        "\n",
        "# Convert the scaled arrays back to DataFrame for inspection (optional)\n",
        "X_train_scaled_df = pd.DataFrame(X_train_scaled, columns=features.columns)\n",
        "X_test_scaled_df = pd.DataFrame(X_test_scaled, columns=features.columns)\n",
        "\n",
        "# Inspect the scaled data (optional)\n",
        "print(X_train_scaled_df.head())\n",
        "print(X_test_scaled_df.head())\n"
      ],
      "metadata": {
        "id": "0qzS7wp9Nuez"
      },
      "execution_count": null,
      "outputs": []
    },
    {
      "cell_type": "markdown",
      "source": [
        "evaluating various model performance"
      ],
      "metadata": {
        "id": "NsqKJttHsnoh"
      }
    },
    {
      "cell_type": "code",
      "source": [
        "import pandas as pd\n",
        "import numpy as np\n",
        "from sklearn.model_selection import train_test_split\n",
        "from sklearn.preprocessing import StandardScaler\n",
        "from sklearn.linear_model import LinearRegression, Ridge, Lasso\n",
        "from sklearn.ensemble import RandomForestRegressor, GradientBoostingRegressor\n",
        "from sklearn.svm import SVR\n",
        "from sklearn.neighbors import KNeighborsRegressor\n",
        "from sklearn.metrics import mean_absolute_error, mean_squared_error, r2_score\n",
        "\n",
        "# Load the dataset\n",
        "df = pd.read_csv('data.csv')\n",
        "\n",
        "# Define features and target variable\n",
        "features = df[['Power', 'Current', 'Voltage', 'Pressure', 'Conductivity']]\n",
        "target = df['maintenance_days']\n",
        "\n",
        "# Split the data into training and testing sets\n",
        "X_train, X_test, y_train, y_test = train_test_split(features, target, test_size=0.2, random_state=42)\n",
        "\n",
        "# Scale the features\n",
        "scaler = StandardScaler()\n",
        "X_train_scaled = scaler.fit_transform(X_train)\n",
        "X_test_scaled = scaler.transform(X_test)\n",
        "\n",
        "# Define a function to evaluate models\n",
        "def evaluate_model(model, X_train, X_test, y_train, y_test):\n",
        "    model.fit(X_train, y_train)\n",
        "    y_pred_train = model.predict(X_train)\n",
        "    y_pred_test = model.predict(X_test)\n",
        "\n",
        "    print(f\"Model: {model.__class__.__name__}\")\n",
        "    print(f\"Train MAE: {mean_absolute_error(y_train, y_pred_train)}\")\n",
        "    print(f\"Test MAE: {mean_absolute_error(y_test, y_pred_test)}\")\n",
        "    print(f\"Train MSE: {mean_squared_error(y_train, y_pred_train)}\")\n",
        "    print(f\"Test MSE: {mean_squared_error(y_test, y_pred_test)}\")\n",
        "    print(f\"Train R²: {r2_score(y_train, y_pred_train)}\")\n",
        "    print(f\"Test R²: {r2_score(y_test, y_pred_test)}\")\n",
        "    print(\"\\n\")\n",
        "\n",
        "# Initialize models\n",
        "models = [\n",
        "    LinearRegression(),\n",
        "    Ridge(),\n",
        "    Lasso(),\n",
        "    RandomForestRegressor(random_state=42),\n",
        "    GradientBoostingRegressor(random_state=42),\n",
        "    SVR(),\n",
        "    KNeighborsRegressor()\n",
        "]\n",
        "\n",
        "# Evaluate each model\n",
        "for model in models:\n",
        "    evaluate_model(model, X_train_scaled, X_test_scaled, y_train, y_test)\n"
      ],
      "metadata": {
        "colab": {
          "base_uri": "https://localhost:8080/"
        },
        "id": "1PoDZ4JCo0ij",
        "outputId": "077fd7bd-3eb1-4c90-a7f0-c6411658373b"
      },
      "execution_count": 9,
      "outputs": [
        {
          "output_type": "stream",
          "name": "stdout",
          "text": [
            "Model: LinearRegression\n",
            "Train MAE: 3.443183716562416\n",
            "Test MAE: 3.5431213450508583\n",
            "Train MSE: 18.837947431211074\n",
            "Test MSE: 19.46833283824401\n",
            "Train R²: 0.01304698983411079\n",
            "Test R²: -0.016219820762726433\n",
            "\n",
            "\n",
            "Model: Ridge\n",
            "Train MAE: 3.4431949921813816\n",
            "Test MAE: 3.5430567621138005\n",
            "Train MSE: 18.837949016675392\n",
            "Test MSE: 19.467219841902\n",
            "Train R²: 0.013046906768862332\n",
            "Test R²: -0.01616172390602144\n",
            "\n",
            "\n",
            "Model: Lasso\n",
            "Train MAE: 3.4677499999999997\n",
            "Test MAE: 3.5255\n",
            "Train MSE: 19.086975\n",
            "Test MSE: 19.298225\n",
            "Train R²: 0.0\n",
            "Test R²: -0.0073404288637404225\n",
            "\n",
            "\n",
            "Model: RandomForestRegressor\n",
            "Train MAE: 1.3708500000000001\n",
            "Test MAE: 3.6515000000000004\n",
            "Train MSE: 3.0369755000000005\n",
            "Test MSE: 21.024345000000004\n",
            "Train R²: 0.8408875424209441\n",
            "Test R²: -0.09744148536351105\n",
            "\n",
            "\n",
            "Model: GradientBoostingRegressor\n",
            "Train MAE: 2.2252224134501026\n",
            "Test MAE: 3.68113309752756\n",
            "Train MSE: 7.891439423144388\n",
            "Test MSE: 21.549965027573577\n",
            "Train R²: 0.5865536878869287\n",
            "Test R²: -0.12487811769603563\n",
            "\n",
            "\n",
            "Model: SVR\n",
            "Train MAE: 3.1678391862702013\n",
            "Test MAE: 3.6219514961107313\n",
            "Train MSE: 17.01738379113726\n",
            "Test MSE: 20.75819353500175\n",
            "Train R²: 0.10842950278201446\n",
            "Test R²: -0.08354875010448848\n",
            "\n",
            "\n",
            "Model: KNeighborsRegressor\n",
            "Train MAE: 3.0145\n",
            "Test MAE: 3.752\n",
            "Train MSE: 14.646099999999999\n",
            "Test MSE: 22.234399999999997\n",
            "Train R²: 0.23266520755646203\n",
            "Test R²: -0.1606046686432534\n",
            "\n",
            "\n"
          ]
        }
      ]
    },
    {
      "cell_type": "markdown",
      "source": [
        "Interpretation\n",
        "MAE (Mean Absolute Error): Measures the average magnitude of the errors in a set of predictions, without considering their direction.\n",
        "MSE (Mean Squared Error): Measures the average of the squares of the errors. It's more sensitive to outliers than MAE.\n",
        "R² (R-squared): Indicates how well the data fit the regression model (closer to 1 is better)."
      ],
      "metadata": {
        "id": "cM67zrNmOi57"
      }
    },
    {
      "cell_type": "markdown",
      "source": [
        "the booster and random forest were chosen following hyperparameter tuning"
      ],
      "metadata": {
        "id": "-KgS44aXN_jm"
      }
    },
    {
      "cell_type": "code",
      "source": [
        "from sklearn.model_selection import GridSearchCV\n",
        "\n",
        "# Define parameter grids for RandomForestRegressor and GradientBoostingRegressor\n",
        "param_grid_rf = {\n",
        "    'n_estimators': [100, 200, 300],\n",
        "    'max_features': ['auto', 'sqrt', 'log2'],\n",
        "    'max_depth': [10, 20, 30, None]\n",
        "}\n",
        "\n",
        "param_grid_gb = {\n",
        "    'n_estimators': [100, 200, 300],\n",
        "    'learning_rate': [0.01, 0.1, 0.2],\n",
        "    'max_depth': [3, 5, 7]\n",
        "}\n",
        "\n",
        "# Initialize the models\n",
        "rf = RandomForestRegressor(random_state=42)\n",
        "gb = GradientBoostingRegressor(random_state=42)\n",
        "\n",
        "# Perform Grid Search\n",
        "grid_search_rf = GridSearchCV(estimator=rf, param_grid=param_grid_rf, cv=5, n_jobs=-1, scoring='neg_mean_squared_error')\n",
        "grid_search_gb = GridSearchCV(estimator=gb, param_grid=param_grid_gb, cv=5, n_jobs=-1, scoring='neg_mean_squared_error')\n",
        "\n",
        "# Fit the models\n",
        "grid_search_rf.fit(X_train_scaled, y_train)\n",
        "grid_search_gb.fit(X_train_scaled, y_train)\n",
        "\n",
        "# Get the best parameters and scores\n",
        "best_rf = grid_search_rf.best_estimator_\n",
        "best_gb = grid_search_gb.best_estimator_\n",
        "\n",
        "print(\"Best parameters for RandomForestRegressor:\", grid_search_rf.best_params_)\n",
        "print(\"Best parameters for GradientBoostingRegressor:\", grid_search_gb.best_params_)\n",
        "\n",
        "# Evaluate the best models\n",
        "evaluate_model(best_rf, X_train_scaled, X_test_scaled, y_train, y_test)\n",
        "evaluate_model(best_gb, X_train_scaled, X_test_scaled, y_train, y_test)\n"
      ],
      "metadata": {
        "colab": {
          "base_uri": "https://localhost:8080/"
        },
        "id": "RBuyt6pnpm4U",
        "outputId": "68784474-8bc1-4656-a186-de8cef968e2f"
      },
      "execution_count": 10,
      "outputs": [
        {
          "output_type": "stream",
          "name": "stdout",
          "text": [
            "Best parameters for RandomForestRegressor: {'max_depth': 10, 'max_features': 'sqrt', 'n_estimators': 100}\n",
            "Best parameters for GradientBoostingRegressor: {'learning_rate': 0.01, 'max_depth': 3, 'n_estimators': 100}\n",
            "Model: RandomForestRegressor\n",
            "Train MAE: 2.1332188052247156\n",
            "Test MAE: 3.640145336252313\n",
            "Train MSE: 6.947050478740571\n",
            "Test MSE: 21.120278784257977\n",
            "Train R²: 0.6360318762538029\n",
            "Test R²: -0.10244909509844513\n",
            "\n",
            "\n",
            "Model: GradientBoostingRegressor\n",
            "Train MAE: 3.264433424621024\n",
            "Test MAE: 3.567155041997412\n",
            "Train MSE: 16.59238527346421\n",
            "Test MSE: 19.664479189662533\n",
            "Train R²: 0.13069591837029126\n",
            "Test R²: -0.026458386732290506\n",
            "\n",
            "\n"
          ]
        }
      ]
    },
    {
      "cell_type": "markdown",
      "source": [
        "The performance metrics for the different models indicate that none of them performed exceptionally well on the test data. Here is a summary of the results:\n",
        "\n",
        "Linear Regression and Ridge Regression: Both had similar performance, with low R² scores, indicating poor fit to the data.\n",
        "Lasso Regression: Also performed poorly, similar to Linear and Ridge Regression.\n",
        "Random Forest Regressor: Performed well on the training data but poorly on the test data, suggesting overfitting.\n",
        "Gradient Boosting Regressor: Showed some improvement over Linear models but still performed poorly on the test data.\n",
        "Support Vector Regressor (SVR): Did not perform well, with low R² scores.\n",
        "K-Nearest Neighbors Regressor (KNN): Also showed poor performance."
      ],
      "metadata": {
        "id": "r0ohe-r9Oo_F"
      }
    },
    {
      "cell_type": "markdown",
      "source": [
        "TUNING THE MODEL USING POLYNOMIAL FEATURES"
      ],
      "metadata": {
        "id": "O6VvvrnYOUqv"
      }
    },
    {
      "cell_type": "code",
      "source": [
        "from sklearn.preprocessing import PolynomialFeatures\n",
        "\n",
        "# Create polynomial features\n",
        "poly = PolynomialFeatures(degree=2, include_bias=False)\n",
        "X_train_poly = poly.fit_transform(X_train_scaled)\n",
        "X_test_poly = poly.transform(X_test_scaled)\n",
        "\n",
        "# Initialize the models with best parameters\n",
        "best_rf_poly = RandomForestRegressor(max_depth=10, max_features='sqrt', n_estimators=100, random_state=42)\n",
        "best_gb_poly = GradientBoostingRegressor(learning_rate=0.01, max_depth=3, n_estimators=100, random_state=42)\n",
        "\n",
        "# Evaluate the models with polynomial features\n",
        "evaluate_model(best_rf_poly, X_train_poly, X_test_poly, y_train, y_test)\n",
        "evaluate_model(best_gb_poly, X_train_poly, X_test_poly, y_train, y_test)\n"
      ],
      "metadata": {
        "colab": {
          "base_uri": "https://localhost:8080/"
        },
        "id": "CUjyoVyCqnd_",
        "outputId": "ffe54789-cded-492d-a8e8-bbd3110ee89d"
      },
      "execution_count": 11,
      "outputs": [
        {
          "output_type": "stream",
          "name": "stdout",
          "text": [
            "Model: RandomForestRegressor\n",
            "Train MAE: 1.984108947207138\n",
            "Test MAE: 3.648623964715768\n",
            "Train MSE: 6.0116557203486085\n",
            "Test MSE: 20.685278592869494\n",
            "Train R²: 0.6850388434862722\n",
            "Test R²: -0.07974269182306193\n",
            "\n",
            "\n",
            "Model: GradientBoostingRegressor\n",
            "Train MAE: 3.1971385910460044\n",
            "Test MAE: 3.4964140665991192\n",
            "Train MSE: 15.824412063871836\n",
            "Test MSE: 18.820953276150636\n",
            "Train R²: 0.1709313778704149\n",
            "Test R²: 0.017572489448018813\n",
            "\n",
            "\n"
          ]
        }
      ]
    },
    {
      "cell_type": "markdown",
      "source": [
        "PERFORMING CROSS VALIDATION TO IMPROVE THE MODEL PERFORMANCE"
      ],
      "metadata": {
        "id": "utRuXn0zO7C9"
      }
    },
    {
      "cell_type": "code",
      "source": [
        "from sklearn.model_selection import cross_val_score\n",
        "\n",
        "# Define a function to evaluate models using cross-validation\n",
        "def cross_val_evaluate_model(model, X, y):\n",
        "    cv_scores = cross_val_score(model, X, y, cv=5, scoring='neg_mean_squared_error')\n",
        "    print(f\"Model: {model.__class__.__name__}\")\n",
        "    print(f\"Cross-Validated MSE: {np.mean(-cv_scores)}\")\n",
        "    print(f\"Cross-Validated Std Dev MSE: {np.std(-cv_scores)}\")\n",
        "    print(\"\\n\")\n",
        "\n",
        "# Cross-validate the models with original features\n",
        "cross_val_evaluate_model(best_rf, X_train_scaled, y_train)\n",
        "cross_val_evaluate_model(best_gb, X_train_scaled, y_train)\n",
        "\n",
        "# Cross-validate the models with polynomial features\n",
        "cross_val_evaluate_model(best_rf_poly, X_train_poly, y_train)\n",
        "cross_val_evaluate_model(best_gb_poly, X_train_poly, y_train)\n"
      ],
      "metadata": {
        "colab": {
          "base_uri": "https://localhost:8080/"
        },
        "id": "-H2j55Qwq2jL",
        "outputId": "fd958be5-cb5b-4233-ee9e-e4a6bd95766d"
      },
      "execution_count": 12,
      "outputs": [
        {
          "output_type": "stream",
          "name": "stdout",
          "text": [
            "Model: RandomForestRegressor\n",
            "Cross-Validated MSE: 20.400212009863015\n",
            "Cross-Validated Std Dev MSE: 2.316234752827692\n",
            "\n",
            "\n",
            "Model: GradientBoostingRegressor\n",
            "Cross-Validated MSE: 19.683231783099085\n",
            "Cross-Validated Std Dev MSE: 2.8909385407025097\n",
            "\n",
            "\n",
            "Model: RandomForestRegressor\n",
            "Cross-Validated MSE: 20.411295077200833\n",
            "Cross-Validated Std Dev MSE: 2.952117007825226\n",
            "\n",
            "\n",
            "Model: GradientBoostingRegressor\n",
            "Cross-Validated MSE: 20.046360413109216\n",
            "Cross-Validated Std Dev MSE: 2.279367189784003\n",
            "\n",
            "\n"
          ]
        }
      ]
    },
    {
      "cell_type": "markdown",
      "source": [
        "MODEL PERFORMANCE EVALUATION\n",
        "\n",
        "Based on the metrics typically used to evaluate regression models (MAE, MSE, and R² score), the \"best\" model vary depending on what metric were prioritize.  based on results obtained your previous results:\n",
        "\n",
        "RandomForestRegressor:\n",
        "Train MAE: 2.1332\n",
        "Test MAE: 3.6401\n",
        "Train MSE: 6.9471\n",
        "Test MSE: 21.1203\n",
        "Train R²: 0.6360\n",
        "Test R²: -0.1024\n",
        "Cross-Validated MSE: 20.4002 ± 2.3162\n",
        "\n",
        "GradientBoostingRegressor:\n",
        "Train MAE: 3.2644\n",
        "Test MAE: 3.5672\n",
        "Train MSE: 16.5924\n",
        "Test MSE: 19.6645\n",
        "Train R²: 0.1307\n",
        "Test R²: -0.0265\n",
        "Cross-Validated MSE: 19.6832 ± 2.8909\n",
        "\n",
        "Interpretation:\n",
        "\n",
        "MAE and MSE:\n",
        "\n",
        " Lower values of MAE and MSE indicate better performance. Based on this, RandomForestRegressor generally performs better on the training set (lower MAE and MSE) compared to GradientBoostingRegressor. However, both models exhibit high MSE on the test set, suggesting room for improvement.\n",
        "\n",
        "R² Score:\n",
        "\n",
        "A higher R² score closer to 1 indicates a better fit of the model to the data. RandomForestRegressor has a higher R² score on the training set compared to GradientBoostingRegressor, but both models perform poorly on the test set (negative R² score), indicating they do not generalize well.\n",
        "\n",
        "Cross-Validated MSE:\n",
        "\n",
        "This metric gives an estimate of the model’s performance on unseen data. RandomForestRegressor shows a slightly higher cross-validated MSE compared to GradientBoostingRegressor, indicating GradientBoostingRegressor might generalize slightly better.\n",
        "\n",
        "MODAL SELECTION\n",
        "\n",
        "\n",
        "For Training Set Performance: RandomForestRegressor shows lower MAE and MSE, indicating better performance in predicting on seen data.\n",
        "\n",
        "For Generalization (Test Set): GradientBoostingRegressor performs marginally better with a lower test MAE and MSE, although both models exhibit negative R² scores on the test set, indicating poor generalization.\n",
        "\n",
        "Overall, while RandomForestRegressor shows better performance on the training set, GradientBoostingRegressor might generalize slightly better according to cross-validated MSE and marginally better performance on the test set metrics. However, both models need further improvement in terms of generalization and reducing prediction errors on unseen data. FOR THIS CASE I CHOOSE RandomForestRegressor"
      ],
      "metadata": {
        "id": "0tUUX9QJPXqL"
      }
    },
    {
      "cell_type": "markdown",
      "source": [
        "RandomForestRegressor with best parameters from tuning\n",
        "\n",
        "\n"
      ],
      "metadata": {
        "id": "wAkpWbrGstvo"
      }
    },
    {
      "cell_type": "code",
      "source": [
        "import pandas as pd\n",
        "import numpy as np\n",
        "from sklearn.model_selection import train_test_split, cross_val_score\n",
        "from sklearn.preprocessing import StandardScaler\n",
        "from sklearn.ensemble import RandomForestRegressor\n",
        "from sklearn.metrics import mean_absolute_error, mean_squared_error, r2_score\n",
        "import joblib  # For saving the model\n",
        "\n",
        "# Load the dataset\n",
        "df = pd.read_csv('data.csv')\n",
        "\n",
        "# Define features and target variable\n",
        "features = df[['Power', 'Current', 'Voltage', 'Pressure', 'Conductivity']]\n",
        "target = df['maintenance_days']\n"
      ],
      "metadata": {
        "id": "YM9dDKVVswaq"
      },
      "execution_count": 13,
      "outputs": []
    },
    {
      "cell_type": "code",
      "source": [
        "# Split the data into training and testing sets\n",
        "X_train, X_test, y_train, y_test = train_test_split(features, target, test_size=0.2, random_state=42)\n"
      ],
      "metadata": {
        "id": "cxXzSEqws4NM"
      },
      "execution_count": 14,
      "outputs": []
    },
    {
      "cell_type": "code",
      "source": [
        "# Initialize the scaler\n",
        "scaler = StandardScaler()\n",
        "\n",
        "# Fit and transform on training data\n",
        "X_train_scaled = scaler.fit_transform(X_train)\n",
        "\n",
        "# Transform test data (using the same scaler fit on training data)\n",
        "X_test_scaled = scaler.transform(X_test)\n"
      ],
      "metadata": {
        "id": "mwv3qiWNs46M"
      },
      "execution_count": 15,
      "outputs": []
    },
    {
      "cell_type": "markdown",
      "source": [
        "MODEL TUNING"
      ],
      "metadata": {
        "id": "zdSfxf8gQd93"
      }
    },
    {
      "cell_type": "code",
      "source": [
        "# Initialize the RandomForestRegressor with best parameters from tuning\n",
        "rf_model = RandomForestRegressor(max_depth=10, max_features='sqrt', n_estimators=100, random_state=42)\n",
        "\n",
        "# Fit the model on the scaled training data\n",
        "rf_model.fit(X_train_scaled, y_train)\n"
      ],
      "metadata": {
        "colab": {
          "base_uri": "https://localhost:8080/",
          "height": 75
        },
        "id": "Ozu7myP_s8n2",
        "outputId": "65ec2273-5628-43d3-87e9-fd796a02f65e"
      },
      "execution_count": 16,
      "outputs": [
        {
          "output_type": "execute_result",
          "data": {
            "text/plain": [
              "RandomForestRegressor(max_depth=10, max_features='sqrt', random_state=42)"
            ],
            "text/html": [
              "<style>#sk-container-id-1 {color: black;background-color: white;}#sk-container-id-1 pre{padding: 0;}#sk-container-id-1 div.sk-toggleable {background-color: white;}#sk-container-id-1 label.sk-toggleable__label {cursor: pointer;display: block;width: 100%;margin-bottom: 0;padding: 0.3em;box-sizing: border-box;text-align: center;}#sk-container-id-1 label.sk-toggleable__label-arrow:before {content: \"▸\";float: left;margin-right: 0.25em;color: #696969;}#sk-container-id-1 label.sk-toggleable__label-arrow:hover:before {color: black;}#sk-container-id-1 div.sk-estimator:hover label.sk-toggleable__label-arrow:before {color: black;}#sk-container-id-1 div.sk-toggleable__content {max-height: 0;max-width: 0;overflow: hidden;text-align: left;background-color: #f0f8ff;}#sk-container-id-1 div.sk-toggleable__content pre {margin: 0.2em;color: black;border-radius: 0.25em;background-color: #f0f8ff;}#sk-container-id-1 input.sk-toggleable__control:checked~div.sk-toggleable__content {max-height: 200px;max-width: 100%;overflow: auto;}#sk-container-id-1 input.sk-toggleable__control:checked~label.sk-toggleable__label-arrow:before {content: \"▾\";}#sk-container-id-1 div.sk-estimator input.sk-toggleable__control:checked~label.sk-toggleable__label {background-color: #d4ebff;}#sk-container-id-1 div.sk-label input.sk-toggleable__control:checked~label.sk-toggleable__label {background-color: #d4ebff;}#sk-container-id-1 input.sk-hidden--visually {border: 0;clip: rect(1px 1px 1px 1px);clip: rect(1px, 1px, 1px, 1px);height: 1px;margin: -1px;overflow: hidden;padding: 0;position: absolute;width: 1px;}#sk-container-id-1 div.sk-estimator {font-family: monospace;background-color: #f0f8ff;border: 1px dotted black;border-radius: 0.25em;box-sizing: border-box;margin-bottom: 0.5em;}#sk-container-id-1 div.sk-estimator:hover {background-color: #d4ebff;}#sk-container-id-1 div.sk-parallel-item::after {content: \"\";width: 100%;border-bottom: 1px solid gray;flex-grow: 1;}#sk-container-id-1 div.sk-label:hover label.sk-toggleable__label {background-color: #d4ebff;}#sk-container-id-1 div.sk-serial::before {content: \"\";position: absolute;border-left: 1px solid gray;box-sizing: border-box;top: 0;bottom: 0;left: 50%;z-index: 0;}#sk-container-id-1 div.sk-serial {display: flex;flex-direction: column;align-items: center;background-color: white;padding-right: 0.2em;padding-left: 0.2em;position: relative;}#sk-container-id-1 div.sk-item {position: relative;z-index: 1;}#sk-container-id-1 div.sk-parallel {display: flex;align-items: stretch;justify-content: center;background-color: white;position: relative;}#sk-container-id-1 div.sk-item::before, #sk-container-id-1 div.sk-parallel-item::before {content: \"\";position: absolute;border-left: 1px solid gray;box-sizing: border-box;top: 0;bottom: 0;left: 50%;z-index: -1;}#sk-container-id-1 div.sk-parallel-item {display: flex;flex-direction: column;z-index: 1;position: relative;background-color: white;}#sk-container-id-1 div.sk-parallel-item:first-child::after {align-self: flex-end;width: 50%;}#sk-container-id-1 div.sk-parallel-item:last-child::after {align-self: flex-start;width: 50%;}#sk-container-id-1 div.sk-parallel-item:only-child::after {width: 0;}#sk-container-id-1 div.sk-dashed-wrapped {border: 1px dashed gray;margin: 0 0.4em 0.5em 0.4em;box-sizing: border-box;padding-bottom: 0.4em;background-color: white;}#sk-container-id-1 div.sk-label label {font-family: monospace;font-weight: bold;display: inline-block;line-height: 1.2em;}#sk-container-id-1 div.sk-label-container {text-align: center;}#sk-container-id-1 div.sk-container {/* jupyter's `normalize.less` sets `[hidden] { display: none; }` but bootstrap.min.css set `[hidden] { display: none !important; }` so we also need the `!important` here to be able to override the default hidden behavior on the sphinx rendered scikit-learn.org. See: https://github.com/scikit-learn/scikit-learn/issues/21755 */display: inline-block !important;position: relative;}#sk-container-id-1 div.sk-text-repr-fallback {display: none;}</style><div id=\"sk-container-id-1\" class=\"sk-top-container\"><div class=\"sk-text-repr-fallback\"><pre>RandomForestRegressor(max_depth=10, max_features=&#x27;sqrt&#x27;, random_state=42)</pre><b>In a Jupyter environment, please rerun this cell to show the HTML representation or trust the notebook. <br />On GitHub, the HTML representation is unable to render, please try loading this page with nbviewer.org.</b></div><div class=\"sk-container\" hidden><div class=\"sk-item\"><div class=\"sk-estimator sk-toggleable\"><input class=\"sk-toggleable__control sk-hidden--visually\" id=\"sk-estimator-id-1\" type=\"checkbox\" checked><label for=\"sk-estimator-id-1\" class=\"sk-toggleable__label sk-toggleable__label-arrow\">RandomForestRegressor</label><div class=\"sk-toggleable__content\"><pre>RandomForestRegressor(max_depth=10, max_features=&#x27;sqrt&#x27;, random_state=42)</pre></div></div></div></div></div>"
            ]
          },
          "metadata": {},
          "execution_count": 16
        }
      ]
    },
    {
      "cell_type": "markdown",
      "source": [
        "MODEL EVALUATION"
      ],
      "metadata": {
        "id": "f7-QXK_TQhl3"
      }
    },
    {
      "cell_type": "code",
      "source": [
        "# Function to evaluate model\n",
        "def evaluate_model(model, X_train, X_test, y_train, y_test):\n",
        "    # Predict on training and testing data\n",
        "    y_pred_train = model.predict(X_train)\n",
        "    y_pred_test = model.predict(X_test)\n",
        "\n",
        "    # Calculate metrics\n",
        "    train_mae = mean_absolute_error(y_train, y_pred_train)\n",
        "    test_mae = mean_absolute_error(y_test, y_pred_test)\n",
        "    train_mse = mean_squared_error(y_train, y_pred_train)\n",
        "    test_mse = mean_squared_error(y_test, y_pred_test)\n",
        "    train_r2 = r2_score(y_train, y_pred_train)\n",
        "    test_r2 = r2_score(y_test, y_pred_test)\n",
        "\n",
        "    # Print metrics\n",
        "    print(f\"Train MAE: {train_mae}\")\n",
        "    print(f\"Test MAE: {test_mae}\")\n",
        "    print(f\"Train MSE: {train_mse}\")\n",
        "    print(f\"Test MSE: {test_mse}\")\n",
        "    print(f\"Train R²: {train_r2}\")\n",
        "    print(f\"Test R²: {test_r2}\")\n",
        "\n",
        "# Evaluating the RandomForestRegressor model\n",
        "print(\"Evaluation Results for RandomForestRegressor:\")\n",
        "evaluate_model(rf_model, X_train_scaled, X_test_scaled, y_train, y_test)\n"
      ],
      "metadata": {
        "colab": {
          "base_uri": "https://localhost:8080/"
        },
        "id": "kA0XZT3NtRGg",
        "outputId": "7e0d3fa3-86cc-4ab4-cb64-00faad6a4b43"
      },
      "execution_count": 17,
      "outputs": [
        {
          "output_type": "stream",
          "name": "stdout",
          "text": [
            "Evaluation Results for RandomForestRegressor:\n",
            "Train MAE: 2.1332188052247156\n",
            "Test MAE: 3.640145336252313\n",
            "Train MSE: 6.947050478740571\n",
            "Test MSE: 21.120278784257977\n",
            "Train R²: 0.6360318762538029\n",
            "Test R²: -0.10244909509844513\n"
          ]
        }
      ]
    },
    {
      "cell_type": "markdown",
      "source": [
        "SAVING THE MODEL AND SCALER pkl FILES"
      ],
      "metadata": {
        "id": "nlSQjs0yQlfJ"
      }
    },
    {
      "cell_type": "code",
      "source": [
        "# Save the model to disk\n",
        "joblib.dump(rf_model, 'random_forest_model.pkl')\n",
        "print(\"Model saved!\")\n",
        "\n",
        "# downloading the saved model\n",
        "from google.colab import files\n",
        "save_path = 'random_forest_model.pkl'\n",
        "files.download(save_path)\n",
        "files.download('random_forest_model.pkl')\n"
      ],
      "metadata": {
        "colab": {
          "base_uri": "https://localhost:8080/",
          "height": 34
        },
        "id": "HsEpLWMwtcTU",
        "outputId": "bdcc8642-0530-41a7-bd65-8e561a381d66"
      },
      "execution_count": 18,
      "outputs": [
        {
          "output_type": "stream",
          "name": "stdout",
          "text": [
            "Model saved!\n"
          ]
        },
        {
          "output_type": "display_data",
          "data": {
            "text/plain": [
              "<IPython.core.display.Javascript object>"
            ],
            "application/javascript": [
              "\n",
              "    async function download(id, filename, size) {\n",
              "      if (!google.colab.kernel.accessAllowed) {\n",
              "        return;\n",
              "      }\n",
              "      const div = document.createElement('div');\n",
              "      const label = document.createElement('label');\n",
              "      label.textContent = `Downloading \"${filename}\": `;\n",
              "      div.appendChild(label);\n",
              "      const progress = document.createElement('progress');\n",
              "      progress.max = size;\n",
              "      div.appendChild(progress);\n",
              "      document.body.appendChild(div);\n",
              "\n",
              "      const buffers = [];\n",
              "      let downloaded = 0;\n",
              "\n",
              "      const channel = await google.colab.kernel.comms.open(id);\n",
              "      // Send a message to notify the kernel that we're ready.\n",
              "      channel.send({})\n",
              "\n",
              "      for await (const message of channel.messages) {\n",
              "        // Send a message to notify the kernel that we're ready.\n",
              "        channel.send({})\n",
              "        if (message.buffers) {\n",
              "          for (const buffer of message.buffers) {\n",
              "            buffers.push(buffer);\n",
              "            downloaded += buffer.byteLength;\n",
              "            progress.value = downloaded;\n",
              "          }\n",
              "        }\n",
              "      }\n",
              "      const blob = new Blob(buffers, {type: 'application/binary'});\n",
              "      const a = document.createElement('a');\n",
              "      a.href = window.URL.createObjectURL(blob);\n",
              "      a.download = filename;\n",
              "      div.appendChild(a);\n",
              "      a.click();\n",
              "      div.remove();\n",
              "    }\n",
              "  "
            ]
          },
          "metadata": {}
        },
        {
          "output_type": "display_data",
          "data": {
            "text/plain": [
              "<IPython.core.display.Javascript object>"
            ],
            "application/javascript": [
              "download(\"download_18aa2a35-6648-4e93-b8d2-c6150df805ba\", \"random_forest_model.pkl\", 1275761)"
            ]
          },
          "metadata": {}
        },
        {
          "output_type": "display_data",
          "data": {
            "text/plain": [
              "<IPython.core.display.Javascript object>"
            ],
            "application/javascript": [
              "\n",
              "    async function download(id, filename, size) {\n",
              "      if (!google.colab.kernel.accessAllowed) {\n",
              "        return;\n",
              "      }\n",
              "      const div = document.createElement('div');\n",
              "      const label = document.createElement('label');\n",
              "      label.textContent = `Downloading \"${filename}\": `;\n",
              "      div.appendChild(label);\n",
              "      const progress = document.createElement('progress');\n",
              "      progress.max = size;\n",
              "      div.appendChild(progress);\n",
              "      document.body.appendChild(div);\n",
              "\n",
              "      const buffers = [];\n",
              "      let downloaded = 0;\n",
              "\n",
              "      const channel = await google.colab.kernel.comms.open(id);\n",
              "      // Send a message to notify the kernel that we're ready.\n",
              "      channel.send({})\n",
              "\n",
              "      for await (const message of channel.messages) {\n",
              "        // Send a message to notify the kernel that we're ready.\n",
              "        channel.send({})\n",
              "        if (message.buffers) {\n",
              "          for (const buffer of message.buffers) {\n",
              "            buffers.push(buffer);\n",
              "            downloaded += buffer.byteLength;\n",
              "            progress.value = downloaded;\n",
              "          }\n",
              "        }\n",
              "      }\n",
              "      const blob = new Blob(buffers, {type: 'application/binary'});\n",
              "      const a = document.createElement('a');\n",
              "      a.href = window.URL.createObjectURL(blob);\n",
              "      a.download = filename;\n",
              "      div.appendChild(a);\n",
              "      a.click();\n",
              "      div.remove();\n",
              "    }\n",
              "  "
            ]
          },
          "metadata": {}
        },
        {
          "output_type": "display_data",
          "data": {
            "text/plain": [
              "<IPython.core.display.Javascript object>"
            ],
            "application/javascript": [
              "download(\"download_93bf428a-4dfe-4ab0-be2b-81a04842b4b6\", \"random_forest_model.pkl\", 1275761)"
            ]
          },
          "metadata": {}
        }
      ]
    },
    {
      "cell_type": "markdown",
      "source": [
        "MANUAL PREDICTION"
      ],
      "metadata": {
        "id": "RUCy_EzLQsDC"
      }
    },
    {
      "cell_type": "code",
      "source": [
        "\n",
        "# Example of making predictions with new data\n",
        "new_data = np.array([[100, 3, 220, 2, 100]])  # Example new data point\n",
        "new_data_scaled = scaler.transform(new_data)\n",
        "predicted_days = rf_model.predict(new_data_scaled)\n",
        "print(f\"Predicted maintenance days for new data: {predicted_days[0]}\")"
      ],
      "metadata": {
        "colab": {
          "base_uri": "https://localhost:8080/"
        },
        "id": "g_vfeOArubYF",
        "outputId": "2effb55c-758b-4333-b5f3-496122cf7ff1"
      },
      "execution_count": 19,
      "outputs": [
        {
          "output_type": "stream",
          "name": "stdout",
          "text": [
            "Predicted maintenance days for new data: 20.053680933713608\n"
          ]
        },
        {
          "output_type": "stream",
          "name": "stderr",
          "text": [
            "/usr/local/lib/python3.10/dist-packages/sklearn/base.py:439: UserWarning: X does not have valid feature names, but StandardScaler was fitted with feature names\n",
            "  warnings.warn(\n"
          ]
        }
      ]
    },
    {
      "cell_type": "code",
      "source": [
        "import joblib\n",
        "\n",
        "# Load the model with mmap_mode='r' to inspect its contents\n",
        "rf_model = joblib.load('random_forest_model.pkl', mmap_mode='r')\n",
        "\n",
        "# Print out the loaded model for inspection\n",
        "print(rf_model)\n"
      ],
      "metadata": {
        "colab": {
          "base_uri": "https://localhost:8080/"
        },
        "id": "C3ZGtWH89N53",
        "outputId": "5de01295-1805-435b-f6fa-74a5d943734e"
      },
      "execution_count": 29,
      "outputs": [
        {
          "output_type": "stream",
          "name": "stdout",
          "text": [
            "RandomForestRegressor(max_depth=10, max_features='sqrt', random_state=42)\n"
          ]
        }
      ]
    },
    {
      "cell_type": "markdown",
      "source": [
        "VISUALIZING THE MODEL PERFORMANCE"
      ],
      "metadata": {
        "id": "H3-GLXyNRWaB"
      }
    },
    {
      "cell_type": "code",
      "source": [
        "import pandas as pd\n",
        "import numpy as np\n",
        "from sklearn.model_selection import train_test_split\n",
        "from sklearn.ensemble import RandomForestRegressor\n",
        "from sklearn.metrics import mean_absolute_error, mean_squared_error, r2_score\n",
        "import matplotlib.pyplot as plt\n",
        "import seaborn as sns\n",
        "import joblib\n",
        "\n",
        "# Step 1: Load the dataset\n",
        "df = pd.read_csv('data.csv')\n",
        "\n",
        "# Step 2: Define features and target variable\n",
        "features = df[['Power', 'Current', 'Voltage', 'Pressure', 'Conductivity']]\n",
        "target = df['maintenance_days']\n",
        "\n",
        "# Step 3: Split the data into training and testing sets\n",
        "X_train, X_test, y_train, y_test = train_test_split(features, target, test_size=0.2, random_state=42)\n",
        "\n",
        "# Step 4: Train the RandomForestRegressor model\n",
        "rf_model = RandomForestRegressor(max_depth=10, max_features='sqrt', n_estimators=100, random_state=42)\n",
        "rf_model.fit(X_train, y_train)\n",
        "\n",
        "# Step 5: Make predictions\n",
        "y_train_pred = rf_model.predict(X_train)\n",
        "y_test_pred = rf_model.predict(X_test)\n",
        "\n",
        "# Step 6: Evaluate the model\n",
        "def evaluate_model(model, X_train, X_test, y_train, y_test):\n",
        "    y_pred_train = model.predict(X_train)\n",
        "    y_pred_test = model.predict(X_test)\n",
        "    train_mae = mean_absolute_error(y_train, y_pred_train)\n",
        "    test_mae = mean_absolute_error(y_test, y_pred_test)\n",
        "    train_mse = mean_squared_error(y_train, y_pred_train)\n",
        "    test_mse = mean_squared_error(y_test, y_pred_test)\n",
        "    train_r2 = r2_score(y_train, y_pred_train)\n",
        "    test_r2 = r2_score(y_test, y_pred_test)\n",
        "    print(\"Evaluation Results:\")\n",
        "    print(f\"Train MAE: {train_mae}\")\n",
        "    print(f\"Test MAE: {test_mae}\")\n",
        "    print(f\"Train MSE: {train_mse}\")\n",
        "    print(f\"Test MSE: {test_mse}\")\n",
        "    print(f\"Train R²: {train_r2}\")\n",
        "    print(f\"Test R²: {test_r2}\")\n",
        "\n",
        "evaluate_model(rf_model, X_train, X_test, y_train, y_test)\n",
        "\n",
        "# Step 7: Visualize the performance\n",
        "def plot_performance(y_train, y_train_pred, y_test, y_test_pred):\n",
        "    # Scatter plot of predicted vs actual values\n",
        "    plt.figure(figsize=(14, 6))\n",
        "\n",
        "    plt.subplot(1, 2, 1)\n",
        "    plt.scatter(y_train, y_train_pred, alpha=0.3, color='blue', label='Train')\n",
        "    plt.scatter(y_test, y_test_pred, alpha=0.3, color='red', label='Test')\n",
        "    plt.plot([min(y_train), max(y_train)], [min(y_train), max(y_train)], color='black', linewidth=2)\n",
        "    plt.xlabel('Actual values')\n",
        "    plt.ylabel('Predicted values')\n",
        "    plt.title('Actual vs Predicted values')\n",
        "    plt.legend()\n",
        "\n",
        "    # Residual plot\n",
        "    plt.subplot(1, 2, 2)\n",
        "    residuals_train = y_train - y_train_pred\n",
        "    residuals_test = y_test - y_test_pred\n",
        "    sns.histplot(residuals_train, kde=True, color='blue', label='Train', alpha=0.5)\n",
        "    sns.histplot(residuals_test, kde=True, color='red', label='Test', alpha=0.5)\n",
        "    plt.xlabel('Residuals')\n",
        "    plt.ylabel('Density')\n",
        "    plt.title('Residuals Distribution')\n",
        "    plt.legend()\n",
        "\n",
        "    plt.tight_layout()\n",
        "    plt.show()\n",
        "\n",
        "    # Feature Importance\n",
        "    feature_importances = rf_model.feature_importances_\n",
        "    features = ['Power', 'Current', 'Voltage', 'Pressure', 'Conductivity']\n",
        "    plt.figure(figsize=(10, 6))\n",
        "    sns.barplot(x=feature_importances, y=features)\n",
        "    plt.title('Feature Importances')\n",
        "    plt.show()\n",
        "\n",
        "# Call the plot function\n",
        "plot_performance(y_train, y_train_pred, y_test, y_test_pred)\n",
        "\n",
        "\n"
      ],
      "metadata": {
        "colab": {
          "base_uri": "https://localhost:8080/",
          "height": 1000
        },
        "id": "PYkOY-RnRlSn",
        "outputId": "e13807d6-950f-4ac6-f2bd-04cf2c0a5206"
      },
      "execution_count": 36,
      "outputs": [
        {
          "output_type": "stream",
          "name": "stdout",
          "text": [
            "Evaluation Results:\n",
            "Train MAE: 2.1332188052247156\n",
            "Test MAE: 3.640145336252313\n",
            "Train MSE: 6.947050478740571\n",
            "Test MSE: 21.120278784257977\n",
            "Train R²: 0.6360318762538029\n",
            "Test R²: -0.10244909509844513\n"
          ]
        },
        {
          "output_type": "display_data",
          "data": {
            "text/plain": [
              "<Figure size 1400x600 with 2 Axes>"
            ],
            "image/png": "[encoded data removed]"
          },
          "metadata": {}
        },
        {
          "output_type": "display_data",
          "data": {
            "text/plain": [
              "<Figure size 1000x600 with 1 Axes>"
            ],
            "image/png": "[encoded data removed]"
          },
          "metadata": {}
        }
      ]
    },
    {
      "cell_type": "markdown",
      "source": [
        "MODEL LEARNING CURVE"
      ],
      "metadata": {
        "id": "-WyqOYZbSJFD"
      }
    },
    {
      "cell_type": "code",
      "source": [
        "from sklearn.model_selection import learning_curve\n",
        "\n",
        "def plot_learning_curve(model, X, y):\n",
        "    train_sizes, train_scores, test_scores = learning_curve(model, X, y, cv=5, n_jobs=-1, train_sizes=np.linspace(0.1, 1.0, 10))\n",
        "\n",
        "    train_scores_mean = np.mean(train_scores, axis=1)\n",
        "    train_scores_std = np.std(train_scores, axis=1)\n",
        "    test_scores_mean = np.mean(test_scores, axis=1)\n",
        "    test_scores_std = np.std(test_scores, axis=1)\n",
        "\n",
        "    plt.figure()\n",
        "    plt.title(\"Learning Curve\")\n",
        "    plt.xlabel(\"Training examples\")\n",
        "    plt.ylabel(\"Score\")\n",
        "\n",
        "    plt.fill_between(train_sizes, train_scores_mean - train_scores_std,\n",
        "                     train_scores_mean + train_scores_std, alpha=0.1, color=\"r\")\n",
        "    plt.fill_between(train_sizes, test_scores_mean - test_scores_std,\n",
        "                     test_scores_mean + test_scores_std, alpha=0.1, color=\"g\")\n",
        "    plt.plot(train_sizes, train_scores_mean, 'o-', color=\"r\", label=\"Training score\")\n",
        "    plt.plot(train_sizes, test_scores_mean, 'o-', color=\"g\", label=\"Cross-validation score\")\n",
        "\n",
        "    plt.legend(loc=\"best\")\n",
        "    plt.show()\n",
        "\n",
        "plot_learning_curve(rf_model, features, target)\n"
      ],
      "metadata": {
        "colab": {
          "base_uri": "https://localhost:8080/",
          "height": 472
        },
        "id": "EDLP5Ui9SLZQ",
        "outputId": "a3858833-da20-43d1-8c32-d7c46bc5e263"
      },
      "execution_count": 37,
      "outputs": [
        {
          "output_type": "display_data",
          "data": {
            "text/plain": [
              "<Figure size 640x480 with 1 Axes>"
            ],
            "image/png": "[encoded data removed]"
          },
          "metadata": {}
        }
      ]
    },
    {
      "cell_type": "markdown",
      "source": [
        "PREDICTION ERROR PLOT"
      ],
      "metadata": {
        "id": "U50YN85NSVcv"
      }
    },
    {
      "cell_type": "code",
      "source": [
        "def plot_prediction_error(y_true, y_pred):\n",
        "    plt.figure(figsize=(10, 6))\n",
        "    plt.scatter(y_true, y_pred, alpha=0.3)\n",
        "    plt.plot([min(y_true), max(y_true)], [min(y_true), max(y_true)], color='red', linewidth=2)\n",
        "    plt.xlabel('Actual values')\n",
        "    plt.ylabel('Predicted values')\n",
        "    plt.title('Prediction Error Plot')\n",
        "    plt.show()\n",
        "\n",
        "plot_prediction_error(y_test, y_test_pred)\n"
      ],
      "metadata": {
        "colab": {
          "base_uri": "https://localhost:8080/",
          "height": 564
        },
        "id": "8pFrHXZtSXce",
        "outputId": "1e8d5d35-daf0-4378-f4bb-4fd3a6ba3839"
      },
      "execution_count": 38,
      "outputs": [
        {
          "output_type": "display_data",
          "data": {
            "text/plain": [
              "<Figure size 1000x600 with 1 Axes>"
            ],
            "image/png": "[encoded data removed]"
          },
          "metadata": {}
        }
      ]
    }
  ]
}