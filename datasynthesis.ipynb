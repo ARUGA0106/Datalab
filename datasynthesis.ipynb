{
  "nbformat": 4,
  "nbformat_minor": 0,
  "metadata": {
    "colab": {
      "provenance": []
    },
    "kernelspec": {
      "name": "python3",
      "display_name": "Python 3"
    },
    "language_info": {
      "name": "python"
    }
  },
  "cells": [
    {
      "cell_type": "code",
      "execution_count": 2,
      "metadata": {
        "id": "v9T835poeaKh",
        "colab": {
          "base_uri": "https://localhost:8080/",
          "height": 17
        },
        "outputId": "8f9e1c78-2bc3-4e33-acd9-12b3fc31075e"
      },
      "outputs": [
        {
          "output_type": "display_data",
          "data": {
            "text/plain": [
              "<IPython.core.display.Javascript object>"
            ],
            "application/javascript": [
              "\n",
              "    async function download(id, filename, size) {\n",
              "      if (!google.colab.kernel.accessAllowed) {\n",
              "        return;\n",
              "      }\n",
              "      const div = document.createElement('div');\n",
              "      const label = document.createElement('label');\n",
              "      label.textContent = `Downloading \"${filename}\": `;\n",
              "      div.appendChild(label);\n",
              "      const progress = document.createElement('progress');\n",
              "      progress.max = size;\n",
              "      div.appendChild(progress);\n",
              "      document.body.appendChild(div);\n",
              "\n",
              "      const buffers = [];\n",
              "      let downloaded = 0;\n",
              "\n",
              "      const channel = await google.colab.kernel.comms.open(id);\n",
              "      // Send a message to notify the kernel that we're ready.\n",
              "      channel.send({})\n",
              "\n",
              "      for await (const message of channel.messages) {\n",
              "        // Send a message to notify the kernel that we're ready.\n",
              "        channel.send({})\n",
              "        if (message.buffers) {\n",
              "          for (const buffer of message.buffers) {\n",
              "            buffers.push(buffer);\n",
              "            downloaded += buffer.byteLength;\n",
              "            progress.value = downloaded;\n",
              "          }\n",
              "        }\n",
              "      }\n",
              "      const blob = new Blob(buffers, {type: 'application/binary'});\n",
              "      const a = document.createElement('a');\n",
              "      a.href = window.URL.createObjectURL(blob);\n",
              "      a.download = filename;\n",
              "      div.appendChild(a);\n",
              "      a.click();\n",
              "      div.remove();\n",
              "    }\n",
              "  "
            ]
          },
          "metadata": {}
        },
        {
          "output_type": "display_data",
          "data": {
            "text/plain": [
              "<IPython.core.display.Javascript object>"
            ],
            "application/javascript": [
              "download(\"download_b5dc6884-90bf-4278-9941-76ef80dac374\", \"machine_operations.csv\", 746996)"
            ]
          },
          "metadata": {}
        }
      ],
      "source": [
        "import numpy as np\n",
        "import pandas as pd\n",
        "from google.colab import files\n",
        "\n",
        "# Number of observations\n",
        "observations = 10000\n",
        "\n",
        "# Generate random data\n",
        "np.random.seed(42)  # For reproducibility\n",
        "temperature = np.random.normal(loc=25, scale=3, size=observations)  # Example: Mean=75, Std=5\n",
        "vibration = np.random.normal(loc=0.5, scale=0.1, size=observations)  # Example: Mean=0.5, Std=0.1\n",
        "pressure = np.random.normal(loc=2, scale=0.2, size=observations)  # Example: Mean=30, Std=2\n",
        "conductivity = np.random.normal(loc=100, scale=15, size=observations)  # Example: Mean=100, Std=15\n",
        "\n",
        "# Create a DataFrame\n",
        "data = {\n",
        "    'Temperature': temperature,\n",
        "    'Vibration': vibration,\n",
        "    'Pressure': pressure,\n",
        "    'Conductivity': conductivity\n",
        "}\n",
        "\n",
        "df = pd.DataFrame(data)\n",
        "\n",
        "# Save to CSV file\n",
        "csv_file = 'machine_operations.csv'\n",
        "df.to_csv(csv_file, index=False)\n",
        "\n",
        "# Download the CSV file to local machine\n",
        "files.download(csv_file)\n"
      ]
    },
    {
      "cell_type": "code",
      "source": [
        "import numpy as np\n",
        "\n",
        "import pandas  as pd\n",
        "from google.colab import files\n",
        "#setting the amount of data required\n",
        "observation = 60000\n",
        "\n",
        "#generating random data\n",
        "np.random.seed(60)\n",
        "current = np.random.normal(loc = 3, scale = 0.2, size = observation)\n",
        "voltage = np.random.normal(loc = 220, scale = 10, size = observation)\n",
        "power = np.random.normal(loc = 100, scale = 20, size = observation)\n",
        "frequency = np.random.normal(loc = 60, scale = 10, size = observation)\n",
        "load = np.random.normal(loc = 10, scale = 2, size = observation)\n",
        "# creating dataframe\n",
        "data = {\n",
        "    'Current (mA)': current,\n",
        "    'Voltage(V)': voltage,\n",
        "    'Power(KW)': power,\n",
        "    'Frequency(Hz)': frequency,\n",
        "    'Load(R)': load\n",
        "}\n",
        "#greating the data to frames\n",
        "df = pd.DataFrame(data)\n",
        "#saving the data frame as csv file\n",
        "csv_file = 'operational_data.csv'\n",
        "df.to_csv('operational_data.csv', index = False)\n",
        "#downloading the csv file\n",
        "files.download('operational_data.csv')\n"
      ],
      "metadata": {
        "colab": {
          "base_uri": "https://localhost:8080/",
          "height": 17
        },
        "id": "drTRQdovgQV2",
        "outputId": "2618aef3-3b5d-426a-8510-0ae257b32830"
      },
      "execution_count": 6,
      "outputs": [
        {
          "output_type": "display_data",
          "data": {
            "text/plain": [
              "<IPython.core.display.Javascript object>"
            ],
            "application/javascript": [
              "\n",
              "    async function download(id, filename, size) {\n",
              "      if (!google.colab.kernel.accessAllowed) {\n",
              "        return;\n",
              "      }\n",
              "      const div = document.createElement('div');\n",
              "      const label = document.createElement('label');\n",
              "      label.textContent = `Downloading \"${filename}\": `;\n",
              "      div.appendChild(label);\n",
              "      const progress = document.createElement('progress');\n",
              "      progress.max = size;\n",
              "      div.appendChild(progress);\n",
              "      document.body.appendChild(div);\n",
              "\n",
              "      const buffers = [];\n",
              "      let downloaded = 0;\n",
              "\n",
              "      const channel = await google.colab.kernel.comms.open(id);\n",
              "      // Send a message to notify the kernel that we're ready.\n",
              "      channel.send({})\n",
              "\n",
              "      for await (const message of channel.messages) {\n",
              "        // Send a message to notify the kernel that we're ready.\n",
              "        channel.send({})\n",
              "        if (message.buffers) {\n",
              "          for (const buffer of message.buffers) {\n",
              "            buffers.push(buffer);\n",
              "            downloaded += buffer.byteLength;\n",
              "            progress.value = downloaded;\n",
              "          }\n",
              "        }\n",
              "      }\n",
              "      const blob = new Blob(buffers, {type: 'application/binary'});\n",
              "      const a = document.createElement('a');\n",
              "      a.href = window.URL.createObjectURL(blob);\n",
              "      a.download = filename;\n",
              "      div.appendChild(a);\n",
              "      a.click();\n",
              "      div.remove();\n",
              "    }\n",
              "  "
            ]
          },
          "metadata": {}
        },
        {
          "output_type": "display_data",
          "data": {
            "text/plain": [
              "<IPython.core.display.Javascript object>"
            ],
            "application/javascript": [
              "download(\"download_ba0342d7-48d0-4f01-92ea-176bdffdd633\", \"operational_data.csv\", 5517507)"
            ]
          },
          "metadata": {}
        }
      ]
    }
  ]
}