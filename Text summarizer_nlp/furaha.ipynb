{
  "nbformat": 4,
  "nbformat_minor": 0,
  "metadata": {
    "colab": {
      "provenance": []
    },
    "kernelspec": {
      "name": "python3",
      "display_name": "Python 3"
    },
    "language_info": {
      "name": "python"
    }
  },
  "cells": [
    {
      "cell_type": "code",
      "source": [
        "!pip install nltk spacy textblob pdfplumber textacy streamlit-pydeck plotly\n",
        "!python -m spacy download en_core_web_sm\n"
      ],
      "metadata": {
        "id": "uBqbXlwWdiXQ"
      },
      "execution_count": null,
      "outputs": []
    },
    {
      "cell_type": "code",
      "source": [
        "from google.colab import files\n",
        "uploaded = files.upload()\n"
      ],
      "metadata": {
        "colab": {
          "base_uri": "https://localhost:8080/",
          "height": 73
        },
        "id": "TSlTZE2ihnjK",
        "outputId": "4800f042-c904-4d83-faeb-15513abb406f"
      },
      "execution_count": null,
      "outputs": [
        {
          "output_type": "display_data",
          "data": {
            "text/plain": [
              "<IPython.core.display.HTML object>"
            ],
            "text/html": [
              "\n",
              "     <input type=\"file\" id=\"files-13d9a46c-c02e-4710-a272-5f6db4491c71\" name=\"files[]\" multiple disabled\n",
              "        style=\"border:none\" />\n",
              "     <output id=\"result-13d9a46c-c02e-4710-a272-5f6db4491c71\">\n",
              "      Upload widget is only available when the cell has been executed in the\n",
              "      current browser session. Please rerun this cell to enable.\n",
              "      </output>\n",
              "      <script>// Copyright 2017 Google LLC\n",
              "//\n",
              "// Licensed under the Apache License, Version 2.0 (the \"License\");\n",
              "// you may not use this file except in compliance with the License.\n",
              "// You may obtain a copy of the License at\n",
              "//\n",
              "//      http://www.apache.org/licenses/LICENSE-2.0\n",
              "//\n",
              "// Unless required by applicable law or agreed to in writing, software\n",
              "// distributed under the License is distributed on an \"AS IS\" BASIS,\n",
              "// WITHOUT WARRANTIES OR CONDITIONS OF ANY KIND, either express or implied.\n",
              "// See the License for the specific language governing permissions and\n",
              "// limitations under the License.\n",
              "\n",
              "/**\n",
              " * @fileoverview Helpers for google.colab Python module.\n",
              " */\n",
              "(function(scope) {\n",
              "function span(text, styleAttributes = {}) {\n",
              "  const element = document.createElement('span');\n",
              "  element.textContent = text;\n",
              "  for (const key of Object.keys(styleAttributes)) {\n",
              "    element.style[key] = styleAttributes[key];\n",
              "  }\n",
              "  return element;\n",
              "}\n",
              "\n",
              "// Max number of bytes which will be uploaded at a time.\n",
              "const MAX_PAYLOAD_SIZE = 100 * 1024;\n",
              "\n",
              "function _uploadFiles(inputId, outputId) {\n",
              "  const steps = uploadFilesStep(inputId, outputId);\n",
              "  const outputElement = document.getElementById(outputId);\n",
              "  // Cache steps on the outputElement to make it available for the next call\n",
              "  // to uploadFilesContinue from Python.\n",
              "  outputElement.steps = steps;\n",
              "\n",
              "  return _uploadFilesContinue(outputId);\n",
              "}\n",
              "\n",
              "// This is roughly an async generator (not supported in the browser yet),\n",
              "// where there are multiple asynchronous steps and the Python side is going\n",
              "// to poll for completion of each step.\n",
              "// This uses a Promise to block the python side on completion of each step,\n",
              "// then passes the result of the previous step as the input to the next step.\n",
              "function _uploadFilesContinue(outputId) {\n",
              "  const outputElement = document.getElementById(outputId);\n",
              "  const steps = outputElement.steps;\n",
              "\n",
              "  const next = steps.next(outputElement.lastPromiseValue);\n",
              "  return Promise.resolve(next.value.promise).then((value) => {\n",
              "    // Cache the last promise value to make it available to the next\n",
              "    // step of the generator.\n",
              "    outputElement.lastPromiseValue = value;\n",
              "    return next.value.response;\n",
              "  });\n",
              "}\n",
              "\n",
              "/**\n",
              " * Generator function which is called between each async step of the upload\n",
              " * process.\n",
              " * @param {string} inputId Element ID of the input file picker element.\n",
              " * @param {string} outputId Element ID of the output display.\n",
              " * @return {!Iterable<!Object>} Iterable of next steps.\n",
              " */\n",
              "function* uploadFilesStep(inputId, outputId) {\n",
              "  const inputElement = document.getElementById(inputId);\n",
              "  inputElement.disabled = false;\n",
              "\n",
              "  const outputElement = document.getElementById(outputId);\n",
              "  outputElement.innerHTML = '';\n",
              "\n",
              "  const pickedPromise = new Promise((resolve) => {\n",
              "    inputElement.addEventListener('change', (e) => {\n",
              "      resolve(e.target.files);\n",
              "    });\n",
              "  });\n",
              "\n",
              "  const cancel = document.createElement('button');\n",
              "  inputElement.parentElement.appendChild(cancel);\n",
              "  cancel.textContent = 'Cancel upload';\n",
              "  const cancelPromise = new Promise((resolve) => {\n",
              "    cancel.onclick = () => {\n",
              "      resolve(null);\n",
              "    };\n",
              "  });\n",
              "\n",
              "  // Wait for the user to pick the files.\n",
              "  const files = yield {\n",
              "    promise: Promise.race([pickedPromise, cancelPromise]),\n",
              "    response: {\n",
              "      action: 'starting',\n",
              "    }\n",
              "  };\n",
              "\n",
              "  cancel.remove();\n",
              "\n",
              "  // Disable the input element since further picks are not allowed.\n",
              "  inputElement.disabled = true;\n",
              "\n",
              "  if (!files) {\n",
              "    return {\n",
              "      response: {\n",
              "        action: 'complete',\n",
              "      }\n",
              "    };\n",
              "  }\n",
              "\n",
              "  for (const file of files) {\n",
              "    const li = document.createElement('li');\n",
              "    li.append(span(file.name, {fontWeight: 'bold'}));\n",
              "    li.append(span(\n",
              "        `(${file.type || 'n/a'}) - ${file.size} bytes, ` +\n",
              "        `last modified: ${\n",
              "            file.lastModifiedDate ? file.lastModifiedDate.toLocaleDateString() :\n",
              "                                    'n/a'} - `));\n",
              "    const percent = span('0% done');\n",
              "    li.appendChild(percent);\n",
              "\n",
              "    outputElement.appendChild(li);\n",
              "\n",
              "    const fileDataPromise = new Promise((resolve) => {\n",
              "      const reader = new FileReader();\n",
              "      reader.onload = (e) => {\n",
              "        resolve(e.target.result);\n",
              "      };\n",
              "      reader.readAsArrayBuffer(file);\n",
              "    });\n",
              "    // Wait for the data to be ready.\n",
              "    let fileData = yield {\n",
              "      promise: fileDataPromise,\n",
              "      response: {\n",
              "        action: 'continue',\n",
              "      }\n",
              "    };\n",
              "\n",
              "    // Use a chunked sending to avoid message size limits. See b/62115660.\n",
              "    let position = 0;\n",
              "    do {\n",
              "      const length = Math.min(fileData.byteLength - position, MAX_PAYLOAD_SIZE);\n",
              "      const chunk = new Uint8Array(fileData, position, length);\n",
              "      position += length;\n",
              "\n",
              "      const base64 = btoa(String.fromCharCode.apply(null, chunk));\n",
              "      yield {\n",
              "        response: {\n",
              "          action: 'append',\n",
              "          file: file.name,\n",
              "          data: base64,\n",
              "        },\n",
              "      };\n",
              "\n",
              "      let percentDone = fileData.byteLength === 0 ?\n",
              "          100 :\n",
              "          Math.round((position / fileData.byteLength) * 100);\n",
              "      percent.textContent = `${percentDone}% done`;\n",
              "\n",
              "    } while (position < fileData.byteLength);\n",
              "  }\n",
              "\n",
              "  // All done.\n",
              "  yield {\n",
              "    response: {\n",
              "      action: 'complete',\n",
              "    }\n",
              "  };\n",
              "}\n",
              "\n",
              "scope.google = scope.google || {};\n",
              "scope.google.colab = scope.google.colab || {};\n",
              "scope.google.colab._files = {\n",
              "  _uploadFiles,\n",
              "  _uploadFilesContinue,\n",
              "};\n",
              "})(self);\n",
              "</script> "
            ]
          },
          "metadata": {}
        },
        {
          "output_type": "stream",
          "name": "stdout",
          "text": [
            "Saving general meeting.pdf to general meeting (1).pdf\n"
          ]
        }
      ]
    },
    {
      "cell_type": "code",
      "source": [
        "\n",
        "import pdfplumber\n",
        "\n",
        "with pdfplumber.open('general meeting.pdf') as pdf:\n",
        "    text = ''\n",
        "    for page in pdf.pages:\n",
        "        text += page.extract_text()\n",
        "!p\n",
        "import spacy\n",
        "nlp = spacy.load('en_core_web_sm')\n",
        "doc = nlp(text)\n",
        "for token in doc:\n",
        "    print(token.text, token.pos_, token.dep_)"
      ],
      "metadata": {
        "id": "j_Q6Wy7th2Cr"
      },
      "execution_count": null,
      "outputs": []
    },
    {
      "cell_type": "code",
      "source": [
        "import nltk\n",
        "nltk.download('punkt')\n",
        "from nltk.tokenize import sent_tokenize\n",
        "\n",
        "sentences = sent_tokenize(text)\n",
        "print(sentences)"
      ],
      "metadata": {
        "colab": {
          "base_uri": "https://localhost:8080/"
        },
        "id": "KAkdsIkTkNgD",
        "outputId": "74ef07fb-c1ad-4e09-9c4f-4aeade37e970"
      },
      "execution_count": null,
      "outputs": [
        {
          "output_type": "stream",
          "name": "stderr",
          "text": [
            "[nltk_data] Downloading package punkt to /root/nltk_data...\n",
            "[nltk_data]   Unzipping tokenizers/punkt.zip.\n"
          ]
        },
        {
          "output_type": "stream",
          "name": "stdout",
          "text": [
            "['Meeting Minutes: Annual Budgeting Follow-up Meeting for Cleaning Company\\nDate: July 24, 2024\\nTime:10:00 AM - 11:30 AM\\nLocation: Conference Room 1, Headquarters\\nAttendees:\\nJohn Doe - CEO\\nJane Smith - CFO\\nMichael Brown - Operations Manager\\nEmily White - HR Manager\\nRichard Lee - Marketing Manager\\nLinda Green - Procurement Manager\\nNancy Turner - Administrative Assistant (Minute Taker)\\nOpening Remarks\\nJohn Doe commenced the meeting at 10:00 AM, welcoming all participants and expressing\\nappreciation for their continued dedication.', 'He emphasized the critical nature of this follow-up\\nmeeting to review the initial implementation stages of the newly approved budget and address any\\nimmediate issues or adjustments needed.', \"Review of Budget Implementation\\nJane Smith provided an overview of the budget's initial implementation phase.\", 'She highlighted\\nthat most departments had successfully begun their allocated projects and spending plans.', 'Jane\\nnoted a few discrepancies in the operations budget due to unexpected maintenance costs for\\nexisting equipment, wich had slightly exceeded the initial estimates.', 'Departmental Updates\\nMichael Brown reported on the operational enhancements, particularly the acquisition of new\\ncleaning equipment, which had already improved efficiency and service quality.', 'He mentioned\\nthat the staff training programs were underway, with positive feedback from employees.Emily White updated the team on HR initiatives, including the launch of employee wellness\\nprograms.', 'She highlighted the success of recent recruitment efforts, which had attracted several\\nqualified candidates, filling critical vacancies.', \"Richard Lee discussed the marketing department's progress, particularly the digital marketing\\ncampaigns that had been launched.\", 'Early analytics showed a promising increase in web traffic and\\ncustomer inquiries.', 'Linda Green spoke about procurement activities, noting that negotiations with key suppliers were\\nprogressing well.', 'She anticipated that securing long-term contracts would soon result in cost\\nsavings and more stable supply chains.', 'Discussion and Adjustments\\nJohn Doe opened the floor for a discussion on any adjustments required for the current budget\\nallocations.', 'Jane Smith suggested reallocating a small portion of the marketing budget to cover the\\nunexpected operational maintenance costs, which all attendees agreed would be a prudent decision.', 'Michael Brown proposed an additional minor investment in staff training software to further\\nenhance the effectiveness of the training programs.', 'After a brief discussion, this was approved,\\nwith funds to be reallocated from the general contingency budget.', 'Approval of Adjustments\\nJohn Doe called for a formal vote on the proposed budget adjustments.', \"The adjustments were\\nunanimously approved by all attendees, ensuring that each department's immediate needs were\\nadequately addressed while maintaining overall budgetary discipline.\", 'Closing RemarksJohn Doe thanked everyone for their proactive contributions and constructive discussions.', 'He\\nreiterated the importance of ongoing communication and regular check-ins to ensure that the\\nbudget remains aligned with the company’s strategic goals.', 'The next review meeting was\\nscheduled for October 24, 2024.', 'The meeting was adjourned at 11:30 AM.', 'Minutes prepared by: Nancy Turner, Administrative Assist\\n_______________________\\nJohn Doe, CEO']\n"
          ]
        }
      ]
    },
    {
      "cell_type": "code",
      "source": [
        "from nltk.tokenize import word_tokenize\n",
        "\n",
        "words = [word_tokenize(sentence) for sentence in sentences]\n",
        "\n",
        "print(words)"
      ],
      "metadata": {
        "colab": {
          "base_uri": "https://localhost:8080/"
        },
        "id": "-ASn4XrdkrpD",
        "outputId": "1ec207d7-d8b1-43b0-ea4d-9f78bc511bf2"
      },
      "execution_count": null,
      "outputs": [
        {
          "output_type": "stream",
          "name": "stdout",
          "text": [
            "[['Meeting', 'Minutes', ':', 'Annual', 'Budgeting', 'Follow-up', 'Meeting', 'for', 'Cleaning', 'Company', 'Date', ':', 'July', '24', ',', '2024', 'Time:10:00', 'AM', '-', '11:30', 'AM', 'Location', ':', 'Conference', 'Room', '1', ',', 'Headquarters', 'Attendees', ':', 'John', 'Doe', '-', 'CEO', 'Jane', 'Smith', '-', 'CFO', 'Michael', 'Brown', '-', 'Operations', 'Manager', 'Emily', 'White', '-', 'HR', 'Manager', 'Richard', 'Lee', '-', 'Marketing', 'Manager', 'Linda', 'Green', '-', 'Procurement', 'Manager', 'Nancy', 'Turner', '-', 'Administrative', 'Assistant', '(', 'Minute', 'Taker', ')', 'Opening', 'Remarks', 'John', 'Doe', 'commenced', 'the', 'meeting', 'at', '10:00', 'AM', ',', 'welcoming', 'all', 'participants', 'and', 'expressing', 'appreciation', 'for', 'their', 'continued', 'dedication', '.'], ['He', 'emphasized', 'the', 'critical', 'nature', 'of', 'this', 'follow-up', 'meeting', 'to', 'review', 'the', 'initial', 'implementation', 'stages', 'of', 'the', 'newly', 'approved', 'budget', 'and', 'address', 'any', 'immediate', 'issues', 'or', 'adjustments', 'needed', '.'], ['Review', 'of', 'Budget', 'Implementation', 'Jane', 'Smith', 'provided', 'an', 'overview', 'of', 'the', 'budget', \"'s\", 'initial', 'implementation', 'phase', '.'], ['She', 'highlighted', 'that', 'most', 'departments', 'had', 'successfully', 'begun', 'their', 'allocated', 'projects', 'and', 'spending', 'plans', '.'], ['Jane', 'noted', 'a', 'few', 'discrepancies', 'in', 'the', 'operations', 'budget', 'due', 'to', 'unexpected', 'maintenance', 'costs', 'for', 'existing', 'equipment', ',', 'wich', 'had', 'slightly', 'exceeded', 'the', 'initial', 'estimates', '.'], ['Departmental', 'Updates', 'Michael', 'Brown', 'reported', 'on', 'the', 'operational', 'enhancements', ',', 'particularly', 'the', 'acquisition', 'of', 'new', 'cleaning', 'equipment', ',', 'which', 'had', 'already', 'improved', 'efficiency', 'and', 'service', 'quality', '.'], ['He', 'mentioned', 'that', 'the', 'staff', 'training', 'programs', 'were', 'underway', ',', 'with', 'positive', 'feedback', 'from', 'employees.Emily', 'White', 'updated', 'the', 'team', 'on', 'HR', 'initiatives', ',', 'including', 'the', 'launch', 'of', 'employee', 'wellness', 'programs', '.'], ['She', 'highlighted', 'the', 'success', 'of', 'recent', 'recruitment', 'efforts', ',', 'which', 'had', 'attracted', 'several', 'qualified', 'candidates', ',', 'filling', 'critical', 'vacancies', '.'], ['Richard', 'Lee', 'discussed', 'the', 'marketing', 'department', \"'s\", 'progress', ',', 'particularly', 'the', 'digital', 'marketing', 'campaigns', 'that', 'had', 'been', 'launched', '.'], ['Early', 'analytics', 'showed', 'a', 'promising', 'increase', 'in', 'web', 'traffic', 'and', 'customer', 'inquiries', '.'], ['Linda', 'Green', 'spoke', 'about', 'procurement', 'activities', ',', 'noting', 'that', 'negotiations', 'with', 'key', 'suppliers', 'were', 'progressing', 'well', '.'], ['She', 'anticipated', 'that', 'securing', 'long-term', 'contracts', 'would', 'soon', 'result', 'in', 'cost', 'savings', 'and', 'more', 'stable', 'supply', 'chains', '.'], ['Discussion', 'and', 'Adjustments', 'John', 'Doe', 'opened', 'the', 'floor', 'for', 'a', 'discussion', 'on', 'any', 'adjustments', 'required', 'for', 'the', 'current', 'budget', 'allocations', '.'], ['Jane', 'Smith', 'suggested', 'reallocating', 'a', 'small', 'portion', 'of', 'the', 'marketing', 'budget', 'to', 'cover', 'the', 'unexpected', 'operational', 'maintenance', 'costs', ',', 'which', 'all', 'attendees', 'agreed', 'would', 'be', 'a', 'prudent', 'decision', '.'], ['Michael', 'Brown', 'proposed', 'an', 'additional', 'minor', 'investment', 'in', 'staff', 'training', 'software', 'to', 'further', 'enhance', 'the', 'effectiveness', 'of', 'the', 'training', 'programs', '.'], ['After', 'a', 'brief', 'discussion', ',', 'this', 'was', 'approved', ',', 'with', 'funds', 'to', 'be', 'reallocated', 'from', 'the', 'general', 'contingency', 'budget', '.'], ['Approval', 'of', 'Adjustments', 'John', 'Doe', 'called', 'for', 'a', 'formal', 'vote', 'on', 'the', 'proposed', 'budget', 'adjustments', '.'], ['The', 'adjustments', 'were', 'unanimously', 'approved', 'by', 'all', 'attendees', ',', 'ensuring', 'that', 'each', 'department', \"'s\", 'immediate', 'needs', 'were', 'adequately', 'addressed', 'while', 'maintaining', 'overall', 'budgetary', 'discipline', '.'], ['Closing', 'RemarksJohn', 'Doe', 'thanked', 'everyone', 'for', 'their', 'proactive', 'contributions', 'and', 'constructive', 'discussions', '.'], ['He', 'reiterated', 'the', 'importance', 'of', 'ongoing', 'communication', 'and', 'regular', 'check-ins', 'to', 'ensure', 'that', 'the', 'budget', 'remains', 'aligned', 'with', 'the', 'company', '’', 's', 'strategic', 'goals', '.'], ['The', 'next', 'review', 'meeting', 'was', 'scheduled', 'for', 'October', '24', ',', '2024', '.'], ['The', 'meeting', 'was', 'adjourned', 'at', '11:30', 'AM', '.'], ['Minutes', 'prepared', 'by', ':', 'Nancy', 'Turner', ',', 'Administrative', 'Assist', '_______________________', 'John', 'Doe', ',', 'CEO']]\n"
          ]
        }
      ]
    },
    {
      "cell_type": "code",
      "source": [
        "nltk.download('averaged_perceptron_tagger')\n",
        "\n",
        "pos_tags = [nltk.pos_tag(word_tokenize(sentence)) for sentence in sentences]\n",
        "print(pos_tags)"
      ],
      "metadata": {
        "colab": {
          "base_uri": "https://localhost:8080/"
        },
        "id": "ONuD0HIVlDn7",
        "outputId": "9ab7d13d-e1a4-4f29-de39-ef32db95dafc"
      },
      "execution_count": null,
      "outputs": [
        {
          "output_type": "stream",
          "name": "stdout",
          "text": [
            "[[('Meeting', 'VBG'), ('Minutes', 'NNS'), (':', ':'), ('Annual', 'JJ'), ('Budgeting', 'NNP'), ('Follow-up', 'NNP'), ('Meeting', 'NNP'), ('for', 'IN'), ('Cleaning', 'NNP'), ('Company', 'NNP'), ('Date', 'NNP'), (':', ':'), ('July', 'NNP'), ('24', 'CD'), (',', ','), ('2024', 'CD'), ('Time:10:00', 'NNP'), ('AM', 'NNP'), ('-', ':'), ('11:30', 'CD'), ('AM', 'NNP'), ('Location', 'NNP'), (':', ':'), ('Conference', 'NN'), ('Room', 'NNP'), ('1', 'CD'), (',', ','), ('Headquarters', 'NNP'), ('Attendees', 'NNP'), (':', ':'), ('John', 'NNP'), ('Doe', 'NNP'), ('-', ':'), ('CEO', 'NNP'), ('Jane', 'NNP'), ('Smith', 'NNP'), ('-', ':'), ('CFO', 'NNP'), ('Michael', 'NNP'), ('Brown', 'NNP'), ('-', ':'), ('Operations', 'NNPS'), ('Manager', 'NNP'), ('Emily', 'NNP'), ('White', 'NNP'), ('-', ':'), ('HR', 'NNP'), ('Manager', 'NNP'), ('Richard', 'NNP'), ('Lee', 'NNP'), ('-', ':'), ('Marketing', 'NN'), ('Manager', 'NNP'), ('Linda', 'NNP'), ('Green', 'NNP'), ('-', ':'), ('Procurement', 'NN'), ('Manager', 'NNP'), ('Nancy', 'NNP'), ('Turner', 'NNP'), ('-', ':'), ('Administrative', 'JJ'), ('Assistant', 'NNP'), ('(', '('), ('Minute', 'NNP'), ('Taker', 'NNP'), (')', ')'), ('Opening', 'VBG'), ('Remarks', 'NNP'), ('John', 'NNP'), ('Doe', 'NNP'), ('commenced', 'VBD'), ('the', 'DT'), ('meeting', 'NN'), ('at', 'IN'), ('10:00', 'CD'), ('AM', 'NNP'), (',', ','), ('welcoming', 'VBG'), ('all', 'DT'), ('participants', 'NNS'), ('and', 'CC'), ('expressing', 'VBG'), ('appreciation', 'NN'), ('for', 'IN'), ('their', 'PRP$'), ('continued', 'JJ'), ('dedication', 'NN'), ('.', '.')], [('He', 'PRP'), ('emphasized', 'VBD'), ('the', 'DT'), ('critical', 'JJ'), ('nature', 'NN'), ('of', 'IN'), ('this', 'DT'), ('follow-up', 'JJ'), ('meeting', 'NN'), ('to', 'TO'), ('review', 'VB'), ('the', 'DT'), ('initial', 'JJ'), ('implementation', 'NN'), ('stages', 'NNS'), ('of', 'IN'), ('the', 'DT'), ('newly', 'RB'), ('approved', 'VBN'), ('budget', 'NN'), ('and', 'CC'), ('address', 'NN'), ('any', 'DT'), ('immediate', 'JJ'), ('issues', 'NNS'), ('or', 'CC'), ('adjustments', 'NNS'), ('needed', 'VBN'), ('.', '.')], [('Review', 'NNP'), ('of', 'IN'), ('Budget', 'NNP'), ('Implementation', 'NNP'), ('Jane', 'NNP'), ('Smith', 'NNP'), ('provided', 'VBD'), ('an', 'DT'), ('overview', 'NN'), ('of', 'IN'), ('the', 'DT'), ('budget', 'NN'), (\"'s\", 'POS'), ('initial', 'JJ'), ('implementation', 'NN'), ('phase', 'NN'), ('.', '.')], [('She', 'PRP'), ('highlighted', 'VBD'), ('that', 'IN'), ('most', 'JJS'), ('departments', 'NNS'), ('had', 'VBD'), ('successfully', 'RB'), ('begun', 'VBN'), ('their', 'PRP$'), ('allocated', 'JJ'), ('projects', 'NNS'), ('and', 'CC'), ('spending', 'NN'), ('plans', 'NNS'), ('.', '.')], [('Jane', 'NNP'), ('noted', 'VBD'), ('a', 'DT'), ('few', 'JJ'), ('discrepancies', 'NNS'), ('in', 'IN'), ('the', 'DT'), ('operations', 'NNS'), ('budget', 'NN'), ('due', 'JJ'), ('to', 'TO'), ('unexpected', 'JJ'), ('maintenance', 'NN'), ('costs', 'NNS'), ('for', 'IN'), ('existing', 'VBG'), ('equipment', 'NN'), (',', ','), ('wich', 'WDT'), ('had', 'VBD'), ('slightly', 'RB'), ('exceeded', 'VBN'), ('the', 'DT'), ('initial', 'JJ'), ('estimates', 'NNS'), ('.', '.')], [('Departmental', 'NNP'), ('Updates', 'VBZ'), ('Michael', 'NNP'), ('Brown', 'NNP'), ('reported', 'VBD'), ('on', 'IN'), ('the', 'DT'), ('operational', 'JJ'), ('enhancements', 'NNS'), (',', ','), ('particularly', 'RB'), ('the', 'DT'), ('acquisition', 'NN'), ('of', 'IN'), ('new', 'JJ'), ('cleaning', 'NN'), ('equipment', 'NN'), (',', ','), ('which', 'WDT'), ('had', 'VBD'), ('already', 'RB'), ('improved', 'VBN'), ('efficiency', 'NN'), ('and', 'CC'), ('service', 'NN'), ('quality', 'NN'), ('.', '.')], [('He', 'PRP'), ('mentioned', 'VBD'), ('that', 'IN'), ('the', 'DT'), ('staff', 'NN'), ('training', 'NN'), ('programs', 'NNS'), ('were', 'VBD'), ('underway', 'RB'), (',', ','), ('with', 'IN'), ('positive', 'JJ'), ('feedback', 'NN'), ('from', 'IN'), ('employees.Emily', 'RB'), ('White', 'NNP'), ('updated', 'VBD'), ('the', 'DT'), ('team', 'NN'), ('on', 'IN'), ('HR', 'NNP'), ('initiatives', 'NNS'), (',', ','), ('including', 'VBG'), ('the', 'DT'), ('launch', 'NN'), ('of', 'IN'), ('employee', 'NN'), ('wellness', 'NN'), ('programs', 'NNS'), ('.', '.')], [('She', 'PRP'), ('highlighted', 'VBD'), ('the', 'DT'), ('success', 'NN'), ('of', 'IN'), ('recent', 'JJ'), ('recruitment', 'NN'), ('efforts', 'NNS'), (',', ','), ('which', 'WDT'), ('had', 'VBD'), ('attracted', 'VBN'), ('several', 'JJ'), ('qualified', 'JJ'), ('candidates', 'NNS'), (',', ','), ('filling', 'VBG'), ('critical', 'JJ'), ('vacancies', 'NNS'), ('.', '.')], [('Richard', 'NNP'), ('Lee', 'NNP'), ('discussed', 'VBD'), ('the', 'DT'), ('marketing', 'NN'), ('department', 'NN'), (\"'s\", 'POS'), ('progress', 'NN'), (',', ','), ('particularly', 'RB'), ('the', 'DT'), ('digital', 'JJ'), ('marketing', 'NN'), ('campaigns', 'NNS'), ('that', 'WDT'), ('had', 'VBD'), ('been', 'VBN'), ('launched', 'VBN'), ('.', '.')], [('Early', 'JJ'), ('analytics', 'NNS'), ('showed', 'VBD'), ('a', 'DT'), ('promising', 'JJ'), ('increase', 'NN'), ('in', 'IN'), ('web', 'JJ'), ('traffic', 'NN'), ('and', 'CC'), ('customer', 'NN'), ('inquiries', 'NNS'), ('.', '.')], [('Linda', 'NNP'), ('Green', 'NNP'), ('spoke', 'VBD'), ('about', 'IN'), ('procurement', 'NN'), ('activities', 'NNS'), (',', ','), ('noting', 'VBG'), ('that', 'IN'), ('negotiations', 'NNS'), ('with', 'IN'), ('key', 'JJ'), ('suppliers', 'NNS'), ('were', 'VBD'), ('progressing', 'VBG'), ('well', 'RB'), ('.', '.')], [('She', 'PRP'), ('anticipated', 'VBD'), ('that', 'IN'), ('securing', 'VBG'), ('long-term', 'JJ'), ('contracts', 'NNS'), ('would', 'MD'), ('soon', 'RB'), ('result', 'VB'), ('in', 'IN'), ('cost', 'NN'), ('savings', 'NNS'), ('and', 'CC'), ('more', 'RBR'), ('stable', 'JJ'), ('supply', 'NN'), ('chains', 'NNS'), ('.', '.')], [('Discussion', 'NN'), ('and', 'CC'), ('Adjustments', 'NNP'), ('John', 'NNP'), ('Doe', 'NNP'), ('opened', 'VBD'), ('the', 'DT'), ('floor', 'NN'), ('for', 'IN'), ('a', 'DT'), ('discussion', 'NN'), ('on', 'IN'), ('any', 'DT'), ('adjustments', 'NNS'), ('required', 'VBN'), ('for', 'IN'), ('the', 'DT'), ('current', 'JJ'), ('budget', 'NN'), ('allocations', 'NNS'), ('.', '.')], [('Jane', 'NNP'), ('Smith', 'NNP'), ('suggested', 'VBD'), ('reallocating', 'VBG'), ('a', 'DT'), ('small', 'JJ'), ('portion', 'NN'), ('of', 'IN'), ('the', 'DT'), ('marketing', 'NN'), ('budget', 'NN'), ('to', 'TO'), ('cover', 'VB'), ('the', 'DT'), ('unexpected', 'JJ'), ('operational', 'JJ'), ('maintenance', 'NN'), ('costs', 'NNS'), (',', ','), ('which', 'WDT'), ('all', 'DT'), ('attendees', 'NNS'), ('agreed', 'VBD'), ('would', 'MD'), ('be', 'VB'), ('a', 'DT'), ('prudent', 'JJ'), ('decision', 'NN'), ('.', '.')], [('Michael', 'NNP'), ('Brown', 'NNP'), ('proposed', 'VBD'), ('an', 'DT'), ('additional', 'JJ'), ('minor', 'JJ'), ('investment', 'NN'), ('in', 'IN'), ('staff', 'NN'), ('training', 'NN'), ('software', 'NN'), ('to', 'TO'), ('further', 'JJ'), ('enhance', 'VB'), ('the', 'DT'), ('effectiveness', 'NN'), ('of', 'IN'), ('the', 'DT'), ('training', 'NN'), ('programs', 'NNS'), ('.', '.')], [('After', 'IN'), ('a', 'DT'), ('brief', 'JJ'), ('discussion', 'NN'), (',', ','), ('this', 'DT'), ('was', 'VBD'), ('approved', 'VBN'), (',', ','), ('with', 'IN'), ('funds', 'NNS'), ('to', 'TO'), ('be', 'VB'), ('reallocated', 'VBN'), ('from', 'IN'), ('the', 'DT'), ('general', 'JJ'), ('contingency', 'NN'), ('budget', 'NN'), ('.', '.')], [('Approval', 'NN'), ('of', 'IN'), ('Adjustments', 'NNP'), ('John', 'NNP'), ('Doe', 'NNP'), ('called', 'VBD'), ('for', 'IN'), ('a', 'DT'), ('formal', 'JJ'), ('vote', 'NN'), ('on', 'IN'), ('the', 'DT'), ('proposed', 'VBN'), ('budget', 'NN'), ('adjustments', 'NNS'), ('.', '.')], [('The', 'DT'), ('adjustments', 'NNS'), ('were', 'VBD'), ('unanimously', 'RB'), ('approved', 'VBN'), ('by', 'IN'), ('all', 'DT'), ('attendees', 'NNS'), (',', ','), ('ensuring', 'VBG'), ('that', 'IN'), ('each', 'DT'), ('department', 'NN'), (\"'s\", 'POS'), ('immediate', 'JJ'), ('needs', 'NNS'), ('were', 'VBD'), ('adequately', 'RB'), ('addressed', 'VBN'), ('while', 'IN'), ('maintaining', 'VBG'), ('overall', 'JJ'), ('budgetary', 'JJ'), ('discipline', 'NN'), ('.', '.')], [('Closing', 'VBG'), ('RemarksJohn', 'NNP'), ('Doe', 'NNP'), ('thanked', 'VBD'), ('everyone', 'NN'), ('for', 'IN'), ('their', 'PRP$'), ('proactive', 'JJ'), ('contributions', 'NNS'), ('and', 'CC'), ('constructive', 'JJ'), ('discussions', 'NNS'), ('.', '.')], [('He', 'PRP'), ('reiterated', 'VBD'), ('the', 'DT'), ('importance', 'NN'), ('of', 'IN'), ('ongoing', 'VBG'), ('communication', 'NN'), ('and', 'CC'), ('regular', 'JJ'), ('check-ins', 'NNS'), ('to', 'TO'), ('ensure', 'VB'), ('that', 'IN'), ('the', 'DT'), ('budget', 'NN'), ('remains', 'VBZ'), ('aligned', 'VBN'), ('with', 'IN'), ('the', 'DT'), ('company', 'NN'), ('’', 'NNP'), ('s', 'NN'), ('strategic', 'JJ'), ('goals', 'NNS'), ('.', '.')], [('The', 'DT'), ('next', 'JJ'), ('review', 'NN'), ('meeting', 'NN'), ('was', 'VBD'), ('scheduled', 'VBN'), ('for', 'IN'), ('October', 'NNP'), ('24', 'CD'), (',', ','), ('2024', 'CD'), ('.', '.')], [('The', 'DT'), ('meeting', 'NN'), ('was', 'VBD'), ('adjourned', 'VBN'), ('at', 'IN'), ('11:30', 'CD'), ('AM', 'NNP'), ('.', '.')], [('Minutes', 'NNS'), ('prepared', 'VBN'), ('by', 'IN'), (':', ':'), ('Nancy', 'NNP'), ('Turner', 'NNP'), (',', ','), ('Administrative', 'NNP'), ('Assist', 'NNP'), ('_______________________', 'NNP'), ('John', 'NNP'), ('Doe', 'NNP'), (',', ','), ('CEO', 'NNP')]]\n"
          ]
        },
        {
          "output_type": "stream",
          "name": "stderr",
          "text": [
            "[nltk_data] Downloading package averaged_perceptron_tagger to\n",
            "[nltk_data]     /root/nltk_data...\n",
            "[nltk_data]   Package averaged_perceptron_tagger is already up-to-\n",
            "[nltk_data]       date!\n"
          ]
        }
      ]
    },
    {
      "cell_type": "code",
      "source": [
        "nltk.download('wordnet')\n",
        "from nltk.stem import WordNetLemmatizer\n",
        "\n",
        "lemmatizer = WordNetLemmatizer()\n",
        "lemmatized_words = [[lemmatizer.lemmatize(word) for word in word_tokenize(sentence)] for sentence in sentences]\n",
        "print(lemmatized_words)"
      ],
      "metadata": {
        "colab": {
          "base_uri": "https://localhost:8080/"
        },
        "id": "EBrJgpbtlafG",
        "outputId": "5f841023-696a-4396-d531-88ec10ed1292"
      },
      "execution_count": null,
      "outputs": [
        {
          "output_type": "stream",
          "name": "stdout",
          "text": [
            "[['Meeting', 'Minutes', ':', 'Annual', 'Budgeting', 'Follow-up', 'Meeting', 'for', 'Cleaning', 'Company', 'Date', ':', 'July', '24', ',', '2024', 'Time:10:00', 'AM', '-', '11:30', 'AM', 'Location', ':', 'Conference', 'Room', '1', ',', 'Headquarters', 'Attendees', ':', 'John', 'Doe', '-', 'CEO', 'Jane', 'Smith', '-', 'CFO', 'Michael', 'Brown', '-', 'Operations', 'Manager', 'Emily', 'White', '-', 'HR', 'Manager', 'Richard', 'Lee', '-', 'Marketing', 'Manager', 'Linda', 'Green', '-', 'Procurement', 'Manager', 'Nancy', 'Turner', '-', 'Administrative', 'Assistant', '(', 'Minute', 'Taker', ')', 'Opening', 'Remarks', 'John', 'Doe', 'commenced', 'the', 'meeting', 'at', '10:00', 'AM', ',', 'welcoming', 'all', 'participant', 'and', 'expressing', 'appreciation', 'for', 'their', 'continued', 'dedication', '.'], ['He', 'emphasized', 'the', 'critical', 'nature', 'of', 'this', 'follow-up', 'meeting', 'to', 'review', 'the', 'initial', 'implementation', 'stage', 'of', 'the', 'newly', 'approved', 'budget', 'and', 'address', 'any', 'immediate', 'issue', 'or', 'adjustment', 'needed', '.'], ['Review', 'of', 'Budget', 'Implementation', 'Jane', 'Smith', 'provided', 'an', 'overview', 'of', 'the', 'budget', \"'s\", 'initial', 'implementation', 'phase', '.'], ['She', 'highlighted', 'that', 'most', 'department', 'had', 'successfully', 'begun', 'their', 'allocated', 'project', 'and', 'spending', 'plan', '.'], ['Jane', 'noted', 'a', 'few', 'discrepancy', 'in', 'the', 'operation', 'budget', 'due', 'to', 'unexpected', 'maintenance', 'cost', 'for', 'existing', 'equipment', ',', 'wich', 'had', 'slightly', 'exceeded', 'the', 'initial', 'estimate', '.'], ['Departmental', 'Updates', 'Michael', 'Brown', 'reported', 'on', 'the', 'operational', 'enhancement', ',', 'particularly', 'the', 'acquisition', 'of', 'new', 'cleaning', 'equipment', ',', 'which', 'had', 'already', 'improved', 'efficiency', 'and', 'service', 'quality', '.'], ['He', 'mentioned', 'that', 'the', 'staff', 'training', 'program', 'were', 'underway', ',', 'with', 'positive', 'feedback', 'from', 'employees.Emily', 'White', 'updated', 'the', 'team', 'on', 'HR', 'initiative', ',', 'including', 'the', 'launch', 'of', 'employee', 'wellness', 'program', '.'], ['She', 'highlighted', 'the', 'success', 'of', 'recent', 'recruitment', 'effort', ',', 'which', 'had', 'attracted', 'several', 'qualified', 'candidate', ',', 'filling', 'critical', 'vacancy', '.'], ['Richard', 'Lee', 'discussed', 'the', 'marketing', 'department', \"'s\", 'progress', ',', 'particularly', 'the', 'digital', 'marketing', 'campaign', 'that', 'had', 'been', 'launched', '.'], ['Early', 'analytics', 'showed', 'a', 'promising', 'increase', 'in', 'web', 'traffic', 'and', 'customer', 'inquiry', '.'], ['Linda', 'Green', 'spoke', 'about', 'procurement', 'activity', ',', 'noting', 'that', 'negotiation', 'with', 'key', 'supplier', 'were', 'progressing', 'well', '.'], ['She', 'anticipated', 'that', 'securing', 'long-term', 'contract', 'would', 'soon', 'result', 'in', 'cost', 'saving', 'and', 'more', 'stable', 'supply', 'chain', '.'], ['Discussion', 'and', 'Adjustments', 'John', 'Doe', 'opened', 'the', 'floor', 'for', 'a', 'discussion', 'on', 'any', 'adjustment', 'required', 'for', 'the', 'current', 'budget', 'allocation', '.'], ['Jane', 'Smith', 'suggested', 'reallocating', 'a', 'small', 'portion', 'of', 'the', 'marketing', 'budget', 'to', 'cover', 'the', 'unexpected', 'operational', 'maintenance', 'cost', ',', 'which', 'all', 'attendee', 'agreed', 'would', 'be', 'a', 'prudent', 'decision', '.'], ['Michael', 'Brown', 'proposed', 'an', 'additional', 'minor', 'investment', 'in', 'staff', 'training', 'software', 'to', 'further', 'enhance', 'the', 'effectiveness', 'of', 'the', 'training', 'program', '.'], ['After', 'a', 'brief', 'discussion', ',', 'this', 'wa', 'approved', ',', 'with', 'fund', 'to', 'be', 'reallocated', 'from', 'the', 'general', 'contingency', 'budget', '.'], ['Approval', 'of', 'Adjustments', 'John', 'Doe', 'called', 'for', 'a', 'formal', 'vote', 'on', 'the', 'proposed', 'budget', 'adjustment', '.'], ['The', 'adjustment', 'were', 'unanimously', 'approved', 'by', 'all', 'attendee', ',', 'ensuring', 'that', 'each', 'department', \"'s\", 'immediate', 'need', 'were', 'adequately', 'addressed', 'while', 'maintaining', 'overall', 'budgetary', 'discipline', '.'], ['Closing', 'RemarksJohn', 'Doe', 'thanked', 'everyone', 'for', 'their', 'proactive', 'contribution', 'and', 'constructive', 'discussion', '.'], ['He', 'reiterated', 'the', 'importance', 'of', 'ongoing', 'communication', 'and', 'regular', 'check-in', 'to', 'ensure', 'that', 'the', 'budget', 'remains', 'aligned', 'with', 'the', 'company', '’', 's', 'strategic', 'goal', '.'], ['The', 'next', 'review', 'meeting', 'wa', 'scheduled', 'for', 'October', '24', ',', '2024', '.'], ['The', 'meeting', 'wa', 'adjourned', 'at', '11:30', 'AM', '.'], ['Minutes', 'prepared', 'by', ':', 'Nancy', 'Turner', ',', 'Administrative', 'Assist', '_______________________', 'John', 'Doe', ',', 'CEO']]\n"
          ]
        },
        {
          "output_type": "stream",
          "name": "stderr",
          "text": [
            "[nltk_data] Downloading package wordnet to /root/nltk_data...\n",
            "[nltk_data]   Package wordnet is already up-to-date!\n"
          ]
        }
      ]
    },
    {
      "cell_type": "code",
      "source": [
        "from nltk.corpus import stopwords\n",
        "nltk.download('stopwords')\n",
        "\n",
        "stop_words = set(stopwords.words('english'))\n",
        "filtered_words = [[word for word in word_tokenize(sentence) if word.lower() not in stop_words] for sentence in sentences]\n",
        "print(filtered_words)"
      ],
      "metadata": {
        "colab": {
          "base_uri": "https://localhost:8080/"
        },
        "id": "lMgmVt49lv9x",
        "outputId": "b708c017-cb99-4a5e-e1b2-b55c5dc5f2d8"
      },
      "execution_count": null,
      "outputs": [
        {
          "output_type": "stream",
          "name": "stdout",
          "text": [
            "[['Meeting', 'Minutes', ':', 'Annual', 'Budgeting', 'Follow-up', 'Meeting', 'Cleaning', 'Company', 'Date', ':', 'July', '24', ',', '2024', 'Time:10:00', '-', '11:30', 'Location', ':', 'Conference', 'Room', '1', ',', 'Headquarters', 'Attendees', ':', 'John', 'Doe', '-', 'CEO', 'Jane', 'Smith', '-', 'CFO', 'Michael', 'Brown', '-', 'Operations', 'Manager', 'Emily', 'White', '-', 'HR', 'Manager', 'Richard', 'Lee', '-', 'Marketing', 'Manager', 'Linda', 'Green', '-', 'Procurement', 'Manager', 'Nancy', 'Turner', '-', 'Administrative', 'Assistant', '(', 'Minute', 'Taker', ')', 'Opening', 'Remarks', 'John', 'Doe', 'commenced', 'meeting', '10:00', ',', 'welcoming', 'participants', 'expressing', 'appreciation', 'continued', 'dedication', '.'], ['emphasized', 'critical', 'nature', 'follow-up', 'meeting', 'review', 'initial', 'implementation', 'stages', 'newly', 'approved', 'budget', 'address', 'immediate', 'issues', 'adjustments', 'needed', '.'], ['Review', 'Budget', 'Implementation', 'Jane', 'Smith', 'provided', 'overview', 'budget', \"'s\", 'initial', 'implementation', 'phase', '.'], ['highlighted', 'departments', 'successfully', 'begun', 'allocated', 'projects', 'spending', 'plans', '.'], ['Jane', 'noted', 'discrepancies', 'operations', 'budget', 'due', 'unexpected', 'maintenance', 'costs', 'existing', 'equipment', ',', 'wich', 'slightly', 'exceeded', 'initial', 'estimates', '.'], ['Departmental', 'Updates', 'Michael', 'Brown', 'reported', 'operational', 'enhancements', ',', 'particularly', 'acquisition', 'new', 'cleaning', 'equipment', ',', 'already', 'improved', 'efficiency', 'service', 'quality', '.'], ['mentioned', 'staff', 'training', 'programs', 'underway', ',', 'positive', 'feedback', 'employees.Emily', 'White', 'updated', 'team', 'HR', 'initiatives', ',', 'including', 'launch', 'employee', 'wellness', 'programs', '.'], ['highlighted', 'success', 'recent', 'recruitment', 'efforts', ',', 'attracted', 'several', 'qualified', 'candidates', ',', 'filling', 'critical', 'vacancies', '.'], ['Richard', 'Lee', 'discussed', 'marketing', 'department', \"'s\", 'progress', ',', 'particularly', 'digital', 'marketing', 'campaigns', 'launched', '.'], ['Early', 'analytics', 'showed', 'promising', 'increase', 'web', 'traffic', 'customer', 'inquiries', '.'], ['Linda', 'Green', 'spoke', 'procurement', 'activities', ',', 'noting', 'negotiations', 'key', 'suppliers', 'progressing', 'well', '.'], ['anticipated', 'securing', 'long-term', 'contracts', 'would', 'soon', 'result', 'cost', 'savings', 'stable', 'supply', 'chains', '.'], ['Discussion', 'Adjustments', 'John', 'Doe', 'opened', 'floor', 'discussion', 'adjustments', 'required', 'current', 'budget', 'allocations', '.'], ['Jane', 'Smith', 'suggested', 'reallocating', 'small', 'portion', 'marketing', 'budget', 'cover', 'unexpected', 'operational', 'maintenance', 'costs', ',', 'attendees', 'agreed', 'would', 'prudent', 'decision', '.'], ['Michael', 'Brown', 'proposed', 'additional', 'minor', 'investment', 'staff', 'training', 'software', 'enhance', 'effectiveness', 'training', 'programs', '.'], ['brief', 'discussion', ',', 'approved', ',', 'funds', 'reallocated', 'general', 'contingency', 'budget', '.'], ['Approval', 'Adjustments', 'John', 'Doe', 'called', 'formal', 'vote', 'proposed', 'budget', 'adjustments', '.'], ['adjustments', 'unanimously', 'approved', 'attendees', ',', 'ensuring', 'department', \"'s\", 'immediate', 'needs', 'adequately', 'addressed', 'maintaining', 'overall', 'budgetary', 'discipline', '.'], ['Closing', 'RemarksJohn', 'Doe', 'thanked', 'everyone', 'proactive', 'contributions', 'constructive', 'discussions', '.'], ['reiterated', 'importance', 'ongoing', 'communication', 'regular', 'check-ins', 'ensure', 'budget', 'remains', 'aligned', 'company', '’', 'strategic', 'goals', '.'], ['next', 'review', 'meeting', 'scheduled', 'October', '24', ',', '2024', '.'], ['meeting', 'adjourned', '11:30', '.'], ['Minutes', 'prepared', ':', 'Nancy', 'Turner', ',', 'Administrative', 'Assist', '_______________________', 'John', 'Doe', ',', 'CEO']]\n"
          ]
        },
        {
          "output_type": "stream",
          "name": "stderr",
          "text": [
            "[nltk_data] Downloading package stopwords to /root/nltk_data...\n",
            "[nltk_data]   Package stopwords is already up-to-date!\n"
          ]
        }
      ]
    },
    {
      "cell_type": "markdown",
      "source": [],
      "metadata": {
        "id": "vOeOFW64h1YN"
      }
    },
    {
      "cell_type": "code",
      "source": [
        "import spacy\n",
        "\n",
        "nlp = spacy.load('en_core_web_sm')\n",
        "doc = nlp(text)\n",
        "\n",
        "dependency_parse = [(token.text, token.dep_, token.head.text) for token in doc]\n",
        "noun_phrases = [chunk.text for chunk in doc.noun_chunks]\n",
        "entities = [(entity.text, entity.label_) for entity in doc.ents]\n",
        "\n",
        "print(\"Dependency Parse:\", dependency_parse)\n",
        "print(\"Noun Phrases:\", noun_phrases)\n",
        "print(\"Entities:\", entities)"
      ],
      "metadata": {
        "colab": {
          "base_uri": "https://localhost:8080/"
        },
        "id": "1kt3eFvimGd3",
        "outputId": "79fe16d3-954b-4f7d-f70c-43edfc7a3504"
      },
      "execution_count": null,
      "outputs": [
        {
          "output_type": "stream",
          "name": "stdout",
          "text": [
            "Dependency Parse: [('Meeting', 'compound', 'Minutes'), ('Minutes', 'dep', 'Attendees'), (':', 'punct', 'Minutes'), ('Annual', 'amod', 'Meeting'), ('Budgeting', 'compound', 'Follow'), ('Follow', 'nmod', 'Meeting'), ('-', 'punct', 'up'), ('up', 'prt', 'Follow'), ('Meeting', 'appos', 'Minutes'), ('for', 'prep', 'Meeting'), ('Cleaning', 'compound', 'Company'), ('Company', 'compound', 'Date'), ('\\n', 'dep', 'Company'), ('Date', 'pobj', 'for'), (':', 'punct', 'Meeting'), ('July', 'npadvmod', 'Minutes'), ('24', 'nummod', 'July'), (',', 'punct', 'July'), ('2024', 'nummod', 'July'), ('\\n', 'dep', '2024'), ('Time:10:00', 'compound', 'AM'), ('AM', 'appos', 'July'), ('-', 'punct', 'AM'), ('11:30', 'nummod', 'Location'), ('AM', 'compound', 'Location'), ('\\n', 'dep', 'AM'), ('Location', 'appos', 'AM'), (':', 'punct', 'July'), ('Conference', 'compound', 'Room'), ('Room', 'appos', 'July'), ('1', 'nummod', 'Room'), (',', 'punct', 'Attendees'), ('Headquarters', 'compound', 'Attendees'), ('\\n', 'dep', 'Headquarters'), ('Attendees', 'ROOT', 'Attendees'), (':', 'punct', 'Attendees'), ('\\n', 'dep', ':'), ('John', 'compound', 'CEO'), ('Doe', 'compound', 'CEO'), ('-', 'punct', 'CEO'), ('CEO', 'compound', 'CFO'), ('\\n', 'dep', 'CEO'), ('Jane', 'compound', 'CFO'), ('Smith', 'compound', 'CFO'), ('-', 'punct', 'CFO'), ('CFO', 'nmod', 'Doe'), ('\\n', 'dep', 'CFO'), ('Michael', 'compound', 'Operations'), ('Brown', 'compound', 'Operations'), ('-', 'punct', 'Operations'), ('Operations', 'compound', 'Manager'), ('Manager', 'appos', 'CFO'), ('\\n', 'dep', 'Manager'), ('Emily', 'compound', 'Doe'), ('White', 'compound', 'HR'), ('-', 'punct', 'HR'), ('HR', 'compound', 'Manager'), ('Manager', 'compound', 'Manager'), ('\\n', 'dep', 'Manager'), ('Richard', 'compound', 'Marketing'), ('Lee', 'compound', 'Marketing'), ('-', 'punct', 'Marketing'), ('Marketing', 'compound', 'Manager'), ('Manager', 'compound', 'Doe'), ('\\n', 'dep', 'Manager'), ('Linda', 'compound', 'Assistant'), ('Green', 'compound', 'Procurement'), ('-', 'punct', 'Procurement'), ('Procurement', 'compound', 'Manager'), ('Manager', 'compound', 'Nancy'), ('\\n', 'dep', 'Manager'), ('Nancy', 'compound', 'Assistant'), ('Turner', 'compound', 'Administrative'), ('-', 'punct', 'Administrative'), ('Administrative', 'compound', 'Assistant'), ('Assistant', 'nmod', 'Remarks'), ('(', 'punct', 'Assistant'), ('Minute', 'compound', 'Taker'), ('Taker', 'appos', 'Assistant'), (')', 'punct', 'Assistant'), ('\\n', 'dep', ')'), ('Opening', 'compound', 'Remarks'), ('Remarks', 'compound', 'Doe'), ('\\n', 'dep', 'Remarks'), ('John', 'compound', 'Doe'), ('Doe', 'nsubj', 'commenced'), ('commenced', 'ccomp', 'Attendees'), ('the', 'det', 'meeting'), ('meeting', 'dobj', 'commenced'), ('at', 'prep', 'commenced'), ('10:00', 'nummod', 'AM'), ('AM', 'pobj', 'at'), (',', 'punct', 'commenced'), ('welcoming', 'advcl', 'commenced'), ('all', 'det', 'participants'), ('participants', 'dobj', 'welcoming'), ('and', 'cc', 'participants'), ('expressing', 'xcomp', 'welcoming'), ('\\n', 'dep', 'expressing'), ('appreciation', 'dobj', 'expressing'), ('for', 'prep', 'appreciation'), ('their', 'poss', 'dedication'), ('continued', 'amod', 'dedication'), ('dedication', 'pobj', 'for'), ('.', 'punct', 'Attendees'), ('He', 'nsubj', 'emphasized'), ('emphasized', 'ROOT', 'emphasized'), ('the', 'det', 'nature'), ('critical', 'amod', 'nature'), ('nature', 'dobj', 'emphasized'), ('of', 'prep', 'nature'), ('this', 'det', 'meeting'), ('follow', 'amod', 'meeting'), ('-', 'punct', 'up'), ('up', 'prt', 'follow'), ('\\n', 'dep', 'up'), ('meeting', 'pobj', 'of'), ('to', 'aux', 'review'), ('review', 'advcl', 'emphasized'), ('the', 'det', 'stages'), ('initial', 'amod', 'stages'), ('implementation', 'compound', 'stages'), ('stages', 'dobj', 'review'), ('of', 'prep', 'stages'), ('the', 'det', 'budget'), ('newly', 'advmod', 'approved'), ('approved', 'amod', 'budget'), ('budget', 'pobj', 'of'), ('and', 'cc', 'review'), ('address', 'conj', 'review'), ('any', 'det', 'issues'), ('\\n', 'dep', 'any'), ('immediate', 'amod', 'issues'), ('issues', 'dobj', 'address'), ('or', 'cc', 'issues'), ('adjustments', 'conj', 'issues'), ('needed', 'acl', 'issues'), ('.', 'punct', 'emphasized'), ('\\n', 'dep', '.'), ('Review', 'nsubj', 'provided'), ('of', 'prep', 'Review'), ('Budget', 'compound', 'Smith'), ('Implementation', 'compound', 'Smith'), ('\\n', 'dep', 'Implementation'), ('Jane', 'compound', 'Smith'), ('Smith', 'pobj', 'of'), ('provided', 'ROOT', 'provided'), ('an', 'det', 'overview'), ('overview', 'dobj', 'provided'), ('of', 'prep', 'overview'), ('the', 'det', 'budget'), ('budget', 'poss', 'phase'), (\"'s\", 'case', 'budget'), ('initial', 'amod', 'phase'), ('implementation', 'compound', 'phase'), ('phase', 'pobj', 'of'), ('.', 'punct', 'provided'), ('She', 'nsubj', 'highlighted'), ('highlighted', 'ROOT', 'highlighted'), ('\\n', 'dep', 'highlighted'), ('that', 'mark', 'begun'), ('most', 'amod', 'departments'), ('departments', 'nsubj', 'begun'), ('had', 'aux', 'begun'), ('successfully', 'advmod', 'begun'), ('begun', 'ccomp', 'highlighted'), ('their', 'poss', 'projects'), ('allocated', 'amod', 'projects'), ('projects', 'dobj', 'begun'), ('and', 'cc', 'projects'), ('spending', 'compound', 'plans'), ('plans', 'conj', 'projects'), ('.', 'punct', 'highlighted'), ('Jane', 'nsubj', 'noted'), ('\\n', 'dep', 'Jane'), ('noted', 'ROOT', 'noted'), ('a', 'det', 'discrepancies'), ('few', 'amod', 'discrepancies'), ('discrepancies', 'dobj', 'noted'), ('in', 'prep', 'discrepancies'), ('the', 'det', 'budget'), ('operations', 'compound', 'budget'), ('budget', 'pobj', 'in'), ('due', 'prep', 'discrepancies'), ('to', 'pcomp', 'due'), ('unexpected', 'amod', 'costs'), ('maintenance', 'compound', 'costs'), ('costs', 'pobj', 'due'), ('for', 'prep', 'costs'), ('\\n', 'dep', 'for'), ('existing', 'amod', 'equipment'), ('equipment', 'pobj', 'for'), (',', 'punct', 'equipment'), ('wich', 'nsubj', 'exceeded'), ('had', 'aux', 'exceeded'), ('slightly', 'advmod', 'exceeded'), ('exceeded', 'relcl', 'equipment'), ('the', 'det', 'estimates'), ('initial', 'amod', 'estimates'), ('estimates', 'dobj', 'exceeded'), ('.', 'punct', 'noted'), ('\\n', 'dep', '.'), ('Departmental', 'compound', 'Updates'), ('Updates', 'compound', 'Brown'), ('\\n', 'dep', 'Updates'), ('Michael', 'compound', 'Brown'), ('Brown', 'nsubj', 'reported'), ('reported', 'ROOT', 'reported'), ('on', 'prep', 'reported'), ('the', 'det', 'enhancements'), ('operational', 'amod', 'enhancements'), ('enhancements', 'pobj', 'on'), (',', 'punct', 'enhancements'), ('particularly', 'advmod', 'acquisition'), ('the', 'det', 'acquisition'), ('acquisition', 'appos', 'enhancements'), ('of', 'prep', 'acquisition'), ('new', 'amod', 'equipment'), ('\\n', 'dep', 'new'), ('cleaning', 'compound', 'equipment'), ('equipment', 'pobj', 'of'), (',', 'punct', 'equipment'), ('which', 'nsubj', 'improved'), ('had', 'aux', 'improved'), ('already', 'advmod', 'improved'), ('improved', 'relcl', 'equipment'), ('efficiency', 'dobj', 'improved'), ('and', 'cc', 'efficiency'), ('service', 'compound', 'quality'), ('quality', 'conj', 'efficiency'), ('.', 'punct', 'reported'), ('He', 'nsubj', 'mentioned'), ('mentioned', 'ROOT', 'mentioned'), ('\\n', 'dep', 'mentioned'), ('that', 'mark', 'were'), ('the', 'det', 'programs'), ('staff', 'compound', 'training'), ('training', 'compound', 'programs'), ('programs', 'nsubj', 'were'), ('were', 'ccomp', 'mentioned'), ('underway', 'acomp', 'were'), (',', 'punct', 'were'), ('with', 'prep', 'were'), ('positive', 'amod', 'feedback'), ('feedback', 'pobj', 'with'), ('from', 'prep', 'feedback'), ('employees', 'pobj', 'from'), ('.', 'punct', 'mentioned'), ('Emily', 'compound', 'White'), ('White', 'nsubj', 'updated'), ('updated', 'ROOT', 'updated'), ('the', 'det', 'team'), ('team', 'dobj', 'updated'), ('on', 'prep', 'team'), ('HR', 'compound', 'initiatives'), ('initiatives', 'pobj', 'on'), (',', 'punct', 'team'), ('including', 'prep', 'team'), ('the', 'det', 'launch'), ('launch', 'pobj', 'including'), ('of', 'prep', 'launch'), ('employee', 'compound', 'wellness'), ('wellness', 'compound', 'programs'), ('\\n', 'dep', 'wellness'), ('programs', 'pobj', 'of'), ('.', 'punct', 'updated'), ('She', 'nsubj', 'highlighted'), ('highlighted', 'ROOT', 'highlighted'), ('the', 'det', 'success'), ('success', 'dobj', 'highlighted'), ('of', 'prep', 'success'), ('recent', 'amod', 'efforts'), ('recruitment', 'compound', 'efforts'), ('efforts', 'pobj', 'of'), (',', 'punct', 'efforts'), ('which', 'nsubj', 'attracted'), ('had', 'aux', 'attracted'), ('attracted', 'relcl', 'efforts'), ('several', 'amod', 'candidates'), ('\\n', 'dep', 'several'), ('qualified', 'amod', 'candidates'), ('candidates', 'dobj', 'attracted'), (',', 'punct', 'attracted'), ('filling', 'advcl', 'attracted'), ('critical', 'amod', 'vacancies'), ('vacancies', 'dobj', 'filling'), ('.', 'punct', 'highlighted'), ('\\n', 'dep', '.'), ('Richard', 'compound', 'Lee'), ('Lee', 'nsubj', 'discussed'), ('discussed', 'ROOT', 'discussed'), ('the', 'det', 'department'), ('marketing', 'compound', 'department'), ('department', 'poss', 'progress'), (\"'s\", 'case', 'department'), ('progress', 'dobj', 'discussed'), (',', 'punct', 'progress'), ('particularly', 'advmod', 'campaigns'), ('the', 'det', 'campaigns'), ('digital', 'amod', 'marketing'), ('marketing', 'compound', 'campaigns'), ('\\n', 'dep', 'marketing'), ('campaigns', 'appos', 'progress'), ('that', 'nsubjpass', 'launched'), ('had', 'aux', 'launched'), ('been', 'auxpass', 'launched'), ('launched', 'relcl', 'campaigns'), ('.', 'punct', 'discussed'), ('Early', 'amod', 'analytics'), ('analytics', 'nsubj', 'showed'), ('showed', 'ROOT', 'showed'), ('a', 'det', 'increase'), ('promising', 'amod', 'increase'), ('increase', 'dobj', 'showed'), ('in', 'prep', 'increase'), ('web', 'nmod', 'traffic'), ('traffic', 'nmod', 'inquiries'), ('and', 'cc', 'traffic'), ('\\n', 'dep', 'and'), ('customer', 'compound', 'inquiries'), ('inquiries', 'pobj', 'in'), ('.', 'punct', 'showed'), ('\\n', 'dep', '.'), ('Linda', 'compound', 'Green'), ('Green', 'nsubj', 'spoke'), ('spoke', 'ROOT', 'spoke'), ('about', 'prep', 'spoke'), ('procurement', 'compound', 'activities'), ('activities', 'pobj', 'about'), (',', 'punct', 'spoke'), ('noting', 'advcl', 'spoke'), ('that', 'mark', 'progressing'), ('negotiations', 'nsubj', 'progressing'), ('with', 'prep', 'negotiations'), ('key', 'amod', 'suppliers'), ('suppliers', 'pobj', 'with'), ('were', 'aux', 'progressing'), ('\\n', 'dep', 'were'), ('progressing', 'ccomp', 'noting'), ('well', 'advmod', 'progressing'), ('.', 'punct', 'spoke'), ('She', 'nsubj', 'anticipated'), ('anticipated', 'ROOT', 'anticipated'), ('that', 'mark', 'result'), ('securing', 'amod', 'contracts'), ('long', 'amod', 'term'), ('-', 'punct', 'term'), ('term', 'compound', 'contracts'), ('contracts', 'nsubj', 'result'), ('would', 'aux', 'result'), ('soon', 'advmod', 'result'), ('result', 'ccomp', 'anticipated'), ('in', 'prep', 'result'), ('cost', 'compound', 'savings'), ('\\n', 'dep', 'cost'), ('savings', 'pobj', 'in'), ('and', 'cc', 'savings'), ('more', 'advmod', 'stable'), ('stable', 'amod', 'chains'), ('supply', 'compound', 'chains'), ('chains', 'conj', 'savings'), ('.', 'punct', 'anticipated'), ('\\n', 'dep', '.'), ('Discussion', 'nsubj', 'opened'), ('and', 'cc', 'Discussion'), ('Adjustments', 'conj', 'Discussion'), ('\\n', 'dep', 'Adjustments'), ('John', 'compound', 'Doe'), ('Doe', 'conj', 'Discussion'), ('opened', 'ROOT', 'opened'), ('the', 'det', 'floor'), ('floor', 'dobj', 'opened'), ('for', 'prep', 'opened'), ('a', 'det', 'discussion'), ('discussion', 'pobj', 'for'), ('on', 'prep', 'discussion'), ('any', 'det', 'adjustments'), ('adjustments', 'pobj', 'on'), ('required', 'acl', 'adjustments'), ('for', 'prep', 'required'), ('the', 'det', 'allocations'), ('current', 'amod', 'allocations'), ('budget', 'compound', 'allocations'), ('\\n', 'dep', 'budget'), ('allocations', 'pobj', 'for'), ('.', 'punct', 'opened'), ('Jane', 'compound', 'Smith'), ('Smith', 'nsubj', 'suggested'), ('suggested', 'ROOT', 'suggested'), ('reallocating', 'xcomp', 'suggested'), ('a', 'det', 'portion'), ('small', 'amod', 'portion'), ('portion', 'dobj', 'reallocating'), ('of', 'prep', 'portion'), ('the', 'det', 'budget'), ('marketing', 'compound', 'budget'), ('budget', 'pobj', 'of'), ('to', 'aux', 'cover'), ('cover', 'advcl', 'reallocating'), ('the', 'det', 'costs'), ('\\n', 'dep', 'the'), ('unexpected', 'amod', 'costs'), ('operational', 'amod', 'costs'), ('maintenance', 'compound', 'costs'), ('costs', 'dobj', 'cover'), (',', 'punct', 'costs'), ('which', 'nsubj', 'be'), ('all', 'det', 'attendees'), ('attendees', 'nsubj', 'agreed'), ('agreed', 'relcl', 'costs'), ('would', 'aux', 'be'), ('be', 'ccomp', 'agreed'), ('a', 'det', 'decision'), ('prudent', 'amod', 'decision'), ('decision', 'attr', 'be'), ('.', 'punct', 'suggested'), ('\\n', 'dep', '.'), ('Michael', 'compound', 'Brown'), ('Brown', 'nsubj', 'proposed'), ('proposed', 'ROOT', 'proposed'), ('an', 'det', 'investment'), ('additional', 'amod', 'investment'), ('minor', 'amod', 'investment'), ('investment', 'dobj', 'proposed'), ('in', 'prep', 'investment'), ('staff', 'compound', 'training'), ('training', 'compound', 'software'), ('software', 'pobj', 'in'), ('to', 'aux', 'enhance'), ('further', 'advmod', 'enhance'), ('\\n', 'dep', 'further'), ('enhance', 'advcl', 'proposed'), ('the', 'det', 'effectiveness'), ('effectiveness', 'dobj', 'enhance'), ('of', 'prep', 'effectiveness'), ('the', 'det', 'programs'), ('training', 'compound', 'programs'), ('programs', 'pobj', 'of'), ('.', 'punct', 'proposed'), ('After', 'prep', 'approved'), ('a', 'det', 'discussion'), ('brief', 'amod', 'discussion'), ('discussion', 'pobj', 'After'), (',', 'punct', 'approved'), ('this', 'nsubjpass', 'approved'), ('was', 'auxpass', 'approved'), ('approved', 'ROOT', 'approved'), (',', 'punct', 'approved'), ('\\n', 'dep', ','), ('with', 'mark', 'reallocated'), ('funds', 'nsubjpass', 'reallocated'), ('to', 'aux', 'reallocated'), ('be', 'auxpass', 'reallocated'), ('reallocated', 'advcl', 'approved'), ('from', 'prep', 'reallocated'), ('the', 'det', 'budget'), ('general', 'amod', 'budget'), ('contingency', 'compound', 'budget'), ('budget', 'pobj', 'from'), ('.', 'punct', 'approved'), ('\\n', 'dep', '.'), ('Approval', 'nsubj', 'called'), ('of', 'prep', 'Approval'), ('Adjustments', 'compound', 'Doe'), ('\\n', 'dep', 'Adjustments'), ('John', 'compound', 'Doe'), ('Doe', 'pobj', 'of'), ('called', 'ROOT', 'called'), ('for', 'prep', 'called'), ('a', 'det', 'vote'), ('formal', 'amod', 'vote'), ('vote', 'pobj', 'for'), ('on', 'prep', 'vote'), ('the', 'det', 'adjustments'), ('proposed', 'amod', 'adjustments'), ('budget', 'compound', 'adjustments'), ('adjustments', 'pobj', 'on'), ('.', 'punct', 'called'), ('The', 'det', 'adjustments'), ('adjustments', 'nsubjpass', 'approved'), ('were', 'auxpass', 'approved'), ('\\n', 'dep', 'were'), ('unanimously', 'advmod', 'approved'), ('approved', 'ROOT', 'approved'), ('by', 'agent', 'approved'), ('all', 'det', 'attendees'), ('attendees', 'pobj', 'by'), (',', 'punct', 'approved'), ('ensuring', 'advcl', 'approved'), ('that', 'mark', 'addressed'), ('each', 'det', 'department'), ('department', 'poss', 'needs'), (\"'s\", 'case', 'department'), ('immediate', 'amod', 'needs'), ('needs', 'nsubjpass', 'addressed'), ('were', 'auxpass', 'addressed'), ('\\n', 'dep', 'were'), ('adequately', 'advmod', 'addressed'), ('addressed', 'ccomp', 'ensuring'), ('while', 'mark', 'maintaining'), ('maintaining', 'advcl', 'addressed'), ('overall', 'amod', 'discipline'), ('budgetary', 'amod', 'discipline'), ('discipline', 'dobj', 'maintaining'), ('.', 'punct', 'approved'), ('\\n', 'dep', '.'), ('Closing', 'compound', 'Doe'), ('RemarksJohn', 'compound', 'Doe'), ('Doe', 'nsubj', 'thanked'), ('thanked', 'ROOT', 'thanked'), ('everyone', 'dobj', 'thanked'), ('for', 'prep', 'thanked'), ('their', 'poss', 'contributions'), ('proactive', 'amod', 'contributions'), ('contributions', 'pobj', 'for'), ('and', 'cc', 'contributions'), ('constructive', 'amod', 'discussions'), ('discussions', 'conj', 'contributions'), ('.', 'punct', 'thanked'), ('He', 'nsubj', 'reiterated'), ('\\n', 'dep', 'He'), ('reiterated', 'ROOT', 'reiterated'), ('the', 'det', 'importance'), ('importance', 'dobj', 'reiterated'), ('of', 'prep', 'importance'), ('ongoing', 'amod', 'communication'), ('communication', 'pobj', 'of'), ('and', 'cc', 'communication'), ('regular', 'amod', 'ins'), ('check', 'compound', 'ins'), ('-', 'punct', 'ins'), ('ins', 'conj', 'communication'), ('to', 'aux', 'ensure'), ('ensure', 'advcl', 'reiterated'), ('that', 'mark', 'remains'), ('the', 'det', 'budget'), ('\\n', 'dep', 'the'), ('budget', 'nsubj', 'remains'), ('remains', 'ccomp', 'ensure'), ('aligned', 'acomp', 'remains'), ('with', 'prep', 'aligned'), ('the', 'det', 'company'), ('company', 'poss', 'goals'), ('’s', 'case', 'company'), ('strategic', 'amod', 'goals'), ('goals', 'pobj', 'with'), ('.', 'punct', 'reiterated'), ('The', 'det', 'meeting'), ('next', 'amod', 'meeting'), ('review', 'compound', 'meeting'), ('meeting', 'nsubjpass', 'scheduled'), ('was', 'auxpass', 'scheduled'), ('\\n', 'dep', 'was'), ('scheduled', 'ROOT', 'scheduled'), ('for', 'prep', 'scheduled'), ('October', 'pobj', 'for'), ('24', 'nummod', 'October'), (',', 'punct', 'October'), ('2024', 'nummod', 'October'), ('.', 'punct', 'scheduled'), ('The', 'det', 'meeting'), ('meeting', 'nsubjpass', 'adjourned'), ('was', 'auxpass', 'adjourned'), ('adjourned', 'ROOT', 'adjourned'), ('at', 'prep', 'adjourned'), ('11:30', 'nummod', 'AM'), ('AM', 'pobj', 'at'), ('.', 'punct', 'adjourned'), ('\\n', 'dep', '.'), ('Minutes', 'nsubj', 'prepared'), ('prepared', 'ROOT', 'prepared'), ('by', 'prep', 'prepared'), (':', 'punct', 'by'), ('Nancy', 'compound', 'Turner'), ('Turner', 'pobj', 'by'), (',', 'punct', 'Turner'), ('Administrative', 'compound', 'Assist'), ('Assist', 'appos', 'Turner'), ('\\n', 'dep', 'Assist'), ('_', 'appos', 'Assist'), ('_', 'appos', 'Turner'), ('_', 'appos', 'Turner'), ('_', 'appos', 'Turner'), ('_', 'appos', 'Turner'), ('_', 'appos', 'Turner'), ('_', 'appos', 'Turner'), ('_', 'appos', 'Turner'), ('_', 'appos', 'Turner'), ('_', 'appos', 'Turner'), ('_', 'appos', 'Turner'), ('_', 'appos', 'Turner'), ('_', 'appos', 'Turner'), ('_', 'appos', 'Turner'), ('_', 'appos', 'Turner'), ('_', 'appos', 'Turner'), ('_', 'appos', 'Turner'), ('_', 'appos', 'Turner'), ('_', 'appos', 'Turner'), ('_', 'appos', 'Turner'), ('_', 'appos', 'Turner'), ('_', 'appos', 'Turner'), ('_', 'punct', 'Turner'), ('\\n', 'dep', '_'), ('John', 'compound', 'Doe'), ('Doe', 'appos', 'Turner'), (',', 'punct', 'Doe'), ('CEO', 'appos', 'Doe')]\n",
            "Noun Phrases: ['Annual Budgeting Follow-up Meeting', 'Cleaning Company\\nDate', 'Time:10:00 AM', '11:30 AM\\nLocation', 'Conference Room', 'Michael Brown - Operations Manager', 'Minute Taker', 'the meeting', '10:00 AM', 'all participants', 'appreciation', 'their continued dedication', 'He', 'the critical nature', 'this follow-up\\nmeeting', 'the initial implementation stages', 'the newly approved budget', 'any\\nimmediate issues', 'adjustments', 'Review', 'Budget Implementation\\nJane Smith', 'an overview', \"the budget's initial implementation phase\", 'She', 'most departments', 'their allocated projects', 'spending plans', 'Jane', 'a few discrepancies', 'the operations budget', 'unexpected maintenance costs', 'existing equipment', 'wich', 'the initial estimates', 'Departmental Updates\\nMichael Brown', 'the operational enhancements', 'particularly the acquisition', 'new\\ncleaning equipment', 'which', 'efficiency', 'service quality', 'He', 'the staff training programs', 'positive feedback', 'employees', 'Emily White', 'the team', 'HR initiatives', 'the launch', 'employee wellness\\nprograms', 'She', 'the success', 'recent recruitment efforts', 'which', 'several\\nqualified candidates', 'critical vacancies', 'Richard Lee', \"the marketing department's progress\", 'particularly the digital marketing\\ncampaigns', 'that', 'Early analytics', 'a promising increase', 'web traffic and\\ncustomer inquiries', 'Linda Green', 'procurement activities', 'negotiations', 'key suppliers', 'She', 'securing long-term contracts', 'cost\\nsavings', 'more stable supply chains', 'Discussion', 'Adjustments', 'John Doe', 'the floor', 'a discussion', 'any adjustments', 'the current budget\\nallocations', 'Jane Smith', 'a small portion', 'the marketing budget', 'the\\nunexpected operational maintenance costs', 'which', 'all attendees', 'a prudent decision', 'Michael Brown', 'an additional minor investment', 'staff training software', 'the effectiveness', 'the training programs', 'a brief discussion', 'this', 'funds', 'the general contingency budget', 'Approval', 'Adjustments\\nJohn Doe', 'a formal vote', 'the proposed budget adjustments', 'The adjustments', 'all attendees', \"each department's immediate needs\", 'overall budgetary discipline', 'Closing RemarksJohn Doe', 'everyone', 'their proactive contributions', 'constructive discussions', 'He', 'the importance', 'ongoing communication', 'regular check-ins', 'the\\nbudget', 'the company’s strategic goals', 'The next review meeting', 'October', 'The meeting', '11:30 AM', 'Minutes', 'Nancy Turner', 'Administrative Assist', 'John Doe', 'CEO']\n",
            "Entities: [('July 24, 2024', 'DATE'), ('John Doe', 'PERSON'), ('Jane Smith - CFO', 'PERSON'), ('Michael Brown - Operations', 'PERSON'), ('Emily White - HR', 'PERSON'), ('Richard Lee - Marketing', 'PERSON'), ('Linda Green - Procurement', 'PERSON'), ('Nancy Turner - Administrative', 'PERSON'), ('Opening Remarks\\nJohn Doe', 'WORK_OF_ART'), ('10:00 AM', 'TIME'), ('Review of Budget Implementation', 'ORG'), ('Jane Smith', 'PERSON'), ('Departmental Updates', 'LOC'), ('Michael Brown', 'PERSON'), ('Richard Lee', 'PERSON'), ('Linda Green', 'PERSON'), ('John Doe', 'PERSON'), ('Jane Smith', 'PERSON'), ('Michael Brown', 'PERSON'), ('John Doe', 'PERSON'), ('Closing RemarksJohn', 'PERSON'), ('October 24, 2024', 'DATE'), ('11:30 AM', 'TIME'), ('Minutes', 'EVENT'), ('Nancy Turner', 'PERSON'), ('Administrative Assist', 'ORG'), ('John Doe', 'PERSON')]\n"
          ]
        }
      ]
    },
    {
      "cell_type": "code",
      "source": [
        "text = text.lower()\n",
        "import string\n",
        "\n",
        "text = text.translate(str.maketrans('', '', string.punctuation))\n",
        "print(text)\n"
      ],
      "metadata": {
        "colab": {
          "base_uri": "https://localhost:8080/"
        },
        "id": "u96p59_RnPhz",
        "outputId": "68e1d66a-b23c-4934-e847-8b89e3813766"
      },
      "execution_count": null,
      "outputs": [
        {
          "output_type": "stream",
          "name": "stdout",
          "text": [
            "meeting minutes annual budgeting followup meeting for cleaning company\n",
            "date july 24 2024\n",
            "time1000 am  1130 am\n",
            "location conference room 1 headquarters\n",
            "attendees\n",
            "john doe  ceo\n",
            "jane smith  cfo\n",
            "michael brown  operations manager\n",
            "emily white  hr manager\n",
            "richard lee  marketing manager\n",
            "linda green  procurement manager\n",
            "nancy turner  administrative assistant minute taker\n",
            "opening remarks\n",
            "john doe commenced the meeting at 1000 am welcoming all participants and expressing\n",
            "appreciation for their continued dedication he emphasized the critical nature of this followup\n",
            "meeting to review the initial implementation stages of the newly approved budget and address any\n",
            "immediate issues or adjustments needed\n",
            "review of budget implementation\n",
            "jane smith provided an overview of the budgets initial implementation phase she highlighted\n",
            "that most departments had successfully begun their allocated projects and spending plans jane\n",
            "noted a few discrepancies in the operations budget due to unexpected maintenance costs for\n",
            "existing equipment wich had slightly exceeded the initial estimates\n",
            "departmental updates\n",
            "michael brown reported on the operational enhancements particularly the acquisition of new\n",
            "cleaning equipment which had already improved efficiency and service quality he mentioned\n",
            "that the staff training programs were underway with positive feedback from employeesemily white updated the team on hr initiatives including the launch of employee wellness\n",
            "programs she highlighted the success of recent recruitment efforts which had attracted several\n",
            "qualified candidates filling critical vacancies\n",
            "richard lee discussed the marketing departments progress particularly the digital marketing\n",
            "campaigns that had been launched early analytics showed a promising increase in web traffic and\n",
            "customer inquiries\n",
            "linda green spoke about procurement activities noting that negotiations with key suppliers were\n",
            "progressing well she anticipated that securing longterm contracts would soon result in cost\n",
            "savings and more stable supply chains\n",
            "discussion and adjustments\n",
            "john doe opened the floor for a discussion on any adjustments required for the current budget\n",
            "allocations jane smith suggested reallocating a small portion of the marketing budget to cover the\n",
            "unexpected operational maintenance costs which all attendees agreed would be a prudent decision\n",
            "michael brown proposed an additional minor investment in staff training software to further\n",
            "enhance the effectiveness of the training programs after a brief discussion this was approved\n",
            "with funds to be reallocated from the general contingency budget\n",
            "approval of adjustments\n",
            "john doe called for a formal vote on the proposed budget adjustments the adjustments were\n",
            "unanimously approved by all attendees ensuring that each departments immediate needs were\n",
            "adequately addressed while maintaining overall budgetary discipline\n",
            "closing remarksjohn doe thanked everyone for their proactive contributions and constructive discussions he\n",
            "reiterated the importance of ongoing communication and regular checkins to ensure that the\n",
            "budget remains aligned with the company’s strategic goals the next review meeting was\n",
            "scheduled for october 24 2024 the meeting was adjourned at 1130 am\n",
            "minutes prepared by nancy turner administrative assist\n",
            "\n",
            "john doe ceo\n"
          ]
        }
      ]
    },
    {
      "cell_type": "code",
      "source": [
        "# Load spaCy model\n",
        "nlp = spacy.load('en_core_web_sm')\n",
        "\n",
        "# Function to summarize text using textacy's TextRank\n",
        "def summarize(text, ratio=0.2):\n",
        "    doc = nlp(text)\n",
        "    summary = textacy.extract.keyterms.textrank(doc, topn=int(len(doc) * ratio))\n",
        "    return summary\n",
        "\n",
        "# Summarize the text\n",
        "summary = summarize(text)\n",
        "\n",
        "# Print the summarized sentences\n",
        "for sentence in summary:\n",
        "    print(sentence)\n"
      ],
      "metadata": {
        "colab": {
          "base_uri": "https://localhost:8080/"
        },
        "id": "jIn2Q3z1p_fT",
        "outputId": "3dfddae1-76c1-4d42-b67d-759d044b8d56"
      },
      "execution_count": null,
      "outputs": [
        {
          "output_type": "stream",
          "name": "stdout",
          "text": [
            "('budget initial implementation phase', 0.024857397118214677)\n",
            "('minute annual budgeting followup meeting', 0.023169521890055923)\n",
            "('budget adjustment', 0.02272925346370963)\n",
            "('marketing budget', 0.02004872392001017)\n",
            "('budget implementation', 0.01872713085336261)\n",
            "('general contingency budget', 0.018528436105187816)\n",
            "('operation budget', 0.01754326393829775)\n",
            "('administrative assistant minute taker', 0.01635500062970711)\n",
            "('current budget', 0.01596982501900111)\n",
            "('unexpected operational maintenance cost', 0.01591096466747384)\n",
            "('john doe ceo', 0.014520968456448017)\n",
            "('department immediate need', 0.013624400191410506)\n",
            "('nancy turner administrative assist', 0.01357949840700701)\n",
            "('closing remarksjohn doe', 0.013035563306688876)\n",
            "('review meeting', 0.012283754368464038)\n",
            "('marketing department', 0.012005532144504045)\n",
            "('staff training program', 0.011917127388372448)\n",
            "('unexpected maintenance cost', 0.011858852170789608)\n",
            "('allocation jane smith', 0.011098606282368972)\n",
            "('initial implementation stage', 0.010886309915331096)\n",
            "('marketing manager', 0.010827613831033474)\n",
            "('constructive discussion', 0.009772556970086143)\n",
            "('brief discussion', 0.00975770172910912)\n",
            "('staff training software', 0.00929826979743241)\n",
            "('overall budgetary discipline', 0.00912664582920365)\n",
            "('location conference room', 0.009008459737027977)\n",
            "('procurement manager', 0.008952958065893617)\n",
            "('hr manager', 0.008691436019506258)\n",
            "('stable supply chain', 0.00866503164664769)\n",
            "('additional minor investment', 0.008611993740945395)\n",
            "('operation manager', 0.008322153849321053)\n",
            "('digital marketing', 0.008255621726026036)\n",
            "('recent recruitment effort', 0.008096826111963228)\n",
            "('plan jane', 0.007006530741440028)\n",
            "('equipment wich', 0.006902967141385595)\n",
            "('critical nature', 0.006847460346438156)\n",
            "('critical vacancy', 0.006834460632388331)\n",
            "('cleaning equipment', 0.00681407438670177)\n",
            "('procurement activity', 0.0066449803794995455)\n",
            "('immediate issue', 0.006497202734676508)\n",
            "('hr initiative', 0.0064827460968914724)\n",
            "('operational enhancement', 0.006411841088090596)\n",
            "('michael brown', 0.006392792650417931)\n",
            "('departmental update', 0.0061824923827799964)\n",
            "('initial estimate', 0.006025182725330617)\n",
            "('linda green', 0.005900090260101948)\n",
            "('longterm contract', 0.0057582293796815155)\n",
            "('richard lee', 0.00563680843266441)\n",
            "('early analytic', 0.005479219492508928)\n",
            "('qualified candidate', 0.005446206260439566)\n",
            "('strategic goal', 0.005339152779445062)\n",
            "('proactive contribution', 0.0053249039326970235)\n",
            "('date july', 0.0052120600910047655)\n",
            "('positive feedback', 0.0051541236194963935)\n",
            "('web traffic', 0.0051475306236515115)\n",
            "('promising increase', 0.005121816865307053)\n",
            "('service quality', 0.005096409247604501)\n",
            "('formal vote', 0.004949767757211175)\n",
            "('ongoing communication', 0.0049381958653898885)\n",
            "('small portion', 0.004912482107045429)\n",
            "('prudent decision', 0.004889954869689651)\n",
            "('regular checkin', 0.004885028909137272)\n",
            "('key supplier', 0.004862565698206925)\n",
            "('employee wellness', 0.0048007283209401536)\n",
            "('opening remark', 0.0047782010835843765)\n",
            "('customer inquiry', 0.0047782010835843765)\n",
            "('company', 0.004246526559899466)\n",
            "('white', 0.004191532686491889)\n",
            "('attendee', 0.004186031757447688)\n",
            "('launch', 0.004027328782506709)\n",
            "('headquarter', 0.0026913530157854264)\n",
            "('efficiency', 0.002667189540496883)\n",
            "('dedication', 0.0026382959244934247)\n",
            "('project', 0.0026078982916975706)\n",
            "('discrepancy', 0.002585495832487393)\n",
            "('october', 0.002428225193230717)\n",
            "('overview', 0.0023934027633945925)\n",
            "('participant', 0.002337991760168807)\n",
            "('negotiation', 0.002275991991401434)\n",
            "('saving', 0.00224061004368411)\n",
            "('fund', 0.0022239134443622693)\n",
            "('underway', 0.0022100916892936755)\n",
            "('campaign', 0.002196094944453576)\n",
            "('appreciation', 0.00217874068792028)\n",
            "('new', 0.0021746420975057848)\n",
            "('approval', 0.0021746420975057848)\n",
            "('team', 0.0021676392471068435)\n",
            "('cfo', 0.0021541406979610814)\n",
            "('floor', 0.0021503465152429447)\n",
            "('success', 0.0021462479248284495)\n",
            "('importance', 0.0021462479248284495)\n",
            "('effectiveness', 0.0021462479248284495)\n",
            "('acquisition', 0.0021462479248284495)\n"
          ]
        }
      ]
    },
    {
      "cell_type": "markdown",
      "source": [
        "DATA VISALIZATION"
      ],
      "metadata": {
        "id": "Rdrsww-Gqvqu"
      }
    },
    {
      "cell_type": "code",
      "source": [
        "import matplotlib.pyplot as plt\n",
        "from collections import Counter\n",
        "\n",
        "# Tokenize the text\n",
        "doc = nlp(text)\n",
        "words = [token.text for token in doc if not token.is_stop and not token.is_punct]\n",
        "\n",
        "# Compute word frequencies\n",
        "word_freq = Counter(words)\n",
        "\n",
        "# Plot word frequency\n",
        "most_common_words = word_freq.most_common(20)\n",
        "labels, values = zip(*most_common_words)\n",
        "plt.figure(figsize=(10, 8))\n",
        "plt.barh(labels, values, color='skyblue')\n",
        "plt.xlabel('Frequency')\n",
        "plt.title('Top 20 Most Common Words')\n",
        "plt.gca().invert_yaxis()\n",
        "plt.show()\n"
      ],
      "metadata": {
        "colab": {
          "base_uri": "https://localhost:8080/",
          "height": 580
        },
        "id": "2-uzMG9rqvez",
        "outputId": "b2b3a323-18b0-4e3a-b93e-7153b5a9baa2"
      },
      "execution_count": null,
      "outputs": [
        {
          "output_type": "display_data",
          "data": {
            "text/plain": [
              "<Figure size 1000x800 with 1 Axes>"
            ],
            "image/png": "[encoded data removed]"
          },
          "metadata": {}
        }
      ]
    },
    {
      "source": [
        "import plotly.express as px\n",
        "import pandas as pd # Import the pandas library\n",
        "\n",
        "# Extract named entities\n",
        "entities = [(ent.text, ent.label_) for ent in doc.ents]\n",
        "entity_freq = Counter(entities)\n",
        "\n",
        "# Prepare data for Plotly\n",
        "entity_data = [{'Entity': k[0], 'Label': k[1], 'Count': v} for k, v in entity_freq.items()]\n",
        "df_entities = pd.DataFrame(entity_data) # Now you can use 'pd'\n",
        "\n",
        "# Plot NER\n",
        "fig = px.bar(df_entities, x='Entity', y='Count', color='Label', title='Named Entities')\n",
        "fig.show()"
      ],
      "cell_type": "code",
      "metadata": {
        "colab": {
          "base_uri": "https://localhost:8080/",
          "height": 542
        },
        "id": "wxp-IFeVrE1G",
        "outputId": "661da3af-7385-4629-8e92-3e2c0daa4c7c"
      },
      "execution_count": null,
      "outputs": [
        {
          "output_type": "display_data",
          "data": {
            "text/html": [
              "<html>\n",
              "<head><meta charset=\"utf-8\" /></head>\n",
              "<body>\n",
              "    <div>            <script src=\"https://cdnjs.cloudflare.com/ajax/libs/mathjax/2.7.5/MathJax.js?config=TeX-AMS-MML_SVG\"></script><script type=\"text/javascript\">if (window.MathJax && window.MathJax.Hub && window.MathJax.Hub.Config) {window.MathJax.Hub.Config({SVG: {font: \"STIX-Web\"}});}</script>                <script type=\"text/javascript\">window.PlotlyConfig = {MathJaxConfig: 'local'};</script>\n",
              "        <script charset=\"utf-8\" src=\"https://cdn.plot.ly/plotly-2.24.1.min.js\"></script>                <div id=\"cb202a5c-8fc9-4a35-b965-276fe8b64024\" class=\"plotly-graph-div\" style=\"height:525px; width:100%;\"></div>            <script type=\"text/javascript\">                                    window.PLOTLYENV=window.PLOTLYENV || {};                                    if (document.getElementById(\"cb202a5c-8fc9-4a35-b965-276fe8b64024\")) {                    Plotly.newPlot(                        \"cb202a5c-8fc9-4a35-b965-276fe8b64024\",                        [{\"alignmentgroup\":\"True\",\"hovertemplate\":\"Label=TIME\\u003cbr\\u003eEntity=%{x}\\u003cbr\\u003eCount=%{y}\\u003cextra\\u003e\\u003c\\u002fextra\\u003e\",\"legendgroup\":\"TIME\",\"marker\":{\"color\":\"#636efa\",\"pattern\":{\"shape\":\"\"}},\"name\":\"TIME\",\"offsetgroup\":\"TIME\",\"orientation\":\"v\",\"showlegend\":true,\"textposition\":\"auto\",\"x\":[\"minutes\",\"1000 am\",\"1130 am\\nminutes\"],\"xaxis\":\"x\",\"y\":[1,1,1],\"yaxis\":\"y\",\"type\":\"bar\"},{\"alignmentgroup\":\"True\",\"hovertemplate\":\"Label=DATE\\u003cbr\\u003eEntity=%{x}\\u003cbr\\u003eCount=%{y}\\u003cextra\\u003e\\u003c\\u002fextra\\u003e\",\"legendgroup\":\"DATE\",\"marker\":{\"color\":\"#EF553B\",\"pattern\":{\"shape\":\"\"}},\"name\":\"DATE\",\"offsetgroup\":\"DATE\",\"orientation\":\"v\",\"showlegend\":true,\"textposition\":\"auto\",\"x\":[\"annual\",\"24 2024\",\"1130\",\"october 24 2024\"],\"xaxis\":\"x\",\"y\":[1,1,1,1],\"yaxis\":\"y\",\"type\":\"bar\"},{\"alignmentgroup\":\"True\",\"hovertemplate\":\"Label=CARDINAL\\u003cbr\\u003eEntity=%{x}\\u003cbr\\u003eCount=%{y}\\u003cextra\\u003e\\u003c\\u002fextra\\u003e\",\"legendgroup\":\"CARDINAL\",\"marker\":{\"color\":\"#00cc96\",\"pattern\":{\"shape\":\"\"}},\"name\":\"CARDINAL\",\"offsetgroup\":\"CARDINAL\",\"orientation\":\"v\",\"showlegend\":true,\"textposition\":\"auto\",\"x\":[\"1\"],\"xaxis\":\"x\",\"y\":[1],\"yaxis\":\"y\",\"type\":\"bar\"},{\"alignmentgroup\":\"True\",\"hovertemplate\":\"Label=PERSON\\u003cbr\\u003eEntity=%{x}\\u003cbr\\u003eCount=%{y}\\u003cextra\\u003e\\u003c\\u002fextra\\u003e\",\"legendgroup\":\"PERSON\",\"marker\":{\"color\":\"#ab63fa\",\"pattern\":{\"shape\":\"\"}},\"name\":\"PERSON\",\"offsetgroup\":\"PERSON\",\"orientation\":\"v\",\"showlegend\":true,\"textposition\":\"auto\",\"x\":[\"john doe  ceo\\njane smith  cfo\",\"michael brown\",\"richard lee\",\"linda green  procurement\",\"nancy turner\",\"jane smith\",\"linda green\",\"john\"],\"xaxis\":\"x\",\"y\":[1,3,2,1,2,2,1,2],\"yaxis\":\"y\",\"type\":\"bar\"}],                        {\"template\":{\"data\":{\"histogram2dcontour\":[{\"type\":\"histogram2dcontour\",\"colorbar\":{\"outlinewidth\":0,\"ticks\":\"\"},\"colorscale\":[[0.0,\"#0d0887\"],[0.1111111111111111,\"#46039f\"],[0.2222222222222222,\"#7201a8\"],[0.3333333333333333,\"#9c179e\"],[0.4444444444444444,\"#bd3786\"],[0.5555555555555556,\"#d8576b\"],[0.6666666666666666,\"#ed7953\"],[0.7777777777777778,\"#fb9f3a\"],[0.8888888888888888,\"#fdca26\"],[1.0,\"#f0f921\"]]}],\"choropleth\":[{\"type\":\"choropleth\",\"colorbar\":{\"outlinewidth\":0,\"ticks\":\"\"}}],\"histogram2d\":[{\"type\":\"histogram2d\",\"colorbar\":{\"outlinewidth\":0,\"ticks\":\"\"},\"colorscale\":[[0.0,\"#0d0887\"],[0.1111111111111111,\"#46039f\"],[0.2222222222222222,\"#7201a8\"],[0.3333333333333333,\"#9c179e\"],[0.4444444444444444,\"#bd3786\"],[0.5555555555555556,\"#d8576b\"],[0.6666666666666666,\"#ed7953\"],[0.7777777777777778,\"#fb9f3a\"],[0.8888888888888888,\"#fdca26\"],[1.0,\"#f0f921\"]]}],\"heatmap\":[{\"type\":\"heatmap\",\"colorbar\":{\"outlinewidth\":0,\"ticks\":\"\"},\"colorscale\":[[0.0,\"#0d0887\"],[0.1111111111111111,\"#46039f\"],[0.2222222222222222,\"#7201a8\"],[0.3333333333333333,\"#9c179e\"],[0.4444444444444444,\"#bd3786\"],[0.5555555555555556,\"#d8576b\"],[0.6666666666666666,\"#ed7953\"],[0.7777777777777778,\"#fb9f3a\"],[0.8888888888888888,\"#fdca26\"],[1.0,\"#f0f921\"]]}],\"heatmapgl\":[{\"type\":\"heatmapgl\",\"colorbar\":{\"outlinewidth\":0,\"ticks\":\"\"},\"colorscale\":[[0.0,\"#0d0887\"],[0.1111111111111111,\"#46039f\"],[0.2222222222222222,\"#7201a8\"],[0.3333333333333333,\"#9c179e\"],[0.4444444444444444,\"#bd3786\"],[0.5555555555555556,\"#d8576b\"],[0.6666666666666666,\"#ed7953\"],[0.7777777777777778,\"#fb9f3a\"],[0.8888888888888888,\"#fdca26\"],[1.0,\"#f0f921\"]]}],\"contourcarpet\":[{\"type\":\"contourcarpet\",\"colorbar\":{\"outlinewidth\":0,\"ticks\":\"\"}}],\"contour\":[{\"type\":\"contour\",\"colorbar\":{\"outlinewidth\":0,\"ticks\":\"\"},\"colorscale\":[[0.0,\"#0d0887\"],[0.1111111111111111,\"#46039f\"],[0.2222222222222222,\"#7201a8\"],[0.3333333333333333,\"#9c179e\"],[0.4444444444444444,\"#bd3786\"],[0.5555555555555556,\"#d8576b\"],[0.6666666666666666,\"#ed7953\"],[0.7777777777777778,\"#fb9f3a\"],[0.8888888888888888,\"#fdca26\"],[1.0,\"#f0f921\"]]}],\"surface\":[{\"type\":\"surface\",\"colorbar\":{\"outlinewidth\":0,\"ticks\":\"\"},\"colorscale\":[[0.0,\"#0d0887\"],[0.1111111111111111,\"#46039f\"],[0.2222222222222222,\"#7201a8\"],[0.3333333333333333,\"#9c179e\"],[0.4444444444444444,\"#bd3786\"],[0.5555555555555556,\"#d8576b\"],[0.6666666666666666,\"#ed7953\"],[0.7777777777777778,\"#fb9f3a\"],[0.8888888888888888,\"#fdca26\"],[1.0,\"#f0f921\"]]}],\"mesh3d\":[{\"type\":\"mesh3d\",\"colorbar\":{\"outlinewidth\":0,\"ticks\":\"\"}}],\"scatter\":[{\"fillpattern\":{\"fillmode\":\"overlay\",\"size\":10,\"solidity\":0.2},\"type\":\"scatter\"}],\"parcoords\":[{\"type\":\"parcoords\",\"line\":{\"colorbar\":{\"outlinewidth\":0,\"ticks\":\"\"}}}],\"scatterpolargl\":[{\"type\":\"scatterpolargl\",\"marker\":{\"colorbar\":{\"outlinewidth\":0,\"ticks\":\"\"}}}],\"bar\":[{\"error_x\":{\"color\":\"#2a3f5f\"},\"error_y\":{\"color\":\"#2a3f5f\"},\"marker\":{\"line\":{\"color\":\"#E5ECF6\",\"width\":0.5},\"pattern\":{\"fillmode\":\"overlay\",\"size\":10,\"solidity\":0.2}},\"type\":\"bar\"}],\"scattergeo\":[{\"type\":\"scattergeo\",\"marker\":{\"colorbar\":{\"outlinewidth\":0,\"ticks\":\"\"}}}],\"scatterpolar\":[{\"type\":\"scatterpolar\",\"marker\":{\"colorbar\":{\"outlinewidth\":0,\"ticks\":\"\"}}}],\"histogram\":[{\"marker\":{\"pattern\":{\"fillmode\":\"overlay\",\"size\":10,\"solidity\":0.2}},\"type\":\"histogram\"}],\"scattergl\":[{\"type\":\"scattergl\",\"marker\":{\"colorbar\":{\"outlinewidth\":0,\"ticks\":\"\"}}}],\"scatter3d\":[{\"type\":\"scatter3d\",\"line\":{\"colorbar\":{\"outlinewidth\":0,\"ticks\":\"\"}},\"marker\":{\"colorbar\":{\"outlinewidth\":0,\"ticks\":\"\"}}}],\"scattermapbox\":[{\"type\":\"scattermapbox\",\"marker\":{\"colorbar\":{\"outlinewidth\":0,\"ticks\":\"\"}}}],\"scatterternary\":[{\"type\":\"scatterternary\",\"marker\":{\"colorbar\":{\"outlinewidth\":0,\"ticks\":\"\"}}}],\"scattercarpet\":[{\"type\":\"scattercarpet\",\"marker\":{\"colorbar\":{\"outlinewidth\":0,\"ticks\":\"\"}}}],\"carpet\":[{\"aaxis\":{\"endlinecolor\":\"#2a3f5f\",\"gridcolor\":\"white\",\"linecolor\":\"white\",\"minorgridcolor\":\"white\",\"startlinecolor\":\"#2a3f5f\"},\"baxis\":{\"endlinecolor\":\"#2a3f5f\",\"gridcolor\":\"white\",\"linecolor\":\"white\",\"minorgridcolor\":\"white\",\"startlinecolor\":\"#2a3f5f\"},\"type\":\"carpet\"}],\"table\":[{\"cells\":{\"fill\":{\"color\":\"#EBF0F8\"},\"line\":{\"color\":\"white\"}},\"header\":{\"fill\":{\"color\":\"#C8D4E3\"},\"line\":{\"color\":\"white\"}},\"type\":\"table\"}],\"barpolar\":[{\"marker\":{\"line\":{\"color\":\"#E5ECF6\",\"width\":0.5},\"pattern\":{\"fillmode\":\"overlay\",\"size\":10,\"solidity\":0.2}},\"type\":\"barpolar\"}],\"pie\":[{\"automargin\":true,\"type\":\"pie\"}]},\"layout\":{\"autotypenumbers\":\"strict\",\"colorway\":[\"#636efa\",\"#EF553B\",\"#00cc96\",\"#ab63fa\",\"#FFA15A\",\"#19d3f3\",\"#FF6692\",\"#B6E880\",\"#FF97FF\",\"#FECB52\"],\"font\":{\"color\":\"#2a3f5f\"},\"hovermode\":\"closest\",\"hoverlabel\":{\"align\":\"left\"},\"paper_bgcolor\":\"white\",\"plot_bgcolor\":\"#E5ECF6\",\"polar\":{\"bgcolor\":\"#E5ECF6\",\"angularaxis\":{\"gridcolor\":\"white\",\"linecolor\":\"white\",\"ticks\":\"\"},\"radialaxis\":{\"gridcolor\":\"white\",\"linecolor\":\"white\",\"ticks\":\"\"}},\"ternary\":{\"bgcolor\":\"#E5ECF6\",\"aaxis\":{\"gridcolor\":\"white\",\"linecolor\":\"white\",\"ticks\":\"\"},\"baxis\":{\"gridcolor\":\"white\",\"linecolor\":\"white\",\"ticks\":\"\"},\"caxis\":{\"gridcolor\":\"white\",\"linecolor\":\"white\",\"ticks\":\"\"}},\"coloraxis\":{\"colorbar\":{\"outlinewidth\":0,\"ticks\":\"\"}},\"colorscale\":{\"sequential\":[[0.0,\"#0d0887\"],[0.1111111111111111,\"#46039f\"],[0.2222222222222222,\"#7201a8\"],[0.3333333333333333,\"#9c179e\"],[0.4444444444444444,\"#bd3786\"],[0.5555555555555556,\"#d8576b\"],[0.6666666666666666,\"#ed7953\"],[0.7777777777777778,\"#fb9f3a\"],[0.8888888888888888,\"#fdca26\"],[1.0,\"#f0f921\"]],\"sequentialminus\":[[0.0,\"#0d0887\"],[0.1111111111111111,\"#46039f\"],[0.2222222222222222,\"#7201a8\"],[0.3333333333333333,\"#9c179e\"],[0.4444444444444444,\"#bd3786\"],[0.5555555555555556,\"#d8576b\"],[0.6666666666666666,\"#ed7953\"],[0.7777777777777778,\"#fb9f3a\"],[0.8888888888888888,\"#fdca26\"],[1.0,\"#f0f921\"]],\"diverging\":[[0,\"#8e0152\"],[0.1,\"#c51b7d\"],[0.2,\"#de77ae\"],[0.3,\"#f1b6da\"],[0.4,\"#fde0ef\"],[0.5,\"#f7f7f7\"],[0.6,\"#e6f5d0\"],[0.7,\"#b8e186\"],[0.8,\"#7fbc41\"],[0.9,\"#4d9221\"],[1,\"#276419\"]]},\"xaxis\":{\"gridcolor\":\"white\",\"linecolor\":\"white\",\"ticks\":\"\",\"title\":{\"standoff\":15},\"zerolinecolor\":\"white\",\"automargin\":true,\"zerolinewidth\":2},\"yaxis\":{\"gridcolor\":\"white\",\"linecolor\":\"white\",\"ticks\":\"\",\"title\":{\"standoff\":15},\"zerolinecolor\":\"white\",\"automargin\":true,\"zerolinewidth\":2},\"scene\":{\"xaxis\":{\"backgroundcolor\":\"#E5ECF6\",\"gridcolor\":\"white\",\"linecolor\":\"white\",\"showbackground\":true,\"ticks\":\"\",\"zerolinecolor\":\"white\",\"gridwidth\":2},\"yaxis\":{\"backgroundcolor\":\"#E5ECF6\",\"gridcolor\":\"white\",\"linecolor\":\"white\",\"showbackground\":true,\"ticks\":\"\",\"zerolinecolor\":\"white\",\"gridwidth\":2},\"zaxis\":{\"backgroundcolor\":\"#E5ECF6\",\"gridcolor\":\"white\",\"linecolor\":\"white\",\"showbackground\":true,\"ticks\":\"\",\"zerolinecolor\":\"white\",\"gridwidth\":2}},\"shapedefaults\":{\"line\":{\"color\":\"#2a3f5f\"}},\"annotationdefaults\":{\"arrowcolor\":\"#2a3f5f\",\"arrowhead\":0,\"arrowwidth\":1},\"geo\":{\"bgcolor\":\"white\",\"landcolor\":\"#E5ECF6\",\"subunitcolor\":\"white\",\"showland\":true,\"showlakes\":true,\"lakecolor\":\"white\"},\"title\":{\"x\":0.05},\"mapbox\":{\"style\":\"light\"}}},\"xaxis\":{\"anchor\":\"y\",\"domain\":[0.0,1.0],\"title\":{\"text\":\"Entity\"}},\"yaxis\":{\"anchor\":\"x\",\"domain\":[0.0,1.0],\"title\":{\"text\":\"Count\"}},\"legend\":{\"title\":{\"text\":\"Label\"},\"tracegroupgap\":0},\"title\":{\"text\":\"Named Entities\"},\"barmode\":\"relative\"},                        {\"responsive\": true}                    ).then(function(){\n",
              "                            \n",
              "var gd = document.getElementById('cb202a5c-8fc9-4a35-b965-276fe8b64024');\n",
              "var x = new MutationObserver(function (mutations, observer) {{\n",
              "        var display = window.getComputedStyle(gd).display;\n",
              "        if (!display || display === 'none') {{\n",
              "            console.log([gd, 'removed!']);\n",
              "            Plotly.purge(gd);\n",
              "            observer.disconnect();\n",
              "        }}\n",
              "}});\n",
              "\n",
              "// Listen for the removal of the full notebook cells\n",
              "var notebookContainer = gd.closest('#notebook-container');\n",
              "if (notebookContainer) {{\n",
              "    x.observe(notebookContainer, {childList: true});\n",
              "}}\n",
              "\n",
              "// Listen for the clearing of the current output cell\n",
              "var outputEl = gd.closest('.output');\n",
              "if (outputEl) {{\n",
              "    x.observe(outputEl, {childList: true});\n",
              "}}\n",
              "\n",
              "                        })                };                            </script>        </div>\n",
              "</body>\n",
              "</html>"
            ]
          },
          "metadata": {}
        }
      ]
    },
    {
      "cell_type": "code",
      "source": [
        "pos_counts = doc.count_by(spacy.attrs.POS)\n",
        "pos_labels = [doc.vocab.strings[pos] for pos in pos_counts.keys()]\n",
        "\n",
        "# Prepare data for Plotly\n",
        "pos_data = [{'POS': label, 'Count': count} for label, count in zip(pos_labels, pos_counts.values())]\n",
        "df_pos = pd.DataFrame(pos_data)\n",
        "\n",
        "# Plot POS tags\n",
        "fig = px.bar(df_pos, x='POS', y='Count', title='Part-of-Speech Tagging')\n",
        "fig.show()\n"
      ],
      "metadata": {
        "colab": {
          "base_uri": "https://localhost:8080/",
          "height": 542
        },
        "id": "08CIcF96r7O9",
        "outputId": "c96d7d4e-b6fd-4dc4-f909-204be282555f"
      },
      "execution_count": null,
      "outputs": [
        {
          "output_type": "display_data",
          "data": {
            "text/html": [
              "<html>\n",
              "<head><meta charset=\"utf-8\" /></head>\n",
              "<body>\n",
              "    <div>            <script src=\"https://cdnjs.cloudflare.com/ajax/libs/mathjax/2.7.5/MathJax.js?config=TeX-AMS-MML_SVG\"></script><script type=\"text/javascript\">if (window.MathJax && window.MathJax.Hub && window.MathJax.Hub.Config) {window.MathJax.Hub.Config({SVG: {font: \"STIX-Web\"}});}</script>                <script type=\"text/javascript\">window.PlotlyConfig = {MathJaxConfig: 'local'};</script>\n",
              "        <script charset=\"utf-8\" src=\"https://cdn.plot.ly/plotly-2.24.1.min.js\"></script>                <div id=\"545a349c-832c-46fc-9f11-da4b50b2fff9\" class=\"plotly-graph-div\" style=\"height:525px; width:100%;\"></div>            <script type=\"text/javascript\">                                    window.PLOTLYENV=window.PLOTLYENV || {};                                    if (document.getElementById(\"545a349c-832c-46fc-9f11-da4b50b2fff9\")) {                    Plotly.newPlot(                        \"545a349c-832c-46fc-9f11-da4b50b2fff9\",                        [{\"alignmentgroup\":\"True\",\"hovertemplate\":\"POS=%{x}\\u003cbr\\u003eCount=%{y}\\u003cextra\\u003e\\u003c\\u002fextra\\u003e\",\"legendgroup\":\"\",\"marker\":{\"color\":\"#636efa\",\"pattern\":{\"shape\":\"\"}},\"name\":\"\",\"offsetgroup\":\"\",\"orientation\":\"v\",\"showlegend\":false,\"textposition\":\"auto\",\"x\":[\"VERB\",\"NOUN\",\"ADJ\",\"ADP\",\"SPACE\",\"PROPN\",\"NUM\",\"AUX\",\"ADV\",\"DET\",\"CCONJ\",\"PRON\",\"PART\",\"SCONJ\",\"INTJ\"],\"xaxis\":\"x\",\"y\":[62,149,48,40,58,39,9,19,13,45,10,15,6,8,1],\"yaxis\":\"y\",\"type\":\"bar\"}],                        {\"template\":{\"data\":{\"histogram2dcontour\":[{\"type\":\"histogram2dcontour\",\"colorbar\":{\"outlinewidth\":0,\"ticks\":\"\"},\"colorscale\":[[0.0,\"#0d0887\"],[0.1111111111111111,\"#46039f\"],[0.2222222222222222,\"#7201a8\"],[0.3333333333333333,\"#9c179e\"],[0.4444444444444444,\"#bd3786\"],[0.5555555555555556,\"#d8576b\"],[0.6666666666666666,\"#ed7953\"],[0.7777777777777778,\"#fb9f3a\"],[0.8888888888888888,\"#fdca26\"],[1.0,\"#f0f921\"]]}],\"choropleth\":[{\"type\":\"choropleth\",\"colorbar\":{\"outlinewidth\":0,\"ticks\":\"\"}}],\"histogram2d\":[{\"type\":\"histogram2d\",\"colorbar\":{\"outlinewidth\":0,\"ticks\":\"\"},\"colorscale\":[[0.0,\"#0d0887\"],[0.1111111111111111,\"#46039f\"],[0.2222222222222222,\"#7201a8\"],[0.3333333333333333,\"#9c179e\"],[0.4444444444444444,\"#bd3786\"],[0.5555555555555556,\"#d8576b\"],[0.6666666666666666,\"#ed7953\"],[0.7777777777777778,\"#fb9f3a\"],[0.8888888888888888,\"#fdca26\"],[1.0,\"#f0f921\"]]}],\"heatmap\":[{\"type\":\"heatmap\",\"colorbar\":{\"outlinewidth\":0,\"ticks\":\"\"},\"colorscale\":[[0.0,\"#0d0887\"],[0.1111111111111111,\"#46039f\"],[0.2222222222222222,\"#7201a8\"],[0.3333333333333333,\"#9c179e\"],[0.4444444444444444,\"#bd3786\"],[0.5555555555555556,\"#d8576b\"],[0.6666666666666666,\"#ed7953\"],[0.7777777777777778,\"#fb9f3a\"],[0.8888888888888888,\"#fdca26\"],[1.0,\"#f0f921\"]]}],\"heatmapgl\":[{\"type\":\"heatmapgl\",\"colorbar\":{\"outlinewidth\":0,\"ticks\":\"\"},\"colorscale\":[[0.0,\"#0d0887\"],[0.1111111111111111,\"#46039f\"],[0.2222222222222222,\"#7201a8\"],[0.3333333333333333,\"#9c179e\"],[0.4444444444444444,\"#bd3786\"],[0.5555555555555556,\"#d8576b\"],[0.6666666666666666,\"#ed7953\"],[0.7777777777777778,\"#fb9f3a\"],[0.8888888888888888,\"#fdca26\"],[1.0,\"#f0f921\"]]}],\"contourcarpet\":[{\"type\":\"contourcarpet\",\"colorbar\":{\"outlinewidth\":0,\"ticks\":\"\"}}],\"contour\":[{\"type\":\"contour\",\"colorbar\":{\"outlinewidth\":0,\"ticks\":\"\"},\"colorscale\":[[0.0,\"#0d0887\"],[0.1111111111111111,\"#46039f\"],[0.2222222222222222,\"#7201a8\"],[0.3333333333333333,\"#9c179e\"],[0.4444444444444444,\"#bd3786\"],[0.5555555555555556,\"#d8576b\"],[0.6666666666666666,\"#ed7953\"],[0.7777777777777778,\"#fb9f3a\"],[0.8888888888888888,\"#fdca26\"],[1.0,\"#f0f921\"]]}],\"surface\":[{\"type\":\"surface\",\"colorbar\":{\"outlinewidth\":0,\"ticks\":\"\"},\"colorscale\":[[0.0,\"#0d0887\"],[0.1111111111111111,\"#46039f\"],[0.2222222222222222,\"#7201a8\"],[0.3333333333333333,\"#9c179e\"],[0.4444444444444444,\"#bd3786\"],[0.5555555555555556,\"#d8576b\"],[0.6666666666666666,\"#ed7953\"],[0.7777777777777778,\"#fb9f3a\"],[0.8888888888888888,\"#fdca26\"],[1.0,\"#f0f921\"]]}],\"mesh3d\":[{\"type\":\"mesh3d\",\"colorbar\":{\"outlinewidth\":0,\"ticks\":\"\"}}],\"scatter\":[{\"fillpattern\":{\"fillmode\":\"overlay\",\"size\":10,\"solidity\":0.2},\"type\":\"scatter\"}],\"parcoords\":[{\"type\":\"parcoords\",\"line\":{\"colorbar\":{\"outlinewidth\":0,\"ticks\":\"\"}}}],\"scatterpolargl\":[{\"type\":\"scatterpolargl\",\"marker\":{\"colorbar\":{\"outlinewidth\":0,\"ticks\":\"\"}}}],\"bar\":[{\"error_x\":{\"color\":\"#2a3f5f\"},\"error_y\":{\"color\":\"#2a3f5f\"},\"marker\":{\"line\":{\"color\":\"#E5ECF6\",\"width\":0.5},\"pattern\":{\"fillmode\":\"overlay\",\"size\":10,\"solidity\":0.2}},\"type\":\"bar\"}],\"scattergeo\":[{\"type\":\"scattergeo\",\"marker\":{\"colorbar\":{\"outlinewidth\":0,\"ticks\":\"\"}}}],\"scatterpolar\":[{\"type\":\"scatterpolar\",\"marker\":{\"colorbar\":{\"outlinewidth\":0,\"ticks\":\"\"}}}],\"histogram\":[{\"marker\":{\"pattern\":{\"fillmode\":\"overlay\",\"size\":10,\"solidity\":0.2}},\"type\":\"histogram\"}],\"scattergl\":[{\"type\":\"scattergl\",\"marker\":{\"colorbar\":{\"outlinewidth\":0,\"ticks\":\"\"}}}],\"scatter3d\":[{\"type\":\"scatter3d\",\"line\":{\"colorbar\":{\"outlinewidth\":0,\"ticks\":\"\"}},\"marker\":{\"colorbar\":{\"outlinewidth\":0,\"ticks\":\"\"}}}],\"scattermapbox\":[{\"type\":\"scattermapbox\",\"marker\":{\"colorbar\":{\"outlinewidth\":0,\"ticks\":\"\"}}}],\"scatterternary\":[{\"type\":\"scatterternary\",\"marker\":{\"colorbar\":{\"outlinewidth\":0,\"ticks\":\"\"}}}],\"scattercarpet\":[{\"type\":\"scattercarpet\",\"marker\":{\"colorbar\":{\"outlinewidth\":0,\"ticks\":\"\"}}}],\"carpet\":[{\"aaxis\":{\"endlinecolor\":\"#2a3f5f\",\"gridcolor\":\"white\",\"linecolor\":\"white\",\"minorgridcolor\":\"white\",\"startlinecolor\":\"#2a3f5f\"},\"baxis\":{\"endlinecolor\":\"#2a3f5f\",\"gridcolor\":\"white\",\"linecolor\":\"white\",\"minorgridcolor\":\"white\",\"startlinecolor\":\"#2a3f5f\"},\"type\":\"carpet\"}],\"table\":[{\"cells\":{\"fill\":{\"color\":\"#EBF0F8\"},\"line\":{\"color\":\"white\"}},\"header\":{\"fill\":{\"color\":\"#C8D4E3\"},\"line\":{\"color\":\"white\"}},\"type\":\"table\"}],\"barpolar\":[{\"marker\":{\"line\":{\"color\":\"#E5ECF6\",\"width\":0.5},\"pattern\":{\"fillmode\":\"overlay\",\"size\":10,\"solidity\":0.2}},\"type\":\"barpolar\"}],\"pie\":[{\"automargin\":true,\"type\":\"pie\"}]},\"layout\":{\"autotypenumbers\":\"strict\",\"colorway\":[\"#636efa\",\"#EF553B\",\"#00cc96\",\"#ab63fa\",\"#FFA15A\",\"#19d3f3\",\"#FF6692\",\"#B6E880\",\"#FF97FF\",\"#FECB52\"],\"font\":{\"color\":\"#2a3f5f\"},\"hovermode\":\"closest\",\"hoverlabel\":{\"align\":\"left\"},\"paper_bgcolor\":\"white\",\"plot_bgcolor\":\"#E5ECF6\",\"polar\":{\"bgcolor\":\"#E5ECF6\",\"angularaxis\":{\"gridcolor\":\"white\",\"linecolor\":\"white\",\"ticks\":\"\"},\"radialaxis\":{\"gridcolor\":\"white\",\"linecolor\":\"white\",\"ticks\":\"\"}},\"ternary\":{\"bgcolor\":\"#E5ECF6\",\"aaxis\":{\"gridcolor\":\"white\",\"linecolor\":\"white\",\"ticks\":\"\"},\"baxis\":{\"gridcolor\":\"white\",\"linecolor\":\"white\",\"ticks\":\"\"},\"caxis\":{\"gridcolor\":\"white\",\"linecolor\":\"white\",\"ticks\":\"\"}},\"coloraxis\":{\"colorbar\":{\"outlinewidth\":0,\"ticks\":\"\"}},\"colorscale\":{\"sequential\":[[0.0,\"#0d0887\"],[0.1111111111111111,\"#46039f\"],[0.2222222222222222,\"#7201a8\"],[0.3333333333333333,\"#9c179e\"],[0.4444444444444444,\"#bd3786\"],[0.5555555555555556,\"#d8576b\"],[0.6666666666666666,\"#ed7953\"],[0.7777777777777778,\"#fb9f3a\"],[0.8888888888888888,\"#fdca26\"],[1.0,\"#f0f921\"]],\"sequentialminus\":[[0.0,\"#0d0887\"],[0.1111111111111111,\"#46039f\"],[0.2222222222222222,\"#7201a8\"],[0.3333333333333333,\"#9c179e\"],[0.4444444444444444,\"#bd3786\"],[0.5555555555555556,\"#d8576b\"],[0.6666666666666666,\"#ed7953\"],[0.7777777777777778,\"#fb9f3a\"],[0.8888888888888888,\"#fdca26\"],[1.0,\"#f0f921\"]],\"diverging\":[[0,\"#8e0152\"],[0.1,\"#c51b7d\"],[0.2,\"#de77ae\"],[0.3,\"#f1b6da\"],[0.4,\"#fde0ef\"],[0.5,\"#f7f7f7\"],[0.6,\"#e6f5d0\"],[0.7,\"#b8e186\"],[0.8,\"#7fbc41\"],[0.9,\"#4d9221\"],[1,\"#276419\"]]},\"xaxis\":{\"gridcolor\":\"white\",\"linecolor\":\"white\",\"ticks\":\"\",\"title\":{\"standoff\":15},\"zerolinecolor\":\"white\",\"automargin\":true,\"zerolinewidth\":2},\"yaxis\":{\"gridcolor\":\"white\",\"linecolor\":\"white\",\"ticks\":\"\",\"title\":{\"standoff\":15},\"zerolinecolor\":\"white\",\"automargin\":true,\"zerolinewidth\":2},\"scene\":{\"xaxis\":{\"backgroundcolor\":\"#E5ECF6\",\"gridcolor\":\"white\",\"linecolor\":\"white\",\"showbackground\":true,\"ticks\":\"\",\"zerolinecolor\":\"white\",\"gridwidth\":2},\"yaxis\":{\"backgroundcolor\":\"#E5ECF6\",\"gridcolor\":\"white\",\"linecolor\":\"white\",\"showbackground\":true,\"ticks\":\"\",\"zerolinecolor\":\"white\",\"gridwidth\":2},\"zaxis\":{\"backgroundcolor\":\"#E5ECF6\",\"gridcolor\":\"white\",\"linecolor\":\"white\",\"showbackground\":true,\"ticks\":\"\",\"zerolinecolor\":\"white\",\"gridwidth\":2}},\"shapedefaults\":{\"line\":{\"color\":\"#2a3f5f\"}},\"annotationdefaults\":{\"arrowcolor\":\"#2a3f5f\",\"arrowhead\":0,\"arrowwidth\":1},\"geo\":{\"bgcolor\":\"white\",\"landcolor\":\"#E5ECF6\",\"subunitcolor\":\"white\",\"showland\":true,\"showlakes\":true,\"lakecolor\":\"white\"},\"title\":{\"x\":0.05},\"mapbox\":{\"style\":\"light\"}}},\"xaxis\":{\"anchor\":\"y\",\"domain\":[0.0,1.0],\"title\":{\"text\":\"POS\"}},\"yaxis\":{\"anchor\":\"x\",\"domain\":[0.0,1.0],\"title\":{\"text\":\"Count\"}},\"legend\":{\"tracegroupgap\":0},\"title\":{\"text\":\"Part-of-Speech Tagging\"},\"barmode\":\"relative\"},                        {\"responsive\": true}                    ).then(function(){\n",
              "                            \n",
              "var gd = document.getElementById('545a349c-832c-46fc-9f11-da4b50b2fff9');\n",
              "var x = new MutationObserver(function (mutations, observer) {{\n",
              "        var display = window.getComputedStyle(gd).display;\n",
              "        if (!display || display === 'none') {{\n",
              "            console.log([gd, 'removed!']);\n",
              "            Plotly.purge(gd);\n",
              "            observer.disconnect();\n",
              "        }}\n",
              "}});\n",
              "\n",
              "// Listen for the removal of the full notebook cells\n",
              "var notebookContainer = gd.closest('#notebook-container');\n",
              "if (notebookContainer) {{\n",
              "    x.observe(notebookContainer, {childList: true});\n",
              "}}\n",
              "\n",
              "// Listen for the clearing of the current output cell\n",
              "var outputEl = gd.closest('.output');\n",
              "if (outputEl) {{\n",
              "    x.observe(outputEl, {childList: true});\n",
              "}}\n",
              "\n",
              "                        })                };                            </script>        </div>\n",
              "</body>\n",
              "</html>"
            ]
          },
          "metadata": {}
        }
      ]
    },
    {
      "source": [
        "import pandas as pd\n",
        "\n",
        "# Convert summary to a list of strings if needed\n",
        "summary_strings = [sent[0] for sent in summary]  # Extract the first element of each tuple (assuming it's the string)\n",
        "\n",
        "# Convert summary to a string\n",
        "summary_text = ' '.join(summary_strings)  # Join the strings\n",
        "\n",
        "# Create a DataFrame\n",
        "data = {\n",
        "    'text': [text],\n",
        "    'summary': [summary_text]\n",
        "}\n",
        "df = pd.DataFrame(data)\n",
        "\n",
        "# Save DataFrame to CSV\n",
        "df.to_csv('processed_data.txt', index=False)\n",
        "\n",
        "# Download the CSV file\n",
        "files.download('processed_data.txt')"
      ],
      "cell_type": "code",
      "metadata": {
        "colab": {
          "base_uri": "https://localhost:8080/",
          "height": 34
        },
        "id": "DVSkn1LBtS6R",
        "outputId": "1cf85dc3-8742-4dad-d6ce-2d7a8148d966"
      },
      "execution_count": null,
      "outputs": [
        {
          "output_type": "display_data",
          "data": {
            "text/plain": [
              "<IPython.core.display.Javascript object>"
            ],
            "application/javascript": [
              "\n",
              "    async function download(id, filename, size) {\n",
              "      if (!google.colab.kernel.accessAllowed) {\n",
              "        return;\n",
              "      }\n",
              "      const div = document.createElement('div');\n",
              "      const label = document.createElement('label');\n",
              "      label.textContent = `Downloading \"${filename}\": `;\n",
              "      div.appendChild(label);\n",
              "      const progress = document.createElement('progress');\n",
              "      progress.max = size;\n",
              "      div.appendChild(progress);\n",
              "      document.body.appendChild(div);\n",
              "\n",
              "      const buffers = [];\n",
              "      let downloaded = 0;\n",
              "\n",
              "      const channel = await google.colab.kernel.comms.open(id);\n",
              "      // Send a message to notify the kernel that we're ready.\n",
              "      channel.send({})\n",
              "\n",
              "      for await (const message of channel.messages) {\n",
              "        // Send a message to notify the kernel that we're ready.\n",
              "        channel.send({})\n",
              "        if (message.buffers) {\n",
              "          for (const buffer of message.buffers) {\n",
              "            buffers.push(buffer);\n",
              "            downloaded += buffer.byteLength;\n",
              "            progress.value = downloaded;\n",
              "          }\n",
              "        }\n",
              "      }\n",
              "      const blob = new Blob(buffers, {type: 'application/binary'});\n",
              "      const a = document.createElement('a');\n",
              "      a.href = window.URL.createObjectURL(blob);\n",
              "      a.download = filename;\n",
              "      div.appendChild(a);\n",
              "      a.click();\n",
              "      div.remove();\n",
              "    }\n",
              "  "
            ]
          },
          "metadata": {}
        },
        {
          "output_type": "display_data",
          "data": {
            "text/plain": [
              "<IPython.core.display.Javascript object>"
            ],
            "application/javascript": [
              "download(\"download_ea7691e7-d69f-4c14-837f-1df48fa0c424\", \"processed_data.txt\", 4862)"
            ]
          },
          "metadata": {}
        }
      ]
    },
    {
      "cell_type": "code",
      "source": [
        "import textacy\n",
        "\n",
        "# Load spaCy model\n",
        "nlp = spacy.load('en_core_web_sm')\n",
        "\n",
        "# Function to summarize text using textacy's TextRank\n",
        "def summarize(text, ratio=0.2):\n",
        "    doc = nlp(text)\n",
        "    summary = textacy.extract.keyterms.textrank(doc, topn=int(len(doc) * ratio))\n",
        "    return summary\n",
        "\n",
        "# Summarize the text\n",
        "summary = summarize(text)\n",
        "\n",
        "# Print the summarized sentences\n",
        "for sentence in summary:\n",
        "    print(sentence)\n"
      ],
      "metadata": {
        "colab": {
          "base_uri": "https://localhost:8080/"
        },
        "id": "5_eQwMtatmgA",
        "outputId": "c570af6c-1545-41ff-8459-c2862274f567"
      },
      "execution_count": null,
      "outputs": [
        {
          "output_type": "stream",
          "name": "stdout",
          "text": [
            "('budget initial implementation phase', 0.024857397118214677)\n",
            "('minute annual budgeting followup meeting', 0.023169521890055923)\n",
            "('budget adjustment', 0.02272925346370963)\n",
            "('marketing budget', 0.02004872392001017)\n",
            "('budget implementation', 0.01872713085336261)\n",
            "('general contingency budget', 0.018528436105187816)\n",
            "('operation budget', 0.01754326393829775)\n",
            "('administrative assistant minute taker', 0.01635500062970711)\n",
            "('current budget', 0.01596982501900111)\n",
            "('unexpected operational maintenance cost', 0.01591096466747384)\n",
            "('john doe ceo', 0.014520968456448017)\n",
            "('department immediate need', 0.013624400191410506)\n",
            "('nancy turner administrative assist', 0.01357949840700701)\n",
            "('closing remarksjohn doe', 0.013035563306688876)\n",
            "('review meeting', 0.012283754368464038)\n",
            "('marketing department', 0.012005532144504045)\n",
            "('staff training program', 0.011917127388372448)\n",
            "('unexpected maintenance cost', 0.011858852170789608)\n",
            "('allocation jane smith', 0.011098606282368972)\n",
            "('initial implementation stage', 0.010886309915331096)\n",
            "('marketing manager', 0.010827613831033474)\n",
            "('constructive discussion', 0.009772556970086143)\n",
            "('brief discussion', 0.00975770172910912)\n",
            "('staff training software', 0.00929826979743241)\n",
            "('overall budgetary discipline', 0.00912664582920365)\n",
            "('location conference room', 0.009008459737027977)\n",
            "('procurement manager', 0.008952958065893617)\n",
            "('hr manager', 0.008691436019506258)\n",
            "('stable supply chain', 0.00866503164664769)\n",
            "('additional minor investment', 0.008611993740945395)\n",
            "('operation manager', 0.008322153849321053)\n",
            "('digital marketing', 0.008255621726026036)\n",
            "('recent recruitment effort', 0.008096826111963228)\n",
            "('plan jane', 0.007006530741440028)\n",
            "('equipment wich', 0.006902967141385595)\n",
            "('critical nature', 0.006847460346438156)\n",
            "('critical vacancy', 0.006834460632388331)\n",
            "('cleaning equipment', 0.00681407438670177)\n",
            "('procurement activity', 0.0066449803794995455)\n",
            "('immediate issue', 0.006497202734676508)\n",
            "('hr initiative', 0.0064827460968914724)\n",
            "('operational enhancement', 0.006411841088090596)\n",
            "('michael brown', 0.006392792650417931)\n",
            "('departmental update', 0.0061824923827799964)\n",
            "('initial estimate', 0.006025182725330617)\n",
            "('linda green', 0.005900090260101948)\n",
            "('longterm contract', 0.0057582293796815155)\n",
            "('richard lee', 0.00563680843266441)\n",
            "('early analytic', 0.005479219492508928)\n",
            "('qualified candidate', 0.005446206260439566)\n",
            "('strategic goal', 0.005339152779445062)\n",
            "('proactive contribution', 0.0053249039326970235)\n",
            "('date july', 0.0052120600910047655)\n",
            "('positive feedback', 0.0051541236194963935)\n",
            "('web traffic', 0.0051475306236515115)\n",
            "('promising increase', 0.005121816865307053)\n",
            "('service quality', 0.005096409247604501)\n",
            "('formal vote', 0.004949767757211175)\n",
            "('ongoing communication', 0.0049381958653898885)\n",
            "('small portion', 0.004912482107045429)\n",
            "('prudent decision', 0.004889954869689651)\n",
            "('regular checkin', 0.004885028909137272)\n",
            "('key supplier', 0.004862565698206925)\n",
            "('employee wellness', 0.0048007283209401536)\n",
            "('opening remark', 0.0047782010835843765)\n",
            "('customer inquiry', 0.0047782010835843765)\n",
            "('company', 0.004246526559899466)\n",
            "('white', 0.004191532686491889)\n",
            "('attendee', 0.004186031757447688)\n",
            "('launch', 0.004027328782506709)\n",
            "('headquarter', 0.0026913530157854264)\n",
            "('efficiency', 0.002667189540496883)\n",
            "('dedication', 0.0026382959244934247)\n",
            "('project', 0.0026078982916975706)\n",
            "('discrepancy', 0.002585495832487393)\n",
            "('october', 0.002428225193230717)\n",
            "('overview', 0.0023934027633945925)\n",
            "('participant', 0.002337991760168807)\n",
            "('negotiation', 0.002275991991401434)\n",
            "('saving', 0.00224061004368411)\n",
            "('fund', 0.0022239134443622693)\n",
            "('underway', 0.0022100916892936755)\n",
            "('campaign', 0.002196094944453576)\n",
            "('appreciation', 0.00217874068792028)\n",
            "('new', 0.0021746420975057848)\n",
            "('approval', 0.0021746420975057848)\n",
            "('team', 0.0021676392471068435)\n",
            "('cfo', 0.0021541406979610814)\n",
            "('floor', 0.0021503465152429447)\n",
            "('success', 0.0021462479248284495)\n",
            "('importance', 0.0021462479248284495)\n",
            "('effectiveness', 0.0021462479248284495)\n",
            "('acquisition', 0.0021462479248284495)\n"
          ]
        }
      ]
    },
    {
      "cell_type": "code",
      "source": [],
      "metadata": {
        "id": "sy0G-0R2ulH5"
      },
      "execution_count": null,
      "outputs": []
    },
    {
      "cell_type": "code",
      "source": [
        "import pickle\n",
        "\n",
        "# Save processed data and summary\n",
        "processed_data = {\n",
        "    'text': text,\n",
        "    'summary': summary_text\n",
        "}\n",
        "\n",
        "with open('processed_data.pkl', 'wb') as f:\n",
        "    pickle.dump(processed_data, f)\n",
        "\n",
        "# Download the PKL file\n",
        "files.download('processed_data.pkl')\n"
      ],
      "metadata": {
        "colab": {
          "base_uri": "https://localhost:8080/",
          "height": 17
        },
        "id": "2oOnGSOyvRCQ",
        "outputId": "268aee81-9db7-40fc-ee4d-3d09f9b9ec0f"
      },
      "execution_count": null,
      "outputs": [
        {
          "output_type": "display_data",
          "data": {
            "text/plain": [
              "<IPython.core.display.Javascript object>"
            ],
            "application/javascript": [
              "\n",
              "    async function download(id, filename, size) {\n",
              "      if (!google.colab.kernel.accessAllowed) {\n",
              "        return;\n",
              "      }\n",
              "      const div = document.createElement('div');\n",
              "      const label = document.createElement('label');\n",
              "      label.textContent = `Downloading \"${filename}\": `;\n",
              "      div.appendChild(label);\n",
              "      const progress = document.createElement('progress');\n",
              "      progress.max = size;\n",
              "      div.appendChild(progress);\n",
              "      document.body.appendChild(div);\n",
              "\n",
              "      const buffers = [];\n",
              "      let downloaded = 0;\n",
              "\n",
              "      const channel = await google.colab.kernel.comms.open(id);\n",
              "      // Send a message to notify the kernel that we're ready.\n",
              "      channel.send({})\n",
              "\n",
              "      for await (const message of channel.messages) {\n",
              "        // Send a message to notify the kernel that we're ready.\n",
              "        channel.send({})\n",
              "        if (message.buffers) {\n",
              "          for (const buffer of message.buffers) {\n",
              "            buffers.push(buffer);\n",
              "            downloaded += buffer.byteLength;\n",
              "            progress.value = downloaded;\n",
              "          }\n",
              "        }\n",
              "      }\n",
              "      const blob = new Blob(buffers, {type: 'application/binary'});\n",
              "      const a = document.createElement('a');\n",
              "      a.href = window.URL.createObjectURL(blob);\n",
              "      a.download = filename;\n",
              "      div.appendChild(a);\n",
              "      a.click();\n",
              "      div.remove();\n",
              "    }\n",
              "  "
            ]
          },
          "metadata": {}
        },
        {
          "output_type": "display_data",
          "data": {
            "text/plain": [
              "<IPython.core.display.Javascript object>"
            ],
            "application/javascript": [
              "download(\"download_78b8903c-adc7-439c-bd9b-4beffb268f83\", \"processed_data.pkl\", 4890)"
            ]
          },
          "metadata": {}
        }
      ]
    }
  ]
}