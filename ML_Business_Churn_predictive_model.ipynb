{
  "nbformat": 4,
  "nbformat_minor": 0,
  "metadata": {
    "colab": {
      "provenance": [],
      "toc_visible": true,
      "authorship_tag": "ABX9TyM8c8b32THkAp+n1STmFOcd",
      "include_colab_link": true
    },
    "kernelspec": {
      "name": "python3",
      "display_name": "Python 3"
    },
    "language_info": {
      "name": "python"
    }
  },
  "cells": [
    {
      "cell_type": "markdown",
      "metadata": {
        "id": "view-in-github",
        "colab_type": "text"
      },
      "source": [
        "<a href=\"https://colab.research.google.com/github/ARUGA0106/Datalab/blob/main/ML_Business_Churn_predictive_model.ipynb\" target=\"_parent\"><img src=\"https://colab.research.google.com/assets/colab-badge.svg\" alt=\"Open In Colab\"/></a>"
      ]
    },
    {
      "cell_type": "code",
      "execution_count": 3,
      "metadata": {
        "colab": {
          "base_uri": "https://localhost:8080/",
          "height": 518
        },
        "id": "3RT4hd2fwMUD",
        "outputId": "7f73035b-8d46-4cd4-8c3f-d877365c1546"
      },
      "outputs": [
        {
          "output_type": "stream",
          "name": "stdout",
          "text": [
            "Model accuracy: 0.79\n"
          ]
        },
        {
          "output_type": "display_data",
          "data": {
            "text/plain": [
              "<IPython.core.display.Javascript object>"
            ],
            "application/javascript": [
              "\n",
              "    async function download(id, filename, size) {\n",
              "      if (!google.colab.kernel.accessAllowed) {\n",
              "        return;\n",
              "      }\n",
              "      const div = document.createElement('div');\n",
              "      const label = document.createElement('label');\n",
              "      label.textContent = `Downloading \"${filename}\": `;\n",
              "      div.appendChild(label);\n",
              "      const progress = document.createElement('progress');\n",
              "      progress.max = size;\n",
              "      div.appendChild(progress);\n",
              "      document.body.appendChild(div);\n",
              "\n",
              "      const buffers = [];\n",
              "      let downloaded = 0;\n",
              "\n",
              "      const channel = await google.colab.kernel.comms.open(id);\n",
              "      // Send a message to notify the kernel that we're ready.\n",
              "      channel.send({})\n",
              "\n",
              "      for await (const message of channel.messages) {\n",
              "        // Send a message to notify the kernel that we're ready.\n",
              "        channel.send({})\n",
              "        if (message.buffers) {\n",
              "          for (const buffer of message.buffers) {\n",
              "            buffers.push(buffer);\n",
              "            downloaded += buffer.byteLength;\n",
              "            progress.value = downloaded;\n",
              "          }\n",
              "        }\n",
              "      }\n",
              "      const blob = new Blob(buffers, {type: 'application/binary'});\n",
              "      const a = document.createElement('a');\n",
              "      a.href = window.URL.createObjectURL(blob);\n",
              "      a.download = filename;\n",
              "      div.appendChild(a);\n",
              "      a.click();\n",
              "      div.remove();\n",
              "    }\n",
              "  "
            ]
          },
          "metadata": {}
        },
        {
          "output_type": "display_data",
          "data": {
            "text/plain": [
              "<IPython.core.display.Javascript object>"
            ],
            "application/javascript": [
              "download(\"download_80d31b75-6694-4d09-ac3c-12ba1b352737\", \"simba.pkl\", 400814)"
            ]
          },
          "metadata": {}
        },
        {
          "output_type": "stream",
          "name": "stdout",
          "text": [
            "Precision: 0.6959247648902821\n",
            "Recall: 0.5951742627345844\n",
            "F1 Score: 0.6416184971098265\n"
          ]
        },
        {
          "output_type": "display_data",
          "data": {
            "text/plain": [
              "<Figure size 640x480 with 2 Axes>"
            ],
            "image/png": "[encoded data removed]"
          },
          "metadata": {}
        }
      ],
      "source": [
        "# Import necessary libraries\n",
        "import pandas as pd\n",
        "from sklearn.linear_model import LogisticRegression\n",
        "from sklearn.model_selection import train_test_split\n",
        "from sklearn.metrics import precision_score, recall_score, f1_score\n",
        "from sklearn.metrics import confusion_matrix, ConfusionMatrixDisplay\n",
        "import seaborn as sn\n",
        "from sklearn.preprocessing import StandardScaler\n",
        "from sklearn.pipeline import Pipeline\n",
        "from sklearn.model_selection import train_test_split\n",
        "import joblib  # Ensure that joblib is imported\n",
        "from sklearn.pipeline import make_pipeline\n",
        "\n",
        "\n",
        "# load the telco churn dataset\n",
        "url = 'https://raw.githubusercontent.com/IBM/telco-customer-churn-on-icp4d/master/data/Telco-Customer-Churn.csv'\n",
        "df = pd.read_csv(url)\n",
        "\n",
        "# Pre-processing\n",
        "\n",
        "# Binary encode categorical variables\n",
        "df.drop('customerID', axis=1, inplace=True)\n",
        "df = pd.get_dummies(df, drop_first=True)\n",
        "\n",
        "# Prepare feature matrix and target vector\n",
        "X = df.drop('Churn_Yes', axis=1)\n",
        "y = df['Churn_Yes']\n",
        "\n",
        "# split the data into training and testing sets\n",
        "X_train, X_test, y_train, y_test = train_test_split(X, y, test_size=0.2, random_state=42)\n",
        "\n",
        "# Create a logistic regression object\n",
        "model = LogisticRegression()\n",
        "\n",
        "# Train the model on the training set\n",
        "# perform autoscalling to avoid iteration error and convergence\n",
        "\n",
        "scaler = StandardScaler()\n",
        "model = LogisticRegression(max_iter=1000)\n",
        "pipeline = make_pipeline(scaler, model)\n",
        "pipeline.fit(X_train, y_train)\n",
        "\n",
        "# Evaluate the model on the test data\n",
        "accuracy = pipeline.score(X_test, y_test)\n",
        "print(f\"Model accuracy: {accuracy:.2f}\")\n",
        "\n",
        "# Save the model to a file\n",
        "joblib_file = \"simba.pkl\"\n",
        "joblib.dump(pipeline, joblib_file)\n",
        "\n",
        "# Download the file to your local machine\n",
        "from google.colab import files\n",
        "files.download(joblib_file)\n",
        "\n",
        "# Train the model on the training set\n",
        "model.fit(X_train, y_train)\n",
        "\n",
        "# Make predictions on the testing set\n",
        "y_pred = model.predict(X_test)\n",
        "\n",
        "# Evaluate the performance of the model\n",
        "conf_matrix = confusion_matrix(y_test, y_pred)\n",
        "precision = precision_score(y_test, y_pred)\n",
        "recall = recall_score(y_test, y_pred)\n",
        "f1 = f1_score(y_test, y_pred)\n",
        "\n",
        "# Plot confusion matrix\n",
        "disp = ConfusionMatrixDisplay(confusion_matrix=conf_matrix, display_labels=model.classes_)\n",
        "disp.plot()\n",
        "\n",
        "# Print the evaluation metrics and plot the confusion matrix\n",
        "print(\"Precision:\", precision)\n",
        "print(\"Recall:\", recall)\n",
        "print(\"F1 Score:\", f1)\n"
      ]
    },
    {
      "cell_type": "markdown",
      "source": [
        "\n",
        "**ML MODEL FOR BUSINESS CHURN PREDICTION**\n",
        "\n",
        "Godwin s.Aruga\n",
        "\n",
        "Data Analyst & ML\n",
        "\n",
        "CyberCoders TM, DIT, IEEE.\n",
        "\n",
        "DataLab project.\n",
        "\n",
        "This model addresses the problem of predicting customer churn for a telecommunications company using the Telco Customer Churn dataset. Customer churn refers to the phenomenon where customers stop using a company's service. Predicting churn is crucial for businesses as it allows them to take proactive measures to retain customers, thereby reducing loss and improving profitability.\n",
        "\n",
        "The model employs Logistic Regression, a widely used statistical method for binary classification problems. The dataset is first preprocessed by encoding categorical variables into binary format and dropping irrelevant columns, such as 'customerID'. The data is then split into training and testing sets to evaluate the model's performance. To enhance the model's accuracy and ensure convergence during training, the features are standardized using StandardScaler, which scales the data to have a mean of zero and a standard deviation of one.\n",
        "\n",
        "A pipeline is created to streamline the preprocessing and modeling steps, combining the StandardScaler and LogisticRegression into a single workflow. The model is trained on the training set and evaluated on the testing set, achieving an accuracy score that quantifies its performance. Key performance metrics such as precision, recall, and F1 score are also calculated to provide a comprehensive evaluation of the model's ability to predict churn. Additionally, a confusion matrix is plotted to visualize the model's performance in distinguishing between churned and non-churned customers.\n",
        "\n",
        "The trained model is then saved to a file using joblib for future use and downloaded from Google Colab to a local machine. This model can be integrated into a user-friendly front-end application to make predictions on new customer data, helping the business to identify at-risk customers and take measures to retain them.\n",
        "\n",
        "ASANTE SANA,"
      ],
      "metadata": {
        "id": "KBl6sgWJzUmn"
      }
    },
    {
      "cell_type": "markdown",
      "source": [],
      "metadata": {
        "id": "vQHqYIjLydt4"
      }
    },
    {
      "cell_type": "markdown",
      "source": [],
      "metadata": {
        "id": "AUs7YfYgyfqN"
      }
    }
  ]
}